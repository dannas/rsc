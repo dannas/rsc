{
 "cells": [
  {
   "cell_type": "markdown",
   "metadata": {},
   "source": [
    "# Prelude"
   ]
  },
  {
   "cell_type": "code",
   "execution_count": 12,
   "metadata": {
    "collapsed": true
   },
   "outputs": [],
   "source": [
    "\n",
    "def Input(day):\n",
    "    filename = 'advent2017/input{}.txt'.format(day)\n",
    "    return open(filename)\n",
    "\n",
    "def mapt(fn, iterable):\n",
    "    return tuple(map(fn, iterable))\n",
    "\n",
    "# TODO(dannas): See Norvig 2017 for full definition of  array/vector/mapt\n",
    "def array(lines):\n",
    "    return [mapt(int, L.split()) for L in lines.splitlines()]\n",
    "\n",
    "def first(iterable):\n",
    "    return next(iter(iterable))\n",
    "\n",
    "def quantify(iterable, pred=bool):\n",
    "    return sum(map(pred, iterable))\n",
    "\n",
    "cat = ''.join\n",
    "\n",
    "def canon(items, typ=None):\n",
    "    typ = typ or (cat if isinstance(items, str) else tuple)\n",
    "    return typ(sorted(items))\n",
    "\n",
    "def count_from(start):\n",
    "    while True:\n",
    "        yield start\n",
    "        start += 1"
   ]
  },
  {
   "cell_type": "markdown",
   "metadata": {},
   "source": [
    "# Day 1"
   ]
  },
  {
   "cell_type": "code",
   "execution_count": 9,
   "metadata": {
    "collapsed": false
   },
   "outputs": [
    {
     "data": {
      "text/plain": [
       "1251"
      ]
     },
     "execution_count": 9,
     "metadata": {},
     "output_type": "execute_result"
    }
   ],
   "source": [
    "s = Input(1).read().strip()\n",
    "digits = mapt(int, s)\n",
    "\n",
    "N = len(digits)\n",
    "\n",
    "sum(digits[i] \n",
    "    for i in range(N) \n",
    "    if digits[i-1] == digits[i])\n"
   ]
  },
  {
   "cell_type": "code",
   "execution_count": 26,
   "metadata": {
    "collapsed": false
   },
   "outputs": [
    {
     "data": {
      "text/plain": [
       "1244"
      ]
     },
     "execution_count": 26,
     "metadata": {},
     "output_type": "execute_result"
    }
   ],
   "source": [
    "sum(digits[i] \n",
    "    for i in range(N) \n",
    "    if digits[i - N//2] ==  digits[i])"
   ]
  },
  {
   "cell_type": "markdown",
   "metadata": {},
   "source": [
    "# Day 2"
   ]
  },
  {
   "cell_type": "code",
   "execution_count": 18,
   "metadata": {
    "collapsed": false
   },
   "outputs": [
    {
     "data": {
      "text/plain": [
       "41887"
      ]
     },
     "execution_count": 18,
     "metadata": {},
     "output_type": "execute_result"
    }
   ],
   "source": [
    "rows = array(Input(2).read())\n",
    "sum(max(row) - min(row) for row in rows)"
   ]
  },
  {
   "cell_type": "code",
   "execution_count": 25,
   "metadata": {
    "collapsed": false
   },
   "outputs": [
    {
     "data": {
      "text/plain": [
       "226.0"
      ]
     },
     "execution_count": 25,
     "metadata": {},
     "output_type": "execute_result"
    }
   ],
   "source": [
    "def evendiv(row):\n",
    "    return first(x/y for x in row for y in row if x > y and x % y ==  0)\n",
    "\n",
    "sum(mapt(evendiv, rows))"
   ]
  },
  {
   "cell_type": "markdown",
   "metadata": {},
   "source": [
    "# Day 3"
   ]
  },
  {
   "cell_type": "markdown",
   "metadata": {},
   "source": [
    "# Day 4"
   ]
  },
  {
   "cell_type": "code",
   "execution_count": 32,
   "metadata": {
    "collapsed": false
   },
   "outputs": [
    {
     "data": {
      "text/plain": [
       "325"
      ]
     },
     "execution_count": 32,
     "metadata": {},
     "output_type": "execute_result"
    }
   ],
   "source": [
    "def is_valid(line):\n",
    "    words = line.split()\n",
    "    return len(words) == len(set(words))\n",
    "\n",
    "quantify(Input(4), is_valid)"
   ]
  },
  {
   "cell_type": "code",
   "execution_count": 41,
   "metadata": {
    "collapsed": false
   },
   "outputs": [
    {
     "data": {
      "text/plain": [
       "119"
      ]
     },
     "execution_count": 41,
     "metadata": {},
     "output_type": "execute_result"
    }
   ],
   "source": [
    "def is_valid(line):\n",
    "    words = mapt(canon, line.split())\n",
    "    return len(words) == len(set(words))\n",
    "quantify(Input(4), is_valid)"
   ]
  },
  {
   "cell_type": "markdown",
   "metadata": {
    "collapsed": true
   },
   "source": [
    "## Day 5"
   ]
  },
  {
   "cell_type": "code",
   "execution_count": 11,
   "metadata": {
    "collapsed": false
   },
   "outputs": [
    {
     "data": {
      "text/plain": [
       "375042"
      ]
     },
     "execution_count": 11,
     "metadata": {},
     "output_type": "execute_result"
    }
   ],
   "source": [
    "def jumps(): return [int(x) for x in Input(5)]\n",
    "\n",
    "def run(M):\n",
    "    pc = 0\n",
    "    for steps in count_from(1):\n",
    "        oldpc = pc\n",
    "        pc += M[pc]\n",
    "        M[oldpc] += 1\n",
    "        if pc not in range(len(M)):\n",
    "            return steps\n",
    "\n",
    "run(jumps())"
   ]
  },
  {
   "cell_type": "code",
   "execution_count": 15,
   "metadata": {
    "collapsed": false
   },
   "outputs": [
    {
     "data": {
      "text/plain": [
       "28707598"
      ]
     },
     "execution_count": 15,
     "metadata": {},
     "output_type": "execute_result"
    }
   ],
   "source": [
    "def run2(M):\n",
    "    pc = 0\n",
    "    for steps in count_from(1):\n",
    "        oldpc = pc\n",
    "        offset = M[pc]\n",
    "        pc += M[pc]\n",
    "        M[oldpc] += (-1 if offset >= 3 else 1)\n",
    "        if pc not in range(len(M)):\n",
    "            return steps\n",
    "    \n",
    "run2(jumps())\n",
    "            "
   ]
  },
  {
   "cell_type": "code",
   "execution_count": 14,
   "metadata": {
    "collapsed": false
   },
   "outputs": [
    {
     "name": "stdout",
     "output_type": "stream",
     "text": [
      "1 loop, best of 3: 15.5 s per loop\n"
     ]
    }
   ],
   "source": [
    "%timeit run2(jumps())"
   ]
  },
  {
   "cell_type": "markdown",
   "metadata": {
    "collapsed": true
   },
   "source": [
    "## Day 6"
   ]
  },
  {
   "cell_type": "code",
   "execution_count": 13,
   "metadata": {
    "collapsed": false
   },
   "outputs": [
    {
     "data": {
      "text/plain": [
       "11137"
      ]
     },
     "execution_count": 13,
     "metadata": {},
     "output_type": "execute_result"
    }
   ],
   "source": [
    "def realloc(banks):\n",
    "    seen = {banks}\n",
    "    for cycles in count_from(1):\n",
    "        banks = spread(banks)\n",
    "        if banks in seen:\n",
    "            return cycles\n",
    "        seen.add(banks)\n",
    "\n",
    "def spread(banks):\n",
    "    \"Spread the max block evenly among all blocks\"\n",
    "    banks = list(banks)\n",
    "    maxi = banks.index(max(banks))\n",
    "    blocks = banks[maxi]\n",
    "    banks[maxi] = 0 \n",
    "    for i in range(maxi+1, maxi+1+blocks):\n",
    "        banks[i % len(banks)] += 1\n",
    "    return tuple(banks)\n",
    "\n",
    "example = (0, 2, 7, 0)\n",
    "spread(example)\n",
    "\n",
    "banks = tuple(int(x) for x in Input(6).read().split())\n",
    "realloc(banks)\n"
   ]
  },
  {
   "cell_type": "code",
   "execution_count": 15,
   "metadata": {
    "collapsed": false
   },
   "outputs": [
    {
     "data": {
      "text/plain": [
       "1037"
      ]
     },
     "execution_count": 15,
     "metadata": {},
     "output_type": "execute_result"
    }
   ],
   "source": [
    "def realloc2(banks):\n",
    "    seen = {banks: 0}\n",
    "    for cycles in count_from(1):\n",
    "        banks = spread(banks)\n",
    "        if banks in seen:\n",
    "            return cycles - seen[banks]\n",
    "        seen[banks] = cycles\n",
    "realloc2(banks)"
   ]
  },
  {
   "cell_type": "markdown",
   "metadata": {},
   "source": [
    "I learned from reddit/adventofcode that I could have used an even simpler algorithm, by storing each generated permutation in a list."
   ]
  },
  {
   "cell_type": "code",
   "execution_count": 28,
   "metadata": {
    "collapsed": false
   },
   "outputs": [
    {
     "name": "stdout",
     "output_type": "stream",
     "text": [
      "1037\n",
      "1037\n"
     ]
    }
   ],
   "source": [
    "# TODO(dannas): Why doesn't this give the correct answer?\n",
    "banks = list(banks)\n",
    "\n",
    "L = []\n",
    "L.append(banks[:])\n",
    "while True:\n",
    "    m = max(banks)\n",
    "    pos = banks.index(m)\n",
    "    banks[pos] = 0\n",
    "    for i in range(pos+1, pos+1+m):\n",
    "        banks[i% len(banks)] += 1\n",
    "    if banks in L:\n",
    "        break\n",
    "    L.append(banks[:])\n",
    "\n",
    "print(len(L))\n",
    "print(len(L) - L.index(banks))  # part 2"
   ]
  },
  {
   "cell_type": "code",
   "execution_count": null,
   "metadata": {
    "collapsed": true
   },
   "outputs": [],
   "source": []
  }
 ],
 "metadata": {
  "kernelspec": {
   "display_name": "Python 3",
   "language": "python",
   "name": "python3"
  },
  "language_info": {
   "codemirror_mode": {
    "name": "ipython",
    "version": 3
   },
   "file_extension": ".py",
   "mimetype": "text/x-python",
   "name": "python",
   "nbconvert_exporter": "python",
   "pygments_lexer": "ipython3",
   "version": "3.5.3"
  }
 },
 "nbformat": 4,
 "nbformat_minor": 2
}
