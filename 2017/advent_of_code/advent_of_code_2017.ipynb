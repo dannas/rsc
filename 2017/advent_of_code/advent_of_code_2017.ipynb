{
 "cells": [
  {
   "cell_type": "markdown",
   "metadata": {},
   "source": [
    "# December 2017: Advent of Code Solutions\n",
    "## Daniel Näslund\n",
    "From Dec. 1 to Dec. 25, [I](dannas.name) will be solving the puzzles that appear each day at [Advent of Code](http://adventofcode.com/). The two-part puzzles are released at midnight EST (6:00AM CET); points are awarded to the first 100 people to solve the day's puzzles. \n",
    "\n",
    "To understand the problems completely, you will have to read the full description in the \"[Day 1](http://adventofcode.com/2017/day/1):\" link in each day's section header."
   ]
  },
  {
   "cell_type": "markdown",
   "metadata": {},
   "source": [
    "##  Prelude\n",
    "Here I import common functions and modules so I don't have to do it each day.\n",
    "These are borrowed from [Peter Norvigs Advent of Code solutions](https://github.com/norvig/pytudes/blob/master/ipynb/Advent%20of%20Code.ipynb) from 2016. I've also reused his ipython notebook layout."
   ]
  },
  {
   "cell_type": "code",
   "execution_count": 25,
   "metadata": {
    "collapsed": false
   },
   "outputs": [],
   "source": [
    "# Python 3.x\n",
    "from itertools import islice, cycle, permutations\n",
    "import operator\n",
    "\n",
    "cat = ''.join\n",
    "def Input(day):\n",
    "    filename = 'advent2017/input{}.txt'.format(day);\n",
    "    return open(filename);\n",
    "    # TODO(dannas): Fetch the files from elsewhere to allow remote access\n",
    "\n",
    "def quantify(iterable, pred=bool):\n",
    "    return sum(map(pred, iterable))\n",
    "    \n",
    "# 2-D points implemented using (x, y) tuples\n",
    "def X(point): return point[0]\n",
    "def Y(point): return point[1]\n",
    "\n",
    "def neighbors8(point):\n",
    "    \"The eight neighbors (with diagonals)\"\n",
    "    x, y =  point\n",
    "    return ((x+1, y), (x-1, y), (x, y+1), (x, y-1),\n",
    "           (x+1, y+1), (x-1, y-1), (x+1, y-1), (x-1, y+1))\n",
    "\n",
    "def cityblock_distance(p, q=(0, 0)): \n",
    "    \"City block distance between two points.\"\n",
    "    return abs(X(p) - X(q)) + abs(Y(p) - Y(q))"
   ]
  },
  {
   "cell_type": "markdown",
   "metadata": {},
   "source": [
    "## [Day 1](http://adventofcode.com/2017/day/1): Inverse Captcha\n",
    "Given a file of digits, find the sum of all digits that match the next digit in the list. The list is circular, so the digit after the last digit is the first digit in the list.\n",
    "\n",
    "We need to parse with one token lookahead, it's enough to append the first digit to the end of the list for handling the circular case."
   ]
  },
  {
   "cell_type": "code",
   "execution_count": 3,
   "metadata": {
    "collapsed": false
   },
   "outputs": [
    {
     "data": {
      "text/plain": [
       "1251"
      ]
     },
     "execution_count": 3,
     "metadata": {},
     "output_type": "execute_result"
    }
   ],
   "source": [
    "def pairs(seq):\n",
    "    return zip(seq[:-1], seq[1:])\n",
    "\n",
    "def solve_captcha(str):\n",
    "    digits = [int(d) for d in str] \n",
    "    if len(digits) < 2:\n",
    "        return 0\n",
    "    digits.append(digits[0])\n",
    "    return sum(x for x, y in pairs(digits) if x == y)\n",
    "    \n",
    "solve_captcha(Input(1).read().strip())"
   ]
  },
  {
   "cell_type": "markdown",
   "metadata": {},
   "source": [
    "In **part 2** we shall compare the digit halfway around the circular list to the current one. The list has an even number of elements.\n",
    "\n",
    "This require N/2 token lookahead instad of one. I could have appended the first half of the list to the end, but instead I opted for a circular queue. A circular queue can be implicitely represented using indexes that wrap around; or explicitely using an [ADT](https://docs.python.org/3.6/library/collections.html?highlight=deque#collections.deque.rotate); or using operations on iterators. I choose the later.\n",
    "\n",
    "The [cycle()](https://docs.python.org/3.6/library/itertools.html#itertools.cycle) function provides an iterator to an infinite circular representation of the list. With [islice](https://docs.python.org/3.6/library/itertools.html#itertools.islice) I can select my start and end position in that list."
   ]
  },
  {
   "cell_type": "code",
   "execution_count": 4,
   "metadata": {
    "collapsed": false
   },
   "outputs": [
    {
     "data": {
      "text/plain": [
       "1244"
      ]
     },
     "execution_count": 4,
     "metadata": {},
     "output_type": "execute_result"
    }
   ],
   "source": [
    "def pairs(seq):\n",
    "    N = len(seq)\n",
    "    half = int(N/2)\n",
    "    x = islice(cycle(seq), 0, N)\n",
    "    y = islice(cycle(seq), half, N + half)\n",
    "    return zip(x, y)\n",
    "\n",
    "def solve_captcha(str):\n",
    "    digits = [int(d) for d in str] \n",
    "    return sum(x for x, y in pairs(digits) if x == y)\n",
    "    \n",
    "solve_captcha(Input(1).read().strip())\n"
   ]
  },
  {
   "cell_type": "markdown",
   "metadata": {},
   "source": [
    "## [Day 2](http://adventofcode.com/2017/day/2): Corruption Checksum\n",
    "For each row in a spreadsheet, determine the difference between largest and smallest value; the checksum is the sum of all of these differences.\n",
    "\n",
    "I initially had some trouble parsing the input into a list of list of integers. It's been a while since I used Python."
   ]
  },
  {
   "cell_type": "code",
   "execution_count": 5,
   "metadata": {
    "collapsed": false
   },
   "outputs": [
    {
     "data": {
      "text/plain": [
       "41887"
      ]
     },
     "execution_count": 5,
     "metadata": {},
     "output_type": "execute_result"
    }
   ],
   "source": [
    "def maxmins(spreadsheet):\n",
    "    for row in spreadsheet:\n",
    "        yield max(row), min(row)\n",
    "\n",
    "def parse(line):\n",
    "    return tuple(int(x) for x in line.split())\n",
    "\n",
    "spreadsheet = [parse(line) for line in Input(2)]\n",
    "sum(x-y for x,y in maxmins(spreadsheet))"
   ]
  },
  {
   "cell_type": "markdown",
   "metadata": {},
   "source": [
    "In **part 2** we're asked to find the only two numbers in each row where one evenly divides the other - that is, where the result of the division operation is a whole number. Find those numbers on each line, divide them, and add up each line's result."
   ]
  },
  {
   "cell_type": "code",
   "execution_count": 6,
   "metadata": {
    "collapsed": false
   },
   "outputs": [
    {
     "data": {
      "text/plain": [
       "226.0"
      ]
     },
     "execution_count": 6,
     "metadata": {},
     "output_type": "execute_result"
    }
   ],
   "source": [
    "def evens(spreadsheet):\n",
    "   for row in spreadsheet:\n",
    "        for x, y in permutations(row, 2):\n",
    "            if x % y == 0:\n",
    "                yield x, y\n",
    "                \n",
    "def parse(line):\n",
    "    return tuple(int(x) for x in line.split())\n",
    "\n",
    "spreadsheet = [parse(line) for line in Input(2)]\n",
    "sum(x/y for x,y in evens(spreadsheet))\n"
   ]
  },
  {
   "cell_type": "markdown",
   "metadata": {
    "collapsed": true
   },
   "source": [
    "## [Day 3](http://adventofcode.com/2017/day/3): Spiral Memory\n",
    "Walk a a grid in a spiral pattern, a specified number of steps. Then calculate the manhattan distance to the origin.\n",
    "\n",
    "The trace of steps will form a nested set of cubes. I tried to come up with a neat formula for describing how the the number of points in those cubes increases. Failed. Instead I experimented on paper and found that we increase the sides when we turn East and West.\n",
    "\n",
    "I decided to represent the points using x,y tuples. I considered using complex numbers first. The walk() function was originally a long list of explicit steps. I then extracted the common parts and ended up with the move and turn functions.\n",
    "\n",
    "Representing the direction as vectors (2 element tuples of x and y) and using vector addition was a heureka moment for me."
   ]
  },
  {
   "cell_type": "code",
   "execution_count": 5,
   "metadata": {
    "collapsed": false
   },
   "outputs": [
    {
     "data": {
      "text/plain": [
       "419"
      ]
     },
     "execution_count": 5,
     "metadata": {},
     "output_type": "execute_result"
    }
   ],
   "source": [
    "E, N, W, S = [(1, 0), (0, 1), (-1, 0), (0, -1)]    \n",
    "\n",
    "def move(pos, direction):\n",
    "    return (X(pos) + X(direction), Y(pos) + Y(direction))\n",
    "\n",
    "def turn(direction, num_steps):\n",
    "    changes = {\n",
    "        E : (N, 0),\n",
    "        N : (W, 1),\n",
    "        W : (S, 0),\n",
    "        S : (E, 1),\n",
    "    }\n",
    "    d, delta = changes[direction]\n",
    "    return d, num_steps + delta\n",
    "\n",
    "\n",
    "def walk(total_steps):\n",
    "    pos = (0, 0)\n",
    "    num_steps = 1\n",
    "    walked = 0\n",
    "    direction = E\n",
    "    \n",
    "    while total_steps > 0:\n",
    "        walked += 1\n",
    "        pos = move(pos, direction)\n",
    "        if walked == num_steps:\n",
    "            direction, num_steps = turn(direction, num_steps)\n",
    "            walked = 0\n",
    "\n",
    "        total_steps -= 1\n",
    "    return pos\n",
    "\n",
    "pos = walk(289326 - 1)\n",
    "\n",
    "cityblock_distance(pos)"
   ]
  },
  {
   "cell_type": "markdown",
   "metadata": {},
   "source": [
    "In **part 2** we're asked to, for each field, store the sum of previously visited fields, including diagonals. The center point has value 1. Once a field is written, its value doesn't change. \n",
    "\n",
    "I spent a lot of time trying to come up with a clever algorithm for determining which neighbors to a field was already visited. Then I had an euphyfany and realized that I could compare all 8 possible adjacent fields, if I had stored a mapping between visited fields and their sums. Determine the first value written that is larger than the puzzle input."
   ]
  },
  {
   "cell_type": "code",
   "execution_count": 10,
   "metadata": {
    "collapsed": false
   },
   "outputs": [
    {
     "data": {
      "text/plain": [
       "295229"
      ]
     },
     "execution_count": 10,
     "metadata": {},
     "output_type": "execute_result"
    }
   ],
   "source": [
    "square_values = {}\n",
    "\n",
    "def neighbour_sum(pos, direction):\n",
    "    return sum(square_values[N] for N in neighbors8(pos) if N in square_values)\n",
    "   \n",
    "def walk(lower_limit):\n",
    "    pos = (0, 0)\n",
    "    square_values[pos] = 1\n",
    "    num_steps = 1\n",
    "    walked = 0\n",
    "    direction = E\n",
    "    \n",
    "    while square_values[pos] <= lower_limit:\n",
    "        walked += 1\n",
    "        pos = move(pos, direction)\n",
    "        square_values[pos] = neighbour_sum(pos, direction)\n",
    "        if walked == num_steps:\n",
    "            direction, num_steps = turn(direction, num_steps)\n",
    "            walked = 0\n",
    "    return square_values[pos]\n",
    "\n",
    "walk(289326)"
   ]
  },
  {
   "cell_type": "markdown",
   "metadata": {
    "collapsed": true
   },
   "source": [
    "## [Day 4](http://adventofcode.com/2017/day/4): High-Entropy Passphrases\n",
    "How many pass phrases are valid, a.k.a. do not contain duplicated words?"
   ]
  },
  {
   "cell_type": "code",
   "execution_count": 17,
   "metadata": {
    "collapsed": false
   },
   "outputs": [
    {
     "data": {
      "text/plain": [
       "325"
      ]
     },
     "execution_count": 17,
     "metadata": {},
     "output_type": "execute_result"
    }
   ],
   "source": [
    "lines = [L for L in Input(4)]\n",
    "\n",
    "def is_valid(line):\n",
    "    words = line.split()\n",
    "    return len(words) == len(set(words))\n",
    "\n",
    "sum(1 if is_valid(line) else 0 \n",
    "    for line in lines)"
   ]
  },
  {
   "cell_type": "markdown",
   "metadata": {},
   "source": [
    "In **part 2** we're asked how many passphrases are valid, this time with the added requirement that no words in the passphrase can be an anagram of another word.\n",
    "\n",
    "I remember this one from the chapter Aha! Algorithms in the book Programming Pearls. In that book, Jon meant that detecting anagrams is an example of an algorithm that people may bank their head against the wall with until they finally hits the insight. Thankfully, I was already familiar with it."
   ]
  },
  {
   "cell_type": "code",
   "execution_count": 18,
   "metadata": {
    "collapsed": false
   },
   "outputs": [
    {
     "data": {
      "text/plain": [
       "119"
      ]
     },
     "execution_count": 18,
     "metadata": {},
     "output_type": "execute_result"
    }
   ],
   "source": [
    "def is_valid(line):\n",
    "    words = [cat(sorted(w)) for w in line.split()]\n",
    "    return len(words) == len(set(words))\n",
    "\n",
    "sum(1 if is_valid(line) else 0\n",
    "     for line in lines)"
   ]
  },
  {
   "cell_type": "markdown",
   "metadata": {
    "collapsed": true
   },
   "source": [
    "## [Day 5](http://adventofcode.com/2017/day/5): A Maze of Twisty Trampolines, All Alike\n",
    "Given a list of relative jumps, determine the number of steps neccessary to reach a destination outside the list. There's a quirk: The jump instructions increment by one upon being visited.\n",
    "\n",
    "I first wrote this as a straightforward loop. Had one bug: I interpreted the jumps as absolute positions at first. I'm borrowing the quantify function which I found in Peter Norvigs 2017 Advent of Code solution Jupyter notebook."
   ]
  },
  {
   "cell_type": "code",
   "execution_count": 33,
   "metadata": {
    "collapsed": false
   },
   "outputs": [
    {
     "data": {
      "text/plain": [
       "375042"
      ]
     },
     "execution_count": 33,
     "metadata": {},
     "output_type": "execute_result"
    }
   ],
   "source": [
    "def jumps(instr):\n",
    "    pos = 0\n",
    "    while pos >= 0 and pos < N:\n",
    "        old = pos\n",
    "        yield pos\n",
    "        pos += instr[pos]\n",
    "        instr[old] += 1\n",
    "    yield pos\n",
    "        \n",
    "quantify(jumps([int(x) for x in Input(5)]))"
   ]
  },
  {
   "cell_type": "markdown",
   "metadata": {
    "collapsed": true
   },
   "source": [
    "In **part 2** we're asked to again calculate number of steps. After each jump, if the offset was 3 or more, decrement it by 1 else increment it by 1.\n",
    "\n",
    "I wrote jumps2 as a function that returned the number of steps. Then I rewrote it to yield values instead. That caused the running time to increase from \"almost instant\" to 8s. Doh. Keeping it as-is, since I accidentily removed the original solution (and I don't understand how  Jupyter handles editing history - I want my vi editor instead of  this webbrowser madness!)"
   ]
  },
  {
   "cell_type": "code",
   "execution_count": 39,
   "metadata": {
    "collapsed": false
   },
   "outputs": [
    {
     "data": {
      "text/plain": [
       "28707598"
      ]
     },
     "execution_count": 39,
     "metadata": {},
     "output_type": "execute_result"
    }
   ],
   "source": [
    "def jumps2(instr):\n",
    "    pos = 0\n",
    "    while pos >= 0 and pos < N:\n",
    "        old = pos\n",
    "        yield pos\n",
    "        offset = instr[pos]\n",
    "        pos += instr[pos]\n",
    "        if offset >= 3:\n",
    "            instr[old] -= 1\n",
    "        else:\n",
    "            instr[old] += 1\n",
    "    yield pos\n",
    "\n",
    "quantify(jumps2([int(x) for x in Input(5)]))"
   ]
  },
  {
   "cell_type": "code",
   "execution_count": 40,
   "metadata": {
    "collapsed": false
   },
   "outputs": [
    {
     "name": "stdout",
     "output_type": "stream",
     "text": [
      "1 loop, best of 3: 8.16 s per loop\n"
     ]
    }
   ],
   "source": [
    "%timeit quantify(jumps2([int(x) for x in Input(5)]))"
   ]
  },
  {
   "cell_type": "code",
   "execution_count": null,
   "metadata": {
    "collapsed": true
   },
   "outputs": [],
   "source": []
  }
 ],
 "metadata": {
  "kernelspec": {
   "display_name": "Python 3",
   "language": "python",
   "name": "python3"
  },
  "language_info": {
   "codemirror_mode": {
    "name": "ipython",
    "version": 3
   },
   "file_extension": ".py",
   "mimetype": "text/x-python",
   "name": "python",
   "nbconvert_exporter": "python",
   "pygments_lexer": "ipython3",
   "version": "3.5.3"
  }
 },
 "nbformat": 4,
 "nbformat_minor": 2
}
