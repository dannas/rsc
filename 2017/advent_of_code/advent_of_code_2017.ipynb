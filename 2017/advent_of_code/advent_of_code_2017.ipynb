{
 "cells": [
  {
   "cell_type": "markdown",
   "metadata": {},
   "source": [
    "# December 2017: Advent of Code Solutions\n",
    "## Daniel Näslund\n",
    "From Dec. 1 to Dec. 25, [I](dannas.name) will be solving the puzzles that appear each day at [Advent of Code](http://adventofcode.com/). The two-part puzzles are released at midnight EST (6:00AM CET); points are awarded to the first 100 people to solve the day's puzzles. \n",
    "\n",
    "To understand the problems completely, you will have to read the full description in the \"[Day 1](http://adventofcode.com/2017/day/1):\" link in each day's section header."
   ]
  },
  {
   "cell_type": "markdown",
   "metadata": {},
   "source": [
    "##  Prelude\n",
    "Here I import common functions and modules so I don't have to do it each day.\n",
    "These are borrowed from [Peter Norvigs Advent of Code solutions](https://github.com/norvig/pytudes/blob/master/ipynb/Advent%20of%20Code.ipynb) from 2016. I've also reused his ipython notebook layout."
   ]
  },
  {
   "cell_type": "code",
   "execution_count": 1,
   "metadata": {
    "collapsed": false
   },
   "outputs": [],
   "source": [
    "# Python 3.x\n",
    "from itertools import islice, cycle, permutations\n",
    "import operator\n",
    "\n",
    "cat = ''.join\n",
    "def Input(day):\n",
    "    filename = 'advent2017/input{}.txt'.format(day);\n",
    "    return open(filename);\n",
    "    # TODO(dannas): Fetch the files from elsewhere to allow remote access\n",
    "    \n",
    "# 2-D points implemented using (x, y) tuples\n",
    "def X(point): return point[0]\n",
    "def Y(point): return point[1]\n",
    "\n",
    "def cityblock_distance(p, q=(0, 0)): \n",
    "    \"City block distance between two points.\"\n",
    "    return abs(X(p) - X(q)) + abs(Y(p) - Y(q))"
   ]
  },
  {
   "cell_type": "markdown",
   "metadata": {},
   "source": [
    "# [Day 1](http://adventofcode.com/2017/day/1): Inverse Captcha\n",
    "Given a file of digits, find the sum of all digits that match the next digit in the list. The list is circular, so the digit after the last digit is the first digit in the list.\n",
    "\n",
    "We need to parse with one token lookahead, it's enough to append the first digit to the end of the list for handling the circular case."
   ]
  },
  {
   "cell_type": "code",
   "execution_count": null,
   "metadata": {
    "collapsed": false
   },
   "outputs": [],
   "source": [
    "def pairs(seq):\n",
    "    return zip(seq[:-1], seq[1:])\n",
    "\n",
    "def solve_captcha(str):\n",
    "    digits = [int(d) for d in str] \n",
    "    if len(digits) < 2:\n",
    "        return 0\n",
    "    digits.append(digits[0])\n",
    "    return sum(x for x, y in pairs(digits) if x == y)\n",
    "    \n",
    "solve_captcha(Input(1).read().strip())"
   ]
  },
  {
   "cell_type": "markdown",
   "metadata": {},
   "source": [
    "In **part 2** we shall compare the digit halfway around the circular list to the current one. The list has an even number of elements.\n",
    "\n",
    "This require N/2 token lookahead instad of one. I could have appended the first half of the list to the end, but instead I opted for a circular queue. A circular queue can be implicitely represented using indexes that wrap around; or explicitely using an [ADT](https://docs.python.org/3.6/library/collections.html?highlight=deque#collections.deque.rotate); or using operations on iterators. I choose the later.\n",
    "\n",
    "The [cycle()](https://docs.python.org/3.6/library/itertools.html#itertools.cycle) function provides an iterator to an infinite circular representation of the list. With [islice](https://docs.python.org/3.6/library/itertools.html#itertools.islice) I can select my start and end position in that list."
   ]
  },
  {
   "cell_type": "code",
   "execution_count": null,
   "metadata": {
    "collapsed": false
   },
   "outputs": [],
   "source": [
    "def pairs(seq):\n",
    "    N = len(seq)\n",
    "    half = int(N/2)\n",
    "    x = islice(cycle(seq), 0, N)\n",
    "    y = islice(cycle(seq), half, N + half)\n",
    "    return zip(x, y)\n",
    "\n",
    "def solve_captcha(str):\n",
    "    digits = [int(d) for d in str] \n",
    "    return sum(x for x, y in pairs(digits) if x == y)\n",
    "    \n",
    "solve_captcha(Input(1).read().strip())\n"
   ]
  },
  {
   "cell_type": "markdown",
   "metadata": {},
   "source": [
    "## [Day 2](http://adventofcode.com/2017/day/2): Corruption Checksum\n",
    "For each row in a spreadsheet, determine the difference between largest and smallest value; the checksum is the sum of all of these differences.\n",
    "\n",
    "I initially had some trouble parsing the input into a list of list of integers. It's been a while since I used Python."
   ]
  },
  {
   "cell_type": "code",
   "execution_count": null,
   "metadata": {
    "collapsed": false
   },
   "outputs": [],
   "source": [
    "def maxmins(spreadsheet):\n",
    "    for row in spreadsheet:\n",
    "        yield max(row), min(row)\n",
    "\n",
    "def parse(line):\n",
    "    return tuple(int(x) for x in line.split())\n",
    "\n",
    "spreadsheet = [parse(line) for line in Input(2)]\n",
    "sum(x-y for x,y in maxmins(spreadsheet))"
   ]
  },
  {
   "cell_type": "markdown",
   "metadata": {},
   "source": [
    "In **part 2** we're asked to find the only two numbers in each row where one evenly divides the other - that is, where the result of the division operation is a whole number. Find those numbers on each line, divide them, and add up each line's result."
   ]
  },
  {
   "cell_type": "code",
   "execution_count": null,
   "metadata": {
    "collapsed": false
   },
   "outputs": [],
   "source": [
    "def evens(spreadsheet):\n",
    "   for row in spreadsheet:\n",
    "        for x, y in permutations(row, 2):\n",
    "            if x % y == 0:\n",
    "                yield x, y\n",
    "                \n",
    "def parse(line):\n",
    "    return tuple(int(x) for x in line.split())\n",
    "\n",
    "spreadsheet = [parse(line) for line in Input(2)]\n",
    "sum(x/y for x,y in evens(spreadsheet))\n"
   ]
  },
  {
   "cell_type": "markdown",
   "metadata": {
    "collapsed": true
   },
   "source": [
    "## [Day 3](http://adventofcode.com/2017/day/3): Spiral Memory\n",
    "TODO(dannas): Add description"
   ]
  },
  {
   "cell_type": "code",
   "execution_count": 11,
   "metadata": {
    "collapsed": false
   },
   "outputs": [
    {
     "data": {
      "text/plain": [
       "419"
      ]
     },
     "execution_count": 11,
     "metadata": {},
     "output_type": "execute_result"
    }
   ],
   "source": [
    "# How represent position? tuple (x,y) or complex number?\n",
    "# How move? A while loop and states?\n",
    "# Each side increments with step=2\n",
    "# E,N starts on 1\n",
    "# W,S starts on 2\n",
    "#\n",
    "# When in doubt, use brute force - Ken Thompsson\n",
    "# A while loop that steps down one step\n",
    "# state\n",
    "\n",
    "E, N, W, S = [(1, 0), (0, 1), (-1, 0), (0, -1)]    \n",
    "\n",
    "def move(pos, direction):\n",
    "    return (X(pos) + X(direction), Y(pos) + Y(direction))\n",
    "\n",
    "def turn(direction, num_steps):\n",
    "    changes = {\n",
    "        E : (N, 0),\n",
    "        N : (W, 1),\n",
    "        W : (S, 0),\n",
    "        S : (E, 1),\n",
    "    }\n",
    "    d, delta = changes[direction]\n",
    "    return d, num_steps + delta\n",
    "\n",
    "\n",
    "def walk(total_steps):\n",
    "    pos = (0, 0)\n",
    "    num_steps = 1\n",
    "    walked = 0\n",
    "    direction = E\n",
    "    \n",
    "    while total_steps > 0:\n",
    "        walked += 1\n",
    "        pos = move(pos, direction)\n",
    "        if walked == num_steps:\n",
    "            direction, num_steps = turn(direction, num_steps)\n",
    "            walked = 0\n",
    "\n",
    "        total_steps -= 1\n",
    "    return pos\n",
    "\n",
    "pos = walk(289326 - 1)\n",
    "\n",
    "cityblock_distance(pos)"
   ]
  },
  {
   "cell_type": "markdown",
   "metadata": {},
   "source": [
    "**part 2** TODO(dannas): Solve this task!!!"
   ]
  },
  {
   "cell_type": "code",
   "execution_count": 14,
   "metadata": {
    "collapsed": false
   },
   "outputs": [
    {
     "data": {
      "text/plain": [
       "307856"
      ]
     },
     "execution_count": 14,
     "metadata": {},
     "output_type": "execute_result"
    }
   ],
   "source": [
    "# We have positions and values\n",
    "# Position can be represented using a tuple\n",
    "# value can be a mapping from tuples to val  (x, y) => val\n",
    "# We want to know the neighbours values\n",
    "# So we need  neighbours() function\n",
    "# Looks like corners has 2 neighbours\n",
    "#            the other ones have 3 neighbours\n",
    "# Special case: The first two positions has only one value\n",
    "\n",
    "# For determining neighbours I need to know the current direction\n",
    "# How about representing directions as unit vectors?\n",
    "# That vector can be represented using a tuple\n",
    "\n",
    "square_values = {}\n",
    "\n",
    "# TODO(dannas): Figure out the pattern for which unit vectors that\n",
    "# represents neighbours\n",
    "def neighbour_sum(pos, direction):\n",
    "    nsum = 0\n",
    "    mappings = {\n",
    "        W : [(0, -1), (-1, -1), ( 1, 0)],\n",
    "        E : [(0,  1), (-1,  1), (-1, 0)],\n",
    "        N : [(0, -1), (-1, -1), (-1, 0)],\n",
    "        S : [(0,  1), ( 1,  0), ( 1, 1)]\n",
    "    }\n",
    "    \n",
    "    for n in mappings[direction]:\n",
    "        np = move(pos, n)\n",
    "        if np in square_values:\n",
    "            nsum += square_values[np]\n",
    "    return nsum\n",
    "   \n",
    "def walk(lower_limit):\n",
    "    pos = (0, 0)\n",
    "    square_values[pos] = 1\n",
    "    num_steps = 1\n",
    "    walked = 0\n",
    "    direction = E\n",
    "    \n",
    "    while square_values[pos] <= lower_limit:\n",
    "        walked += 1\n",
    "        pos = move(pos, direction)\n",
    "        square_values[pos] = neighbour_sum(pos, direction)\n",
    "        if walked == num_steps:\n",
    "            direction, num_steps = turn(direction, num_steps)\n",
    "            walked = 0\n",
    "    return square_values[pos]\n",
    "\n",
    "walk(289326)"
   ]
  },
  {
   "cell_type": "code",
   "execution_count": null,
   "metadata": {
    "collapsed": true
   },
   "outputs": [],
   "source": []
  }
 ],
 "metadata": {
  "kernelspec": {
   "display_name": "Python 3",
   "language": "python",
   "name": "python3"
  },
  "language_info": {
   "codemirror_mode": {
    "name": "ipython",
    "version": 3
   },
   "file_extension": ".py",
   "mimetype": "text/x-python",
   "name": "python",
   "nbconvert_exporter": "python",
   "pygments_lexer": "ipython3",
   "version": "3.5.3"
  }
 },
 "nbformat": 4,
 "nbformat_minor": 2
}
