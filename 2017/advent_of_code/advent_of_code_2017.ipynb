{
 "cells": [
  {
   "cell_type": "markdown",
   "metadata": {},
   "source": [
    "# December 2017: Advent of Code Solutions\n",
    "## Daniel Näslund\n",
    "From Dec. 1 to Dec. 25, [I](dannas.name) will be solving the puzzles that appear each day at [Advent of Code](http://adventofcode.com/). The two-part puzzles are released at midnight EST (6:00AM CET); points are awarded to the first 100 people to solve the day's puzzles. \n",
    "\n",
    "To understand the problems completely, you will have to read the full description in the \"[Day 1](http://adventofcode.com/2017/day/1):\" link in each day's section header."
   ]
  },
  {
   "cell_type": "markdown",
   "metadata": {},
   "source": [
    "##  Prelude\n",
    "Here I import common functions and modules so I don't have to do it each day.\n",
    "These are borrowed from [Peter Norvigs Advent of Code solutions](https://github.com/norvig/pytudes/blob/master/ipynb/Advent%20of%20Code.ipynb) from 2016. I've also reused his ipython notebook layout."
   ]
  },
  {
   "cell_type": "code",
   "execution_count": 26,
   "metadata": {
    "collapsed": false
   },
   "outputs": [],
   "source": [
    "# Python 3.x\n",
    "from itertools import islice, cycle, permutations, count as count_from\n",
    "from collections import Counter, defaultdict, deque\n",
    "import re\n",
    "\n",
    "cat = ''.join\n",
    "def Input(day):\n",
    "    filename = 'advent2017/input{}.txt'.format(day);\n",
    "    return open(filename);\n",
    "    # TODO(dannas): Fetch the files from elsewhere to allow remote access\n",
    "\n",
    "def quantify(iterable, pred=bool):\n",
    "    return sum(map(pred, iterable))\n",
    "    \n",
    "# 2-D points implemented using (x, y) tuples\n",
    "def X(point): return point[0]\n",
    "def Y(point): return point[1]\n",
    "\n",
    "def move(pos, direction):\n",
    "    return (X(pos) + X(direction), Y(pos) + Y(direction))\n",
    "\n",
    "def neighbors8(point):\n",
    "    \"The eight neighbors (with diagonals)\"\n",
    "    x, y =  point\n",
    "    return ((x+1, y), (x-1, y), (x, y+1), (x, y-1),\n",
    "           (x+1, y+1), (x-1, y-1), (x+1, y-1), (x-1, y+1))\n",
    "\n",
    "def cityblock_distance(p, q=(0, 0)): \n",
    "    \"City block distance between two points.\"\n",
    "    return abs(X(p) - X(q)) + abs(Y(p) - Y(q))\n",
    "\n",
    "\n",
    "def first(iterable):\n",
    "    return next(iter(iterable))\n",
    "\n",
    "def nth(iterable, n, default=None):\n",
    "    \"Returns the nth item or a default value\"\n",
    "    return next(islice(iterable, n, None), default)\n",
    "\n",
    "def head(iterable, n=10):\n",
    "    return iterable[:10]\n",
    "\n",
    "# TODO(dannas): Maybe accept list input as well?\n",
    "def array(string):\n",
    "    return [vector(line) for line in string.splitlines()]\n",
    "\n",
    "def vector(line):\n",
    "    return [atom(word) for word in line.split()]\n",
    "\n",
    "def atom(word):\n",
    "    try:\n",
    "        return float(word)\n",
    "    except ValueError:\n",
    "        try:\n",
    "            return int(word)\n",
    "        except ValueError:\n",
    "            return word\n",
    "\n",
    "def mapt(fn, iterable):\n",
    "    return tuple(map(fn, iterable))\n",
    "\n",
    "def ints(line):\n",
    "    matches = re.findall(r'\\d+', line)\n",
    "    return map(int, matches)\n"
   ]
  },
  {
   "cell_type": "markdown",
   "metadata": {},
   "source": [
    "## [Day 1](http://adventofcode.com/2017/day/1): Inverse Captcha\n",
    "Given a file of digits, find the sum of all digits that match the next digit in the list. The list is circular, so the digit after the last digit is the first digit in the list.\n",
    "\n",
    "We need to parse with one token lookahead, it's enough to append the first digit to the end of the list for handling the circular case."
   ]
  },
  {
   "cell_type": "code",
   "execution_count": null,
   "metadata": {
    "collapsed": false
   },
   "outputs": [],
   "source": [
    "def pairs(seq):\n",
    "    return zip(seq[:-1], seq[1:])\n",
    "\n",
    "def solve_captcha(str):\n",
    "    digits = [int(d) for d in str] \n",
    "    if len(digits) < 2:\n",
    "        return 0\n",
    "    digits.append(digits[0])\n",
    "    return sum(x for x, y in pairs(digits) if x == y)\n",
    "    \n",
    "solve_captcha(Input(1).read().strip())"
   ]
  },
  {
   "cell_type": "markdown",
   "metadata": {},
   "source": [
    "In **part 2** we shall compare the digit halfway around the circular list to the current one. The list has an even number of elements.\n",
    "\n",
    "This require N/2 token lookahead instad of one. I could have appended the first half of the list to the end, but instead I opted for a circular queue. A circular queue can be implicitely represented using indexes that wrap around; or explicitely using an [ADT](https://docs.python.org/3.6/library/collections.html?highlight=deque#collections.deque.rotate); or using operations on iterators. I choose the later.\n",
    "\n",
    "The [cycle()](https://docs.python.org/3.6/library/itertools.html#itertools.cycle) function provides an iterator to an infinite circular representation of the list. With [islice](https://docs.python.org/3.6/library/itertools.html#itertools.islice) I can select my start and end position in that list."
   ]
  },
  {
   "cell_type": "code",
   "execution_count": null,
   "metadata": {
    "collapsed": false
   },
   "outputs": [],
   "source": [
    "def pairs(seq):\n",
    "    N = len(seq)\n",
    "    half = int(N/2)\n",
    "    x = islice(cycle(seq), 0, N)\n",
    "    y = islice(cycle(seq), half, N + half)\n",
    "    return zip(x, y)\n",
    "\n",
    "def solve_captcha(str):\n",
    "    digits = [int(d) for d in str] \n",
    "    return sum(x for x, y in pairs(digits) if x == y)\n",
    "    \n",
    "solve_captcha(Input(1).read().strip())\n"
   ]
  },
  {
   "cell_type": "markdown",
   "metadata": {},
   "source": [
    "## [Day 2](http://adventofcode.com/2017/day/2): Corruption Checksum\n",
    "For each row in a spreadsheet, determine the difference between largest and smallest value; the checksum is the sum of all of these differences.\n",
    "\n",
    "I initially had some trouble parsing the input into a list of list of integers. It's been a while since I used Python."
   ]
  },
  {
   "cell_type": "code",
   "execution_count": null,
   "metadata": {
    "collapsed": false
   },
   "outputs": [],
   "source": [
    "def maxmins(spreadsheet):\n",
    "    for row in spreadsheet:\n",
    "        yield max(row), min(row)\n",
    "\n",
    "def parse(line):\n",
    "    return tuple(int(x) for x in line.split())\n",
    "\n",
    "spreadsheet = [parse(line) for line in Input(2)]\n",
    "sum(x-y for x,y in maxmins(spreadsheet))"
   ]
  },
  {
   "cell_type": "markdown",
   "metadata": {},
   "source": [
    "In **part 2** we're asked to find the only two numbers in each row where one evenly divides the other - that is, where the result of the division operation is a whole number. Find those numbers on each line, divide them, and add up each line's result."
   ]
  },
  {
   "cell_type": "code",
   "execution_count": null,
   "metadata": {
    "collapsed": false
   },
   "outputs": [],
   "source": [
    "def evens(spreadsheet):\n",
    "   for row in spreadsheet:\n",
    "        for x, y in permutations(row, 2):\n",
    "            if x % y == 0:\n",
    "                yield x, y\n",
    "                \n",
    "def parse(line):\n",
    "    return tuple(int(x) for x in line.split())\n",
    "\n",
    "spreadsheet = [parse(line) for line in Input(2)]\n",
    "sum(x/y for x,y in evens(spreadsheet))\n"
   ]
  },
  {
   "cell_type": "markdown",
   "metadata": {
    "collapsed": true
   },
   "source": [
    "## [Day 3](http://adventofcode.com/2017/day/3): Spiral Memory\n",
    "Walk a a grid in a spiral pattern, a specified number of steps. Then calculate the manhattan distance to the origin.\n",
    "\n",
    "The trace of steps will form a nested set of cubes. I tried to come up with a neat formula for describing how the the number of points in those cubes increases. Failed. Instead I experimented on paper and found that we increase the sides when we turn East and West.\n",
    "\n",
    "I decided to represent the points using x,y tuples. I considered using complex numbers first. The walk() function was originally a long list of explicit steps. I then extracted the common parts and ended up with the move and turn functions.\n",
    "\n",
    "Representing the direction as vectors (2 element tuples of x and y) and using vector addition was a heureka moment for me."
   ]
  },
  {
   "cell_type": "code",
   "execution_count": 5,
   "metadata": {
    "collapsed": false
   },
   "outputs": [
    {
     "data": {
      "text/plain": [
       "419"
      ]
     },
     "execution_count": 5,
     "metadata": {},
     "output_type": "execute_result"
    }
   ],
   "source": [
    "E, N, W, S = [(1, 0), (0, 1), (-1, 0), (0, -1)]    \n",
    "\n",
    "def move(pos, direction):\n",
    "    return (X(pos) + X(direction), Y(pos) + Y(direction))\n",
    "\n",
    "def turn(direction, num_steps):\n",
    "    changes = {\n",
    "        E : (N, 0),\n",
    "        N : (W, 1),\n",
    "        W : (S, 0),\n",
    "        S : (E, 1),\n",
    "    }\n",
    "    d, delta = changes[direction]\n",
    "    return d, num_steps + delta\n",
    "\n",
    "\n",
    "def walk(total_steps):\n",
    "    pos = (0, 0)\n",
    "    num_steps = 1\n",
    "    walked = 0\n",
    "    direction = E\n",
    "    \n",
    "    while total_steps > 0:\n",
    "        walked += 1\n",
    "        pos = move(pos, direction)\n",
    "        if walked == num_steps:\n",
    "            direction, num_steps = turn(direction, num_steps)\n",
    "            walked = 0\n",
    "\n",
    "        total_steps -= 1\n",
    "    return pos\n",
    "\n",
    "pos = walk(289326 - 1)\n",
    "\n",
    "cityblock_distance(pos)"
   ]
  },
  {
   "cell_type": "markdown",
   "metadata": {},
   "source": [
    "In **part 2** we're asked to, for each field, store the sum of previously visited fields, including diagonals. The center point has value 1. Once a field is written, its value doesn't change. \n",
    "\n",
    "I spent a lot of time trying to come up with a clever algorithm for determining which neighbors to a field was already visited. Then I had an euphyfany and realized that I could compare all 8 possible adjacent fields, if I had stored a mapping between visited fields and their sums. Determine the first value written that is larger than the puzzle input."
   ]
  },
  {
   "cell_type": "code",
   "execution_count": null,
   "metadata": {
    "collapsed": false
   },
   "outputs": [],
   "source": [
    "square_values = {}\n",
    "\n",
    "def neighbour_sum(pos, direction):\n",
    "    return sum(square_values[N] for N in neighbors8(pos) if N in square_values)\n",
    "   \n",
    "def walk(lower_limit):\n",
    "    pos = (0, 0)\n",
    "    square_values[pos] = 1\n",
    "    num_steps = 1\n",
    "    walked = 0\n",
    "    direction = E\n",
    "    \n",
    "    while square_values[pos] <= lower_limit:\n",
    "        walked += 1\n",
    "        pos = move(pos, direction)\n",
    "        square_values[pos] = neighbour_sum(pos, direction)\n",
    "        if walked == num_steps:\n",
    "            direction, num_steps = turn(direction, num_steps)\n",
    "            walked = 0\n",
    "    return square_values[pos]\n",
    "\n",
    "walk(289326)"
   ]
  },
  {
   "cell_type": "markdown",
   "metadata": {
    "collapsed": true
   },
   "source": [
    "## [Day 4](http://adventofcode.com/2017/day/4): High-Entropy Passphrases\n",
    "How many pass phrases are valid, a.k.a. do not contain duplicated words?"
   ]
  },
  {
   "cell_type": "code",
   "execution_count": null,
   "metadata": {
    "collapsed": false
   },
   "outputs": [],
   "source": [
    "lines = [L for L in Input(4)]\n",
    "\n",
    "def is_valid(line):\n",
    "    words = line.split()\n",
    "    return len(words) == len(set(words))\n",
    "\n",
    "sum(1 if is_valid(line) else 0 \n",
    "    for line in lines)"
   ]
  },
  {
   "cell_type": "markdown",
   "metadata": {},
   "source": [
    "In **part 2** we're asked how many passphrases are valid, this time with the added requirement that no words in the passphrase can be an anagram of another word.\n",
    "\n",
    "I remember this one from the chapter Aha! Algorithms in the book Programming Pearls. In that book, Jon meant that detecting anagrams is an example of an algorithm that people may bank their head against the wall with until they finally hits the insight. Thankfully, I was already familiar with it."
   ]
  },
  {
   "cell_type": "code",
   "execution_count": null,
   "metadata": {
    "collapsed": false
   },
   "outputs": [],
   "source": [
    "def is_valid(line):\n",
    "    words = [cat(sorted(w)) for w in line.split()]\n",
    "    return len(words) == len(set(words))\n",
    "\n",
    "sum(1 if is_valid(line) else 0\n",
    "     for line in lines)"
   ]
  },
  {
   "cell_type": "markdown",
   "metadata": {
    "collapsed": true
   },
   "source": [
    "## [Day 5](http://adventofcode.com/2017/day/5): A Maze of Twisty Trampolines, All Alike\n",
    "Given a list of relative jumps, determine the number of steps neccessary to reach a destination outside the list. There's a quirk: The jump instructions increment by one upon being visited.\n",
    "\n",
    "I first wrote this as a straightforward loop. Had one bug: I interpreted the jumps as absolute positions at first. I'm borrowing the quantify function which I found in Peter Norvigs 2017 Advent of Code solution Jupyter notebook."
   ]
  },
  {
   "cell_type": "code",
   "execution_count": null,
   "metadata": {
    "collapsed": false
   },
   "outputs": [],
   "source": [
    "def jumps(instr):\n",
    "    pos = 0\n",
    "    while pos >= 0 and pos < N:\n",
    "        old = pos\n",
    "        yield pos\n",
    "        pos += instr[pos]\n",
    "        instr[old] += 1\n",
    "    yield pos\n",
    "        \n",
    "quantify(jumps([int(x) for x in Input(5)]))"
   ]
  },
  {
   "cell_type": "markdown",
   "metadata": {
    "collapsed": true
   },
   "source": [
    "In **part 2** we're asked to again calculate number of steps. After each jump, if the offset was 3 or more, decrement it by 1 else increment it by 1.\n",
    "\n",
    "I wrote jumps2 as a function that returned the number of steps. Then I rewrote it to yield values instead. That caused the running time to increase from \"almost instant\" to 8s. Doh. Keeping it as-is, since I accidentily removed the original solution (and I don't understand how  Jupyter handles editing history - I want my vi editor instead of  this webbrowser madness!)"
   ]
  },
  {
   "cell_type": "code",
   "execution_count": null,
   "metadata": {
    "collapsed": false
   },
   "outputs": [],
   "source": [
    "def jumps2(instr):\n",
    "    pos = 0\n",
    "    while pos >= 0 and pos < N:\n",
    "        old = pos\n",
    "        yield pos\n",
    "        offset = instr[pos]\n",
    "        pos += instr[pos]\n",
    "        if offset >= 3:\n",
    "            instr[old] -= 1\n",
    "        else:\n",
    "            instr[old] += 1\n",
    "    yield pos\n",
    "\n",
    "quantify(jumps2([int(x) for x in Input(5)]))"
   ]
  },
  {
   "cell_type": "code",
   "execution_count": null,
   "metadata": {
    "collapsed": false
   },
   "outputs": [],
   "source": [
    "%timeit quantify(jumps2([int(x) for x in Input(5)]))"
   ]
  },
  {
   "cell_type": "markdown",
   "metadata": {
    "collapsed": true
   },
   "source": [
    "## [Day 6](http://adventofcode.com/2017/day/6): Memory Reallocation\n",
    "Determine how many cycles it takes before a previously seen permutation of the banks input is seen again.\n",
    "\n",
    "Let's start with reading the input"
   ]
  },
  {
   "cell_type": "code",
   "execution_count": null,
   "metadata": {
    "collapsed": false
   },
   "outputs": [],
   "source": [
    "def banks(): return [int(x) for x in Input(6).read().split()]\n",
    "banks()"
   ]
  },
  {
   "cell_type": "markdown",
   "metadata": {},
   "source": [
    "The task consists of three parts: find the bank with most blocks, redistribute those blocks, count how many cycles before we're encountering a permutation of banks that has been seen before. I represent each of these tasks with a separate function.\n",
    "\n",
    "The instructions for restributing the blocks involves a special case for resetting the source bank to zero and fiddly index manipulations. I would have liked to write that part in a closed form list comprehension but it looks clearer this way.\n",
    "\n",
    "The redistribute part is easier to do inplace with a list than a tuple, but the set requires a tuple as key. Can that be simplified?"
   ]
  },
  {
   "cell_type": "code",
   "execution_count": null,
   "metadata": {
    "collapsed": false
   },
   "outputs": [],
   "source": [
    "def most_blocks(banks):\n",
    "    b = max(banks)\n",
    "    return banks.index(b), b\n",
    "\n",
    "def redistribute(banks):\n",
    "    N = len(banks)\n",
    "    pos, val = most_blocks(banks)\n",
    "    banks[pos] = 0\n",
    "    banks[:] = [x + val // N for x in banks]\n",
    "    for x in range(pos+1, pos+1+ val % N):\n",
    "        banks[x % N] += 1\n",
    "    return tuple(banks)\n",
    "\n",
    "def count_cycles(banks):\n",
    "    history = {tuple(banks)}\n",
    "    for cycles in count_from(1):\n",
    "        result = redistribute(banks)\n",
    "        if result in history:\n",
    "            return cycles\n",
    "        history.add(result)\n",
    "\n",
    "count_cycles(banks())"
   ]
  },
  {
   "cell_type": "markdown",
   "metadata": {},
   "source": [
    "In **part 2** we're asked to find the number of cycles from the first duplicated permutation until the next time the same permutation is generated.\n",
    "\n",
    "I had hoped that I could just reuse the count_cycles() function from part 1, but I didn't manage to accomplish that."
   ]
  },
  {
   "cell_type": "code",
   "execution_count": null,
   "metadata": {
    "collapsed": false
   },
   "outputs": [],
   "source": [
    "def count_cycles2(banks):\n",
    "    history ={tuple(banks)}\n",
    "    prev = None\n",
    "    first_found = None\n",
    "    for cycles in count_from(1):\n",
    "        result = divide_between(banks)\n",
    "        if result == prev:\n",
    "            return cycles - first_found\n",
    "        if result in history and prev ==  None:\n",
    "            prev = result\n",
    "            first_found = cycles\n",
    "        history.add(result)\n",
    "count_cycles2(banks())"
   ]
  },
  {
   "cell_type": "markdown",
   "metadata": {
    "collapsed": true
   },
   "source": [
    "## [Day 7](http://adventofcode.com/2017/day/7): Recursive Circus\n",
    "TODO(dannas): Write description"
   ]
  },
  {
   "cell_type": "code",
   "execution_count": null,
   "metadata": {
    "collapsed": false
   },
   "outputs": [],
   "source": [
    "def parse(line):\n",
    "    parts = line.split('->')\n",
    "    parent, weight = parts[0].split()        \n",
    "    children = [] if len(parts) == 1 else parts[1].split(', ')     \n",
    "    return (parent, (int(weight[1:-1]), children))\n",
    "    \n",
    "tower = dict(parse(line.strip()) for line in Input(7))\n",
    "\n",
    "roots = {}\n",
    "for parent in tower:\n",
    "    for c in tower[parent][1]:\n",
    "        roots[c] = parent\n",
    "\n",
    "start = nth(tower, 8)\n",
    "print(nth(tower, 4))\n",
    "\n",
    "while start in roots:\n",
    "    start = roots[start]\n",
    "\n",
    "print(start)\n",
    "# TODO(dannas): Write solution for part 1"
   ]
  },
  {
   "cell_type": "markdown",
   "metadata": {
    "collapsed": true
   },
   "source": [
    "In **part 2** we're asked to determine which single program has a weight that makes the tower unbalanced.\n",
    "\n",
    "The tower is naturally represented as a tree; each program can have only parent but many children and they're all rooted in one single base program. "
   ]
  },
  {
   "cell_type": "code",
   "execution_count": null,
   "metadata": {
    "collapsed": true
   },
   "outputs": [],
   "source": [
    "# TODO(dannas): Write solution for part 2"
   ]
  },
  {
   "cell_type": "markdown",
   "metadata": {},
   "source": [
    "## [Day 8](http://adventofcode.com/2017/day/8): I Heard You Like Registers\n",
    "Given a list of unusual register instructions, what is the largest value in any register after completing the instructions?\n",
    "\n",
    "Each line contains a statement of two expressions. Let's start with parsing the lines. Note that array() returns ints or floats for numbers, not strings."
   ]
  },
  {
   "cell_type": "code",
   "execution_count": 10,
   "metadata": {
    "collapsed": false
   },
   "outputs": [
    {
     "data": {
      "text/plain": [
       "[['v', 'inc', 523.0, 'if', 't', '==', 6.0],\n",
       " ['qen', 'dec', -450.0, 'if', 'lht', '!=', 10.0],\n",
       " ['jyg', 'dec', -378.0, 'if', 'lb', '!=', -6.0],\n",
       " ['k', 'inc', -994.0, 'if', 'z', '<', 6.0],\n",
       " ['gjr', 'inc', -698.0, 'if', 'hbq', '<', 9.0]]"
      ]
     },
     "execution_count": 10,
     "metadata": {},
     "output_type": "execute_result"
    }
   ],
   "source": [
    "program = array(Input(8).read())\n",
    "program[:5]"
   ]
  },
  {
   "cell_type": "markdown",
   "metadata": {},
   "source": [
    "I started out with creating two functions; one for evaluating the conditional expression and one for the inc/dec expression. But I realized that they shared a lot of symmetry. Let's piggy-back on Pythons eval function."
   ]
  },
  {
   "cell_type": "code",
   "execution_count": 13,
   "metadata": {
    "collapsed": false
   },
   "outputs": [
    {
     "data": {
      "text/plain": [
       "True"
      ]
     },
     "execution_count": 13,
     "metadata": {},
     "output_type": "execute_result"
    }
   ],
   "source": [
    "def eval_expr(lhs, op, rhs):\n",
    "    expr = '{} {} {}'.format(lhs, op, rhs)\n",
    "    return eval(expr)\n",
    "\n",
    "eval_expr(1, '<', 2)"
   ]
  },
  {
   "cell_type": "markdown",
   "metadata": {},
   "source": [
    "I choose to represent the registers as a defaultdict, which will return 0 for unseen keys."
   ]
  },
  {
   "cell_type": "code",
   "execution_count": null,
   "metadata": {
    "collapsed": true
   },
   "outputs": [],
   "source": [
    "def run(program):\n",
    "    regs = defaultdict(int)\n",
    "    for dst, op, imm1, _, src, cmp, imm2 in program:\n",
    "        if eval_expr(regs[src], cmp, imm2):\n",
    "            regs[dst] = eval_expr(regs[dst], '+' if op == 'inc' else '-', imm1)\n",
    "    return max(regs.values())\n",
    "\n",
    "run(program)"
   ]
  },
  {
   "cell_type": "markdown",
   "metadata": {},
   "source": [
    "In **part 2** we're asked to find the highest value held in any register during this process.\n",
    "\n",
    "The highest value will be returned from eval_expr. I used a decorator for storing the largest return value."
   ]
  },
  {
   "cell_type": "code",
   "execution_count": 15,
   "metadata": {
    "collapsed": false
   },
   "outputs": [
    {
     "name": "stdout",
     "output_type": "stream",
     "text": [
      "3818.0\n"
     ]
    }
   ],
   "source": [
    "def record_max(f):\n",
    "    record_max.maxval = -1\n",
    "    def _f(*args):\n",
    "        ret = f(*args)\n",
    "        record_max.maxval = max(record_max.maxval, ret)\n",
    "        return ret\n",
    "    return _f\n",
    "\n",
    "@record_max\n",
    "def eval_expr(lhs, op, rhs):\n",
    "    expr = '{} {} {}'.format(lhs, op, rhs)\n",
    "    return eval(expr)\n",
    "\n",
    "run(program)\n",
    "print(record_max.maxval)"
   ]
  },
  {
   "cell_type": "markdown",
   "metadata": {},
   "source": [
    "## [Day 9](http://adventofcode.com/2017/day/9): Stream Processing\n",
    "TODO(dannas): Write description"
   ]
  },
  {
   "cell_type": "code",
   "execution_count": 33,
   "metadata": {
    "collapsed": false
   },
   "outputs": [
    {
     "data": {
      "text/plain": [
       "-330053"
      ]
     },
     "execution_count": 33,
     "metadata": {},
     "output_type": "execute_result"
    }
   ],
   "source": [
    "# TODO(dannas): Cleanup.\n",
    "def tokens(stream):\n",
    "    escape_seen = False\n",
    "    #garbage_seen = False\n",
    "    for t in stream:\n",
    "        if escape_seen:\n",
    "            escape_seen = False\n",
    "            continue\n",
    "        elif t == '!':\n",
    "            escape_seen = True\n",
    "            continue\n",
    "        #elif not garbage_seen:\n",
    "        #    if t == '<':\n",
    "        #        garbage_seen = True\n",
    "        #elif garbage_seen:\n",
    "        #    if t == '>':\n",
    "        #        garbage_seen = False\n",
    "        #        continue\n",
    "        #    else:\n",
    "        #        continue\n",
    "        yield t\n",
    "\n",
    "def ignore_garbage(stream):\n",
    "    in_garbage = False\n",
    "    for t in tokens(stream):\n",
    "        if in_garbage and t == '>':\n",
    "            in_garbage = False\n",
    "        elif not in_garbage and t == '<':\n",
    "            in_garbage = True\n",
    "        else:\n",
    "            yield t\n",
    "        \n",
    "def scan_stream(stream):\n",
    "    score = 0\n",
    "    nesting = 0\n",
    "    for t in ignore_garbage(stream):\n",
    "        if t == '{':\n",
    "            nesting += 1\n",
    "        elif t == '}':\n",
    "            score += nesting\n",
    "            nesting -= 1\n",
    "    return score\n",
    "\n",
    "scan_stream(Input(9).read())\n",
    "            \n",
    "        \n",
    "        "
   ]
  },
  {
   "cell_type": "markdown",
   "metadata": {
    "collapsed": true
   },
   "source": [
    "## [Day 10](http://adventofcode.com/2017/day/10): Knot Hash\n",
    "TODO(dannas): Solve day 10"
   ]
  },
  {
   "cell_type": "code",
   "execution_count": null,
   "metadata": {
    "collapsed": true
   },
   "outputs": [],
   "source": []
  },
  {
   "cell_type": "markdown",
   "metadata": {},
   "source": [
    "## [Day 11](http://adventofcode.com/2017/day/11): Hex Ed\n",
    "TODO(dannas): Write description"
   ]
  },
  {
   "cell_type": "code",
   "execution_count": 13,
   "metadata": {
    "collapsed": false
   },
   "outputs": [
    {
     "name": "stdout",
     "output_type": "stream",
     "text": [
      "(473, 891)\n"
     ]
    },
    {
     "data": {
      "text/plain": [
       "683"
      ]
     },
     "execution_count": 13,
     "metadata": {},
     "output_type": "execute_result"
    }
   ],
   "source": [
    "directions = dict(s=(0, -2), sw=(-1, -1), se=(1, -1), n=(0, 2), nw=(-1, 1), ne=(1, 1))\n",
    "\n",
    "def bfs(goal, startpos):\n",
    "    visited = set()\n",
    "    queue = deque()\n",
    "    queue.append([startpos])\n",
    "    while queue:\n",
    "        steps = queue.popleft()\n",
    "        for name, d in directions.items():\n",
    "            newpos = move(steps[-1], d)\n",
    "            if newpos not in visited:\n",
    "                visited.add(newpos)\n",
    "                newlist = steps + [newpos]\n",
    "                if newpos == goal:\n",
    "                    return newlist\n",
    "                queue.append(newlist)\n",
    "            \n",
    "def walk(steps):\n",
    "    pos = (0, 0)\n",
    "    for d in steps:\n",
    "        pos = move(pos, directions[d])\n",
    "    return pos\n",
    "\n",
    "#walk('ne,ne,ne'.split(','))\n",
    "#walk('ne,ne,s,s'.split(','))\n",
    "goal = walk(Input(11).read().strip().split(','))\n",
    "print(goal)\n",
    "path = bfs(goal, (0, 0))\n",
    "len(path) - 1"
   ]
  },
  {
   "cell_type": "markdown",
   "metadata": {
    "collapsed": true
   },
   "source": [
    "In **part 2** we're asked how many steps away he is as furthest from the starting position.\n",
    "\n",
    "Now I can't rely on a brute force search. I'll have to figure out how to calculate the distance function for hex grids.\n",
    "\n",
    "TODO(dannas): Solve part 2."
   ]
  },
  {
   "cell_type": "code",
   "execution_count": 14,
   "metadata": {
    "collapsed": false
   },
   "outputs": [
    {
     "data": {
      "text/plain": [
       "(473, 891)"
      ]
     },
     "execution_count": 14,
     "metadata": {},
     "output_type": "execute_result"
    }
   ],
   "source": [
    "walk(Input(11).read().strip().split(','))"
   ]
  },
  {
   "cell_type": "code",
   "execution_count": 21,
   "metadata": {
    "collapsed": false
   },
   "outputs": [
    {
     "name": "stdout",
     "output_type": "stream",
     "text": [
      "0\n",
      "(473, 473)\n",
      "418\n",
      "891\n"
     ]
    }
   ],
   "source": [
    "pos = (0, 0)\n",
    "print(X(pos))\n",
    "while X(pos) < 473:\n",
    "    pos = move(pos, directions['ne'])\n",
    "print(pos)\n",
    "print(891 - Y(pos))\n",
    "print(473 + 418)"
   ]
  },
  {
   "cell_type": "code",
   "execution_count": 3,
   "metadata": {
    "collapsed": false
   },
   "outputs": [
    {
     "data": {
      "text/plain": [
       "829"
      ]
     },
     "execution_count": 3,
     "metadata": {},
     "output_type": "execute_result"
    }
   ],
   "source": [
    "def L(pos):\n",
    "    return pos[0]\n",
    "def U(pos):\n",
    "    return pos[1]\n",
    "def R(pos):\n",
    "    return pos[2]\n",
    "\n",
    "def move(pos, direction):\n",
    "    return (L(pos) + L(direction), U(pos) + U(direction), R(pos) + R(direction))\n",
    "\n",
    "def walk(steps):\n",
    "    # left, up, right\n",
    "    pos = (0, 0, 0)\n",
    "    path = [pos]\n",
    "    directions = dict(s=(0, -1, 0), sw=(0, -1, -1), se=(-1, -1,  0), n=(0, 1,  0), nw=(1, 1, 0), ne=(0, 1, 1))\n",
    "    for d in steps:\n",
    "        pos = move(pos, directions[d])\n",
    "        path.append(pos)\n",
    "    return path\n",
    "\n",
    "\n",
    "path = walk(Input(11).read().strip().split(','))\n",
    "\n",
    "def hexgrid_distance(p, q=(0, 0, 0)):\n",
    "    diff = (L(p) - L(q), U(p) - U(q), R(p) - R(q))\n",
    "    return max(mapt(abs, (diff)))\n",
    "\n",
    "max(path, key=hexgrid_distance)\n"
   ]
  },
  {
   "cell_type": "markdown",
   "metadata": {
    "collapsed": true
   },
   "source": [
    "## [Day 12](http://adventofcode.com/2017/day/12): Digital Plumber\n",
    "We are given a list of connections between \"programs\". Find out how many programs are reachable from the program with id 0?\n",
    "\n",
    "This sounds like a good fit for the union-find algorithm. Start with identifying the largest id."
   ]
  },
  {
   "cell_type": "code",
   "execution_count": 29,
   "metadata": {
    "collapsed": false
   },
   "outputs": [
    {
     "data": {
      "text/plain": [
       "1999"
      ]
     },
     "execution_count": 29,
     "metadata": {},
     "output_type": "execute_result"
    }
   ],
   "source": [
    "N = max(x for L in Input(12) for x in ints(line))\n",
    "N"
   ]
  },
  {
   "cell_type": "markdown",
   "metadata": {},
   "source": [
    "Create an id array with N+1 elements. The value at each position represents the group id. So a[0] = 42 means that 0 belongs to group 42."
   ]
  },
  {
   "cell_type": "code",
   "execution_count": 33,
   "metadata": {
    "collapsed": false
   },
   "outputs": [],
   "source": [
    "a = list(range(0, N+1))\n",
    "\n",
    "def find(a, x):\n",
    "    return a[x]\n",
    "\n",
    "def union(a, x, y):\n",
    "    px = find(a,x)\n",
    "    py = find(a, y)\n",
    "    if px ==  py:\n",
    "        return\n",
    "    for i in range(0, N+1):\n",
    "        if a[i] == px:\n",
    "            a[i] = py"
   ]
  },
  {
   "cell_type": "markdown",
   "metadata": {},
   "source": [
    "Loop over pairs and call union on them."
   ]
  },
  {
   "cell_type": "code",
   "execution_count": 34,
   "metadata": {
    "collapsed": false
   },
   "outputs": [
    {
     "data": {
      "text/plain": [
       "239"
      ]
     },
     "execution_count": 34,
     "metadata": {},
     "output_type": "execute_result"
    }
   ],
   "source": [
    "def parse(line):\n",
    "    x, neighbors = line.split('<->')\n",
    "    for n in neighbors.split(', '):\n",
    "        yield int(x), int(n)\n",
    "\n",
    "for x, y in (pair for line in Input(12) for pair in parse(line)):\n",
    "    union(a, x, y)\n",
    "\n",
    "len([x for x in a if x == a[0]])"
   ]
  },
  {
   "cell_type": "markdown",
   "metadata": {
    "collapsed": true
   },
   "source": [
    "In **part 2** we're asked how many groups are there in total?\n",
    "\n",
    "That would be the number of unique group ids."
   ]
  },
  {
   "cell_type": "code",
   "execution_count": 31,
   "metadata": {
    "collapsed": false
   },
   "outputs": [
    {
     "data": {
      "text/plain": [
       "215"
      ]
     },
     "execution_count": 31,
     "metadata": {},
     "output_type": "execute_result"
    }
   ],
   "source": [
    "len(set(a))"
   ]
  },
  {
   "cell_type": "code",
   "execution_count": null,
   "metadata": {
    "collapsed": true
   },
   "outputs": [],
   "source": []
  }
 ],
 "metadata": {
  "kernelspec": {
   "display_name": "Python 3",
   "language": "python",
   "name": "python3"
  },
  "language_info": {
   "codemirror_mode": {
    "name": "ipython",
    "version": 3
   },
   "file_extension": ".py",
   "mimetype": "text/x-python",
   "name": "python",
   "nbconvert_exporter": "python",
   "pygments_lexer": "ipython3",
   "version": "3.5.3"
  }
 },
 "nbformat": 4,
 "nbformat_minor": 2
}
