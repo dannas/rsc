{
 "cells": [
  {
   "cell_type": "markdown",
   "metadata": {},
   "source": [
    "# December 2017: Advent of Code Solutions\n",
    "## Daniel Näslund\n",
    "From Dec. 1 to Dec. 25, [I](dannas.name) will be solving the puzzles that appear each day at [Advent of Code](http://adventofcode.com/). The two-part puzzles are released at midnight EST (6:00AM CET); points are awarded to the first 100 people to solve the day's puzzles. \n",
    "\n",
    "To understand the problems completely, you will have to read the full description in the \"[Day 1](http://adventofcode.com/2017/day/1):\" link in each day's section header."
   ]
  },
  {
   "cell_type": "markdown",
   "metadata": {},
   "source": [
    "##  Prelude\n",
    "Here I import common functions and modules so I don't have to do it each day.\n",
    "These are borrowed from [Peter Norvigs Advent of Code solutions](https://github.com/norvig/pytudes/blob/master/ipynb/Advent%20of%20Code.ipynb) from 2016. I've also reused his ipython notebook layout."
   ]
  },
  {
   "cell_type": "code",
   "execution_count": 1,
   "metadata": {
    "collapsed": false
   },
   "outputs": [],
   "source": [
    "# Python 3.x\n",
    "from itertools import islice, cycle, permutations, count as count_from\n",
    "from collections import Counter, defaultdict, deque\n",
    "import re\n",
    "\n",
    "cat = ''.join\n",
    "def Input(day):\n",
    "    filename = 'advent2017/input{}.txt'.format(day);\n",
    "    return open(filename);\n",
    "    # TODO(dannas): Fetch the files from elsewhere to allow remote access\n",
    "\n",
    "def InputStr(day):\n",
    "    filename = 'advent2017/input{}.txt'.format(day)\n",
    "    return open(filename).read().rstrip('\\n')\n",
    "\n",
    "def quantify(iterable, pred=bool):\n",
    "    return sum(map(pred, iterable))\n",
    "    \n",
    "# 2-D points implemented using (x, y) tuples\n",
    "def X(point): return point[0]\n",
    "def Y(point): return point[1]\n",
    "\n",
    "def move(pos, direction):\n",
    "    return (X(pos) + X(direction), Y(pos) + Y(direction))\n",
    "\n",
    "def neighbors4(point):\n",
    "    \"The four neighbors (without diagnoals)\"\n",
    "    x, y = point\n",
    "    return ((x+1, y), (x-1, y), (x, y+1), (x, y-1))\n",
    "\n",
    "def neighbors8(point):\n",
    "    \"The eight neighbors (with diagonals)\"\n",
    "    x, y =  point\n",
    "    return ((x+1, y), (x-1, y), (x, y+1), (x, y-1),\n",
    "           (x+1, y+1), (x-1, y-1), (x+1, y-1), (x-1, y+1))\n",
    "\n",
    "def cityblock_distance(p, q=(0, 0)): \n",
    "    \"City block distance between two points.\"\n",
    "    return abs(X(p) - X(q)) + abs(Y(p) - Y(q))\n",
    "\n",
    "\n",
    "def first(iterable):\n",
    "    return next(iter(iterable))\n",
    "\n",
    "def nth(iterable, n, default=None):\n",
    "    \"Returns the nth item or a default value\"\n",
    "    return next(islice(iterable, n, None), default)\n",
    "\n",
    "def head(iterable, n=10):\n",
    "    return iterable[:10]\n",
    "\n",
    "# TODO(dannas): Maybe accept list input as well?\n",
    "def array(string):\n",
    "    return [vector(line) for line in string.splitlines()]\n",
    "\n",
    "def vector(line):\n",
    "    return [atom(word) for word in line.split()]\n",
    "\n",
    "# TODO(dannas): Check floats as well\n",
    "def atom(word):\n",
    "    try:\n",
    "        return int(word)\n",
    "    except ValueError:\n",
    "        return word\n",
    "\n",
    "def mapt(fn, iterable):\n",
    "    return tuple(map(fn, iterable))\n",
    "\n",
    "def ints(line):\n",
    "    matches = re.findall(r'\\d+', line)\n",
    "    return mapt(int, matches)\n",
    "\n",
    "def grep(pattern, file):\n",
    "    for line in file:\n",
    "        if re.search(pattern, line):\n",
    "            print(line)\n",
    "        "
   ]
  },
  {
   "cell_type": "markdown",
   "metadata": {},
   "source": [
    "## [Day 1](http://adventofcode.com/2017/day/1): Inverse Captcha\n",
    "Given a file of digits, find the sum of all digits that match the next digit in the list. The list is circular, so the digit after the last digit is the first digit in the list.\n",
    "\n",
    "We need to parse with one token lookahead, it's enough to append the first digit to the end of the list for handling the circular case."
   ]
  },
  {
   "cell_type": "code",
   "execution_count": null,
   "metadata": {
    "collapsed": false
   },
   "outputs": [],
   "source": [
    "def pairs(seq):\n",
    "    return zip(seq[:-1], seq[1:])\n",
    "\n",
    "def solve_captcha(str):\n",
    "    digits = [int(d) for d in str] \n",
    "    if len(digits) < 2:\n",
    "        return 0\n",
    "    digits.append(digits[0])\n",
    "    return sum(x for x, y in pairs(digits) if x == y)\n",
    "    \n",
    "solve_captcha(Input(1).read().strip())"
   ]
  },
  {
   "cell_type": "markdown",
   "metadata": {},
   "source": [
    "In **part 2** we shall compare the digit halfway around the circular list to the current one. The list has an even number of elements.\n",
    "\n",
    "This require N/2 token lookahead instad of one. I could have appended the first half of the list to the end, but instead I opted for a circular queue. A circular queue can be implicitely represented using indexes that wrap around; or explicitely using an [ADT](https://docs.python.org/3.6/library/collections.html?highlight=deque#collections.deque.rotate); or using operations on iterators. I choose the later.\n",
    "\n",
    "The [cycle()](https://docs.python.org/3.6/library/itertools.html#itertools.cycle) function provides an iterator to an infinite circular representation of the list. With [islice](https://docs.python.org/3.6/library/itertools.html#itertools.islice) I can select my start and end position in that list."
   ]
  },
  {
   "cell_type": "code",
   "execution_count": null,
   "metadata": {
    "collapsed": false
   },
   "outputs": [],
   "source": [
    "def pairs(seq):\n",
    "    N = len(seq)\n",
    "    half = int(N/2)\n",
    "    x = islice(cycle(seq), 0, N)\n",
    "    y = islice(cycle(seq), half, N + half)\n",
    "    return zip(x, y)\n",
    "\n",
    "def solve_captcha(str):\n",
    "    digits = [int(d) for d in str] \n",
    "    return sum(x for x, y in pairs(digits) if x == y)\n",
    "    \n",
    "solve_captcha(Input(1).read().strip())\n"
   ]
  },
  {
   "cell_type": "markdown",
   "metadata": {},
   "source": [
    "## [Day 2](http://adventofcode.com/2017/day/2): Corruption Checksum\n",
    "For each row in a spreadsheet, determine the difference between largest and smallest value; the checksum is the sum of all of these differences.\n",
    "\n",
    "I initially had some trouble parsing the input into a list of list of integers. It's been a while since I used Python."
   ]
  },
  {
   "cell_type": "code",
   "execution_count": null,
   "metadata": {
    "collapsed": false
   },
   "outputs": [],
   "source": [
    "def maxmins(spreadsheet):\n",
    "    for row in spreadsheet:\n",
    "        yield max(row), min(row)\n",
    "\n",
    "def parse(line):\n",
    "    return tuple(int(x) for x in line.split())\n",
    "\n",
    "spreadsheet = [parse(line) for line in Input(2)]\n",
    "sum(x-y for x,y in maxmins(spreadsheet))"
   ]
  },
  {
   "cell_type": "markdown",
   "metadata": {},
   "source": [
    "In **part 2** we're asked to find the only two numbers in each row where one evenly divides the other - that is, where the result of the division operation is a whole number. Find those numbers on each line, divide them, and add up each line's result."
   ]
  },
  {
   "cell_type": "code",
   "execution_count": null,
   "metadata": {
    "collapsed": false
   },
   "outputs": [],
   "source": [
    "def evens(spreadsheet):\n",
    "   for row in spreadsheet:\n",
    "        for x, y in permutations(row, 2):\n",
    "            if x % y == 0:\n",
    "                yield x, y\n",
    "                \n",
    "def parse(line):\n",
    "    return tuple(int(x) for x in line.split())\n",
    "\n",
    "spreadsheet = [parse(line) for line in Input(2)]\n",
    "sum(x/y for x,y in evens(spreadsheet))\n"
   ]
  },
  {
   "cell_type": "markdown",
   "metadata": {
    "collapsed": true
   },
   "source": [
    "## [Day 3](http://adventofcode.com/2017/day/3): Spiral Memory\n",
    "Walk a a grid in a spiral pattern, a specified number of steps. Then calculate the manhattan distance to the origin.\n",
    "\n",
    "The trace of steps will form a nested set of cubes. I tried to come up with a neat formula for describing how the the number of points in those cubes increases. Failed. Instead I experimented on paper and found that we increase the sides when we turn East and West.\n",
    "\n",
    "I decided to represent the points using x,y tuples. I considered using complex numbers first. The walk() function was originally a long list of explicit steps. I then extracted the common parts and ended up with the move and turn functions.\n",
    "\n",
    "Representing the direction as vectors (2 element tuples of x and y) and using vector addition was a heureka moment for me."
   ]
  },
  {
   "cell_type": "code",
   "execution_count": 5,
   "metadata": {
    "collapsed": false
   },
   "outputs": [
    {
     "data": {
      "text/plain": [
       "419"
      ]
     },
     "execution_count": 5,
     "metadata": {},
     "output_type": "execute_result"
    }
   ],
   "source": [
    "E, N, W, S = [(1, 0), (0, 1), (-1, 0), (0, -1)]    \n",
    "\n",
    "def move(pos, direction):\n",
    "    return (X(pos) + X(direction), Y(pos) + Y(direction))\n",
    "\n",
    "def turn(direction, num_steps):\n",
    "    changes = {\n",
    "        E : (N, 0),\n",
    "        N : (W, 1),\n",
    "        W : (S, 0),\n",
    "        S : (E, 1),\n",
    "    }\n",
    "    d, delta = changes[direction]\n",
    "    return d, num_steps + delta\n",
    "\n",
    "\n",
    "def walk(total_steps):\n",
    "    pos = (0, 0)\n",
    "    num_steps = 1\n",
    "    walked = 0\n",
    "    direction = E\n",
    "    \n",
    "    while total_steps > 0:\n",
    "        walked += 1\n",
    "        pos = move(pos, direction)\n",
    "        if walked == num_steps:\n",
    "            direction, num_steps = turn(direction, num_steps)\n",
    "            walked = 0\n",
    "\n",
    "        total_steps -= 1\n",
    "    return pos\n",
    "\n",
    "pos = walk(289326 - 1)\n",
    "\n",
    "cityblock_distance(pos)"
   ]
  },
  {
   "cell_type": "markdown",
   "metadata": {},
   "source": [
    "In **part 2** we're asked to, for each field, store the sum of previously visited fields, including diagonals. The center point has value 1. Once a field is written, its value doesn't change. \n",
    "\n",
    "I spent a lot of time trying to come up with a clever algorithm for determining which neighbors to a field was already visited. Then I had an euphyfany and realized that I could compare all 8 possible adjacent fields, if I had stored a mapping between visited fields and their sums. Determine the first value written that is larger than the puzzle input."
   ]
  },
  {
   "cell_type": "code",
   "execution_count": null,
   "metadata": {
    "collapsed": false
   },
   "outputs": [],
   "source": [
    "square_values = {}\n",
    "\n",
    "def neighbour_sum(pos, direction):\n",
    "    return sum(square_values[N] for N in neighbors8(pos) if N in square_values)\n",
    "   \n",
    "def walk(lower_limit):\n",
    "    pos = (0, 0)\n",
    "    square_values[pos] = 1\n",
    "    num_steps = 1\n",
    "    walked = 0\n",
    "    direction = E\n",
    "    \n",
    "    while square_values[pos] <= lower_limit:\n",
    "        walked += 1\n",
    "        pos = move(pos, direction)\n",
    "        square_values[pos] = neighbour_sum(pos, direction)\n",
    "        if walked == num_steps:\n",
    "            direction, num_steps = turn(direction, num_steps)\n",
    "            walked = 0\n",
    "    return square_values[pos]\n",
    "\n",
    "walk(289326)"
   ]
  },
  {
   "cell_type": "markdown",
   "metadata": {
    "collapsed": true
   },
   "source": [
    "## [Day 4](http://adventofcode.com/2017/day/4): High-Entropy Passphrases\n",
    "How many pass phrases are valid, a.k.a. do not contain duplicated words?"
   ]
  },
  {
   "cell_type": "code",
   "execution_count": null,
   "metadata": {
    "collapsed": false
   },
   "outputs": [],
   "source": [
    "lines = [L for L in Input(4)]\n",
    "\n",
    "def is_valid(line):\n",
    "    words = line.split()\n",
    "    return len(words) == len(set(words))\n",
    "\n",
    "sum(1 if is_valid(line) else 0 \n",
    "    for line in lines)"
   ]
  },
  {
   "cell_type": "markdown",
   "metadata": {},
   "source": [
    "In **part 2** we're asked how many passphrases are valid, this time with the added requirement that no words in the passphrase can be an anagram of another word.\n",
    "\n",
    "I remember this one from the chapter Aha! Algorithms in the book Programming Pearls. In that book, Jon meant that detecting anagrams is an example of an algorithm that people may bank their head against the wall with until they finally hits the insight. Thankfully, I was already familiar with it."
   ]
  },
  {
   "cell_type": "code",
   "execution_count": null,
   "metadata": {
    "collapsed": false
   },
   "outputs": [],
   "source": [
    "def is_valid(line):\n",
    "    words = [cat(sorted(w)) for w in line.split()]\n",
    "    return len(words) == len(set(words))\n",
    "\n",
    "sum(1 if is_valid(line) else 0\n",
    "     for line in lines)"
   ]
  },
  {
   "cell_type": "markdown",
   "metadata": {
    "collapsed": true
   },
   "source": [
    "## [Day 5](http://adventofcode.com/2017/day/5): A Maze of Twisty Trampolines, All Alike\n",
    "Given a list of relative jumps, determine the number of steps neccessary to reach a destination outside the list. There's a quirk: The jump instructions increment by one upon being visited.\n",
    "\n",
    "I first wrote this as a straightforward loop. Had one bug: I interpreted the jumps as absolute positions at first. I'm borrowing the quantify function which I found in Peter Norvigs 2017 Advent of Code solution Jupyter notebook."
   ]
  },
  {
   "cell_type": "code",
   "execution_count": null,
   "metadata": {
    "collapsed": false
   },
   "outputs": [],
   "source": [
    "def jumps(instr):\n",
    "    pos = 0\n",
    "    while pos >= 0 and pos < N:\n",
    "        old = pos\n",
    "        yield pos\n",
    "        pos += instr[pos]\n",
    "        instr[old] += 1\n",
    "    yield pos\n",
    "        \n",
    "quantify(jumps([int(x) for x in Input(5)]))"
   ]
  },
  {
   "cell_type": "markdown",
   "metadata": {
    "collapsed": true
   },
   "source": [
    "In **part 2** we're asked to again calculate number of steps. After each jump, if the offset was 3 or more, decrement it by 1 else increment it by 1.\n",
    "\n",
    "I wrote jumps2 as a function that returned the number of steps. Then I rewrote it to yield values instead. That caused the running time to increase from \"almost instant\" to 8s. Doh. Keeping it as-is, since I accidentily removed the original solution (and I don't understand how  Jupyter handles editing history - I want my vi editor instead of  this webbrowser madness!)"
   ]
  },
  {
   "cell_type": "code",
   "execution_count": null,
   "metadata": {
    "collapsed": false
   },
   "outputs": [],
   "source": [
    "def jumps2(instr):\n",
    "    pos = 0\n",
    "    while pos >= 0 and pos < N:\n",
    "        old = pos\n",
    "        yield pos\n",
    "        offset = instr[pos]\n",
    "        pos += instr[pos]\n",
    "        if offset >= 3:\n",
    "            instr[old] -= 1\n",
    "        else:\n",
    "            instr[old] += 1\n",
    "    yield pos\n",
    "\n",
    "quantify(jumps2([int(x) for x in Input(5)]))"
   ]
  },
  {
   "cell_type": "code",
   "execution_count": null,
   "metadata": {
    "collapsed": false
   },
   "outputs": [],
   "source": [
    "%timeit quantify(jumps2([int(x) for x in Input(5)]))"
   ]
  },
  {
   "cell_type": "markdown",
   "metadata": {
    "collapsed": true
   },
   "source": [
    "## [Day 6](http://adventofcode.com/2017/day/6): Memory Reallocation\n",
    "Determine how many cycles it takes before a previously seen permutation of the banks input is seen again.\n",
    "\n",
    "Let's start with reading the input"
   ]
  },
  {
   "cell_type": "code",
   "execution_count": null,
   "metadata": {
    "collapsed": false
   },
   "outputs": [],
   "source": [
    "def banks(): return [int(x) for x in Input(6).read().split()]\n",
    "banks()"
   ]
  },
  {
   "cell_type": "markdown",
   "metadata": {},
   "source": [
    "The task consists of three parts: find the bank with most blocks, redistribute those blocks, count how many cycles before we're encountering a permutation of banks that has been seen before. I represent each of these tasks with a separate function.\n",
    "\n",
    "The instructions for restributing the blocks involves a special case for resetting the source bank to zero and fiddly index manipulations. I would have liked to write that part in a closed form list comprehension but it looks clearer this way.\n",
    "\n",
    "The redistribute part is easier to do inplace with a list than a tuple, but the set requires a tuple as key. Can that be simplified?"
   ]
  },
  {
   "cell_type": "code",
   "execution_count": null,
   "metadata": {
    "collapsed": false
   },
   "outputs": [],
   "source": [
    "def most_blocks(banks):\n",
    "    b = max(banks)\n",
    "    return banks.index(b), b\n",
    "\n",
    "def redistribute(banks):\n",
    "    N = len(banks)\n",
    "    pos, val = most_blocks(banks)\n",
    "    banks[pos] = 0\n",
    "    banks[:] = [x + val // N for x in banks]\n",
    "    for x in range(pos+1, pos+1+ val % N):\n",
    "        banks[x % N] += 1\n",
    "    return tuple(banks)\n",
    "\n",
    "def count_cycles(banks):\n",
    "    history = {tuple(banks)}\n",
    "    for cycles in count_from(1):\n",
    "        result = redistribute(banks)\n",
    "        if result in history:\n",
    "            return cycles\n",
    "        history.add(result)\n",
    "\n",
    "count_cycles(banks())"
   ]
  },
  {
   "cell_type": "markdown",
   "metadata": {},
   "source": [
    "In **part 2** we're asked to find the number of cycles from the first duplicated permutation until the next time the same permutation is generated.\n",
    "\n",
    "I had hoped that I could just reuse the count_cycles() function from part 1, but I didn't manage to accomplish that."
   ]
  },
  {
   "cell_type": "code",
   "execution_count": null,
   "metadata": {
    "collapsed": false
   },
   "outputs": [],
   "source": [
    "def count_cycles2(banks):\n",
    "    history ={tuple(banks)}\n",
    "    prev = None\n",
    "    first_found = None\n",
    "    for cycles in count_from(1):\n",
    "        result = divide_between(banks)\n",
    "        if result == prev:\n",
    "            return cycles - first_found\n",
    "        if result in history and prev ==  None:\n",
    "            prev = result\n",
    "            first_found = cycles\n",
    "        history.add(result)\n",
    "count_cycles2(banks())"
   ]
  },
  {
   "cell_type": "markdown",
   "metadata": {
    "collapsed": true
   },
   "source": [
    "## [Day 7](http://adventofcode.com/2017/day/7): Recursive Circus\n",
    "TODO(dannas): Write description"
   ]
  },
  {
   "cell_type": "code",
   "execution_count": 21,
   "metadata": {
    "collapsed": false
   },
   "outputs": [
    {
     "data": {
      "text/plain": [
       "cyrupz (55) -> whbqia, sopjux, cfcdlh, wuluv, uwmocg, xtcpynj, qjvtm"
      ]
     },
     "execution_count": 21,
     "metadata": {},
     "output_type": "execute_result"
    }
   ],
   "source": [
    "class Node:\n",
    "    def __init__(self, name=\"\", parent=None, weight=0, children=None):\n",
    "        self.name = name\n",
    "        self.parent = parent\n",
    "        self.weight = weight\n",
    "        self.children = children if children else []\n",
    "    \n",
    "    def __str__(self):\n",
    "        children = ', '.join(c.name for c in self.children)\n",
    "        return '{} ({}) -> {}'.format(self.name, self.weight, children)\n",
    "    def __repr__(self):\n",
    "        return str(self)\n",
    "        \n",
    "def parse(line):\n",
    "    names = re.findall(r'[a-z]+', line)\n",
    "    weight = ints(line)[0]\n",
    "    return names[0], weight, names[1:]\n",
    "\n",
    "def build_tree(input):\n",
    "    tower = defaultdict(Node)\n",
    "    for name, weight, children in [parse(L.strip()) for L in input]:\n",
    "        for c in children:\n",
    "            tower[c].parent = tower[name]\n",
    "        tower[name].name = name\n",
    "        tower[name].weight = weight\n",
    "        tower[name].children = [tower[c] for c in children]\n",
    "    return tower\n",
    "\n",
    "def find_root(tree):\n",
    "    node = first(tree.values())\n",
    "    while node.parent:\n",
    "        node = node.parent\n",
    "    return node\n",
    "\n",
    "tower = build_tree(Input(7))\n",
    "find_root(tower)"
   ]
  },
  {
   "cell_type": "markdown",
   "metadata": {
    "collapsed": true
   },
   "source": [
    "In **part 2** we're asked to determine which single program has a weight that makes the tower unbalanced.\n",
    "\n",
    "The tower is naturally represented as a tree; each program can have only parent but many children and they're all rooted in one single base program. "
   ]
  },
  {
   "cell_type": "code",
   "execution_count": 23,
   "metadata": {
    "collapsed": false
   },
   "outputs": [
    {
     "name": "stdout",
     "output_type": "stream",
     "text": [
      "slzaeep ( edshwfr + emuysfg ) =  1023 (50, 50) + (50, 50)  =  (1023, 1123)\n",
      "hiotqxu ( ohlhl + lpweyw + fgfhom ) =  877 (82, 82) + (54, 82) + (22, 82)  =  (877, 1123)\n",
      "qppggd ( oxcth + enbtzt + ntidj + hmibku ) =  171 (74, 238) + (62, 238) + (214, 238) + (44, 238)  =  (171, 1123)\n",
      "iahug ( waangt + nqijykz + pnhmvd ) =  397 (46, 242) + (168, 242) + (242, 242)  =  (397, 1123)\n",
      "cwwwj ( pdxgf + ugyebr + tillos ) =  201 (236, 310) + (82, 310) + (262, 310)  =  (201, 1131)\n",
      "upfhsu ( jukhdvi + lilufvg + rodfe + hvigowx ) =  27 (116, 274) + (192, 274) + (116, 274) + (97, 274)  =  (27, 1123)\n",
      "jjlodie ( jtxvw + cjwnq + mtpbt ) =  46 (80, 359) + (191, 359) + (152, 359)  =  (46, 1123)\n"
     ]
    }
   ],
   "source": [
    "example_input = \"\"\"pbga (66)\n",
    "xhth (57)\n",
    "ebii (61)\n",
    "havc (66)\n",
    "ktlj (57)\n",
    "fwft (72) -> ktlj, cntj, xhth\n",
    "qoyq (66)\n",
    "padx (45) -> pbga, havc, qoyq\n",
    "tknk (41) -> ugml, padx, fwft\n",
    "jptl (61)\n",
    "ugml (68) -> gyxo, ebii, jptl\n",
    "gyxo (61)\n",
    "cntj (57)\"\"\"\n",
    "\n",
    "tower = build_tree(Input(7))\n",
    "import pprint\n",
    "root = find_root(tower)\n",
    "\n",
    "def tree_weight(node):\n",
    "    weight = node.weight\n",
    "    for c in node.children:\n",
    "        _, w = tree_weight(c)\n",
    "        weight += w\n",
    "    return node.weight, weight\n",
    "# qjvtm\n",
    "# boropxd 12154\n",
    "# cwwwj 1131 8 too much\n",
    "\n",
    "def print_subtree(root):\n",
    "    for c in root.children:\n",
    "        print(c.name, '(', ' + '.join(cc.name for cc in c.children), ') = ',\n",
    "                c.weight, ' + '.join(str(tree_weight(x)) for x in c.children),\n",
    "             ' = ', tree_weight(c))\n",
    "\n",
    "print_subtree(tower['boropxd'])\n",
    "\n",
    "def find_subtree(node):\n",
    "    w = [tree_weight for node.children]\n",
    "    # find subtrees with mismatch in sums\n",
    "    # Count how many of each sum\n",
    "    "
   ]
  },
  {
   "cell_type": "markdown",
   "metadata": {},
   "source": [
    "## [Day 8](http://adventofcode.com/2017/day/8): I Heard You Like Registers\n",
    "Given a list of unusual register instructions, what is the largest value in any register after completing the instructions?\n",
    "\n",
    "Each line contains a statement of two expressions. Let's start with parsing the lines. Note that array() returns ints or floats for numbers, not strings."
   ]
  },
  {
   "cell_type": "code",
   "execution_count": 10,
   "metadata": {
    "collapsed": false
   },
   "outputs": [
    {
     "data": {
      "text/plain": [
       "[['v', 'inc', 523.0, 'if', 't', '==', 6.0],\n",
       " ['qen', 'dec', -450.0, 'if', 'lht', '!=', 10.0],\n",
       " ['jyg', 'dec', -378.0, 'if', 'lb', '!=', -6.0],\n",
       " ['k', 'inc', -994.0, 'if', 'z', '<', 6.0],\n",
       " ['gjr', 'inc', -698.0, 'if', 'hbq', '<', 9.0]]"
      ]
     },
     "execution_count": 10,
     "metadata": {},
     "output_type": "execute_result"
    }
   ],
   "source": [
    "program = array(Input(8).read())\n",
    "program[:5]"
   ]
  },
  {
   "cell_type": "markdown",
   "metadata": {},
   "source": [
    "I started out with creating two functions; one for evaluating the conditional expression and one for the inc/dec expression. But I realized that they shared a lot of symmetry. Let's piggy-back on Pythons eval function."
   ]
  },
  {
   "cell_type": "code",
   "execution_count": 13,
   "metadata": {
    "collapsed": false
   },
   "outputs": [
    {
     "data": {
      "text/plain": [
       "True"
      ]
     },
     "execution_count": 13,
     "metadata": {},
     "output_type": "execute_result"
    }
   ],
   "source": [
    "def eval_expr(lhs, op, rhs):\n",
    "    expr = '{} {} {}'.format(lhs, op, rhs)\n",
    "    return eval(expr)\n",
    "\n",
    "eval_expr(1, '<', 2)"
   ]
  },
  {
   "cell_type": "markdown",
   "metadata": {},
   "source": [
    "I choose to represent the registers as a defaultdict, which will return 0 for unseen keys."
   ]
  },
  {
   "cell_type": "code",
   "execution_count": null,
   "metadata": {
    "collapsed": true
   },
   "outputs": [],
   "source": [
    "def run(program):\n",
    "    regs = defaultdict(int)\n",
    "    for dst, op, imm1, _, src, cmp, imm2 in program:\n",
    "        if eval_expr(regs[src], cmp, imm2):\n",
    "            regs[dst] = eval_expr(regs[dst], '+' if op == 'inc' else '-', imm1)\n",
    "    return max(regs.values())\n",
    "\n",
    "run(program)"
   ]
  },
  {
   "cell_type": "markdown",
   "metadata": {},
   "source": [
    "In **part 2** we're asked to find the highest value held in any register during this process.\n",
    "\n",
    "The highest value will be returned from eval_expr. I used a decorator for storing the largest return value."
   ]
  },
  {
   "cell_type": "code",
   "execution_count": 15,
   "metadata": {
    "collapsed": false
   },
   "outputs": [
    {
     "name": "stdout",
     "output_type": "stream",
     "text": [
      "3818.0\n"
     ]
    }
   ],
   "source": [
    "def record_max(f):\n",
    "    record_max.maxval = -1\n",
    "    def _f(*args):\n",
    "        ret = f(*args)\n",
    "        record_max.maxval = max(record_max.maxval, ret)\n",
    "        return ret\n",
    "    return _f\n",
    "\n",
    "@record_max\n",
    "def eval_expr(lhs, op, rhs):\n",
    "    expr = '{} {} {}'.format(lhs, op, rhs)\n",
    "    return eval(expr)\n",
    "\n",
    "run(program)\n",
    "print(record_max.maxval)"
   ]
  },
  {
   "cell_type": "markdown",
   "metadata": {},
   "source": [
    "## [Day 9](http://adventofcode.com/2017/day/9): Stream Processing\n",
    "TODO(dannas): Write description"
   ]
  },
  {
   "cell_type": "code",
   "execution_count": 34,
   "metadata": {
    "collapsed": false
   },
   "outputs": [
    {
     "data": {
      "text/plain": [
       "11347"
      ]
     },
     "execution_count": 34,
     "metadata": {},
     "output_type": "execute_result"
    }
   ],
   "source": [
    "def tokens(stream):\n",
    "    it = iter(stream)\n",
    "    for c in it:\n",
    "        if c == '<':\n",
    "            while c != '>':\n",
    "                if c == '!':\n",
    "                    next(it)\n",
    "                c = next(it)\n",
    "        else:\n",
    "            yield c\n",
    "        \n",
    "def scan_stream(stream):\n",
    "    score = 0\n",
    "    nesting = 0\n",
    "    for t in tokens2(stream):\n",
    "        if t == '{':\n",
    "            nesting += 1\n",
    "        elif t == '}':\n",
    "            score += nesting\n",
    "            nesting -= 1\n",
    "    return score\n",
    "\n",
    "scan_stream(Input(9).read())\n",
    "        "
   ]
  },
  {
   "cell_type": "markdown",
   "metadata": {},
   "source": [
    "In **part 2** we're asked to count how many non-canceled characters are within the garbage in the puzzle input."
   ]
  },
  {
   "cell_type": "code",
   "execution_count": 32,
   "metadata": {
    "collapsed": false
   },
   "outputs": [
    {
     "data": {
      "text/plain": [
       "5404"
      ]
     },
     "execution_count": 32,
     "metadata": {},
     "output_type": "execute_result"
    }
   ],
   "source": [
    "def garbage(stream):\n",
    "    N = 0\n",
    "    it = iter(stream)\n",
    "    for c in it:\n",
    "        if c == '<':\n",
    "            c = next(it)\n",
    "            while c != '>':\n",
    "                if c == '!':\n",
    "                    next(it)\n",
    "                else:\n",
    "                    N += 1\n",
    "                c = next(it)       \n",
    "    return N\n",
    "\n",
    "assert garbage(\"<random characters>\") == 17\n",
    "assert garbage(\"<{o\\\"i!a,<{i<a>\") == 10\n",
    "assert garbage(\"<<<<>\") == 3\n",
    "assert garbage(\"<{!>}>\") == 2\n",
    "assert garbage(\"<>\") == 0\n",
    "assert garbage(\"<!!>\") == 0\n",
    "assert garbage(\"<!!!>>\") == 0\n",
    "garbage(Input(9).read())\n"
   ]
  },
  {
   "cell_type": "markdown",
   "metadata": {
    "collapsed": true
   },
   "source": [
    "## [Day 10](http://adventofcode.com/2017/day/10): Knot Hash\n",
    "Calculate a hashsum given a list of lengths. The hash sum is calculated by first reversing spans whose lengths are determined by the input; then the sum is the result of multiplying the first two numbers in the list.\n",
    "\n",
    "I had trouble reversing the cyclic list. Solved it by brute force - copying the part before the current position to the end, then joining the parts back together."
   ]
  },
  {
   "cell_type": "code",
   "execution_count": 177,
   "metadata": {
    "collapsed": false
   },
   "outputs": [
    {
     "data": {
      "text/plain": [
       "7888"
      ]
     },
     "execution_count": 177,
     "metadata": {},
     "output_type": "execute_result"
    }
   ],
   "source": [
    "def reverse(numbers, pos, N):\n",
    "    copy = numbers[:] + numbers[:pos]\n",
    "    copy[pos:pos+N] = reversed(copy[pos:pos+N])\n",
    "    return copy[len(numbers):] + copy[pos:len(numbers)]\n",
    "def forward(pos, length, skip_size, N):\n",
    "    return (pos + length + skip_size) % N\n",
    "    \n",
    "reverse([0, 1, 2], 0, 3) == [2, 1, 0]\n",
    "reverse([0, 1, 2], 2, 2) == [2, 1, 0]\n",
    "reverse([0, 1, 2], 2, 3) == [0, 2, 1]\n",
    "\n",
    "def hash(lengths, N=256, verbose=False):\n",
    "    numbers = list(range(N))\n",
    "    pos = 0\n",
    "    skip_size = 0\n",
    "    for L in lengths:\n",
    "        numbers = reverse(numbers, pos, L)\n",
    "        if verbose: print(pos, L, skip_size, numbers)\n",
    "        pos = forward(pos, L, skip_size, N)\n",
    "        skip_size += 1\n",
    "    return numbers\n",
    "hash([3, 4, 1, 5], N=5) == [3, 4, 2, 1, 0]\n",
    "lengths = [int(x) for x in InputStr(10).split(',')]\n",
    "x, y, *_ = hash(lengths)\n",
    "x * y"
   ]
  },
  {
   "cell_type": "markdown",
   "metadata": {},
   "source": [
    "In **part 2** we're asked to process input of bytes instead of numbers. Many steps, but each one is mechanical.\n",
    "\n",
    "I wasted some time trying to use a list comprehension for dense_hash. "
   ]
  },
  {
   "cell_type": "code",
   "execution_count": 216,
   "metadata": {
    "collapsed": false
   },
   "outputs": [
    {
     "data": {
      "text/plain": [
       "'decdf7d377879877173b7f2fb131cf1b'"
      ]
     },
     "execution_count": 216,
     "metadata": {},
     "output_type": "execute_result"
    }
   ],
   "source": [
    "def hash_round(numbers, pos, skip_size, lengths, N=256):\n",
    "    for L in lengths:\n",
    "        numbers = reverse(numbers, pos, L)\n",
    "        pos = forward(pos, L, skip_size, N)\n",
    "        skip_size += 1\n",
    "    return numbers, pos, skip_size\n",
    "\n",
    "def sparse_hash(lengths, N=256):\n",
    "    numbers = list(range(N))\n",
    "    pos = 0\n",
    "    skip_size = 0\n",
    "    for _ in range(64):\n",
    "        numbers, pos, skip_size = hash_round(numbers, pos, skip_size, lengths)\n",
    "    return numbers\n",
    "\n",
    "def dense_hash(numbers):\n",
    "    h = []\n",
    "    for offset in range(0, 256, 16):\n",
    "        x = numbers[offset]\n",
    "        for j in range(offset+1, offset+16):\n",
    "            x ^= numbers[j]\n",
    "        h.append(x)\n",
    "    return h\n",
    "\n",
    "def hex_nibble(nibble):\n",
    "    return '0123456789abcdef'[nibble]\n",
    "\n",
    "def to_hex(val):\n",
    "    return hex_nibble(val >> 4) + hex_nibble(val & 0x0f)\n",
    "\n",
    "def knot_hash(bytes):\n",
    "    lengths = [ord(x) for x in bytes]\n",
    "    lengths += [17, 31, 73, 47, 23]\n",
    "    numbers = sparse_hash(lengths)\n",
    "    numbers = dense_hash(numbers)\n",
    "    return cat([to_hex(x) for x in numbers])\n",
    "    \n",
    "assert knot_hash([]) == 'a2582a3a0e66e6e86e3812dcb672a272'\n",
    "assert knot_hash(\"AoC 2017\") == '33efeb34ea91902bb2f59c9920caa6cd'\n",
    "\n",
    "knot_hash(InputStr(10))"
   ]
  },
  {
   "cell_type": "markdown",
   "metadata": {},
   "source": [
    "## [Day 11](http://adventofcode.com/2017/day/11): Hex Ed\n",
    "TODO(dannas): Write description"
   ]
  },
  {
   "cell_type": "code",
   "execution_count": 13,
   "metadata": {
    "collapsed": false
   },
   "outputs": [
    {
     "name": "stdout",
     "output_type": "stream",
     "text": [
      "(473, 891)\n"
     ]
    },
    {
     "data": {
      "text/plain": [
       "683"
      ]
     },
     "execution_count": 13,
     "metadata": {},
     "output_type": "execute_result"
    }
   ],
   "source": [
    "directions = dict(s=(0, -2), sw=(-1, -1), se=(1, -1), n=(0, 2), nw=(-1, 1), ne=(1, 1))\n",
    "\n",
    "def bfs(goal, startpos):\n",
    "    visited = set()\n",
    "    queue = deque()\n",
    "    queue.append([startpos])\n",
    "    while queue:\n",
    "        steps = queue.popleft()\n",
    "        for name, d in directions.items():\n",
    "            newpos = move(steps[-1], d)\n",
    "            if newpos not in visited:\n",
    "                visited.add(newpos)\n",
    "                newlist = steps + [newpos]\n",
    "                if newpos == goal:\n",
    "                    return newlist\n",
    "                queue.append(newlist)\n",
    "            \n",
    "def walk(steps):\n",
    "    pos = (0, 0)\n",
    "    for d in steps:\n",
    "        pos = move(pos, directions[d])\n",
    "    return pos\n",
    "\n",
    "#walk('ne,ne,ne'.split(','))\n",
    "#walk('ne,ne,s,s'.split(','))\n",
    "goal = walk(Input(11).read().strip().split(','))\n",
    "print(goal)\n",
    "path = bfs(goal, (0, 0))\n",
    "len(path) - 1"
   ]
  },
  {
   "cell_type": "markdown",
   "metadata": {
    "collapsed": true
   },
   "source": [
    "In **part 2** we're asked how many steps away he is as furthest from the starting position.\n",
    "\n",
    "Now I can't rely on a brute force search. I'll have to figure out how to calculate the distance function for hex grids.\n",
    "\n",
    "TODO(dannas): Solve part 2."
   ]
  },
  {
   "cell_type": "code",
   "execution_count": 14,
   "metadata": {
    "collapsed": false
   },
   "outputs": [
    {
     "data": {
      "text/plain": [
       "(473, 891)"
      ]
     },
     "execution_count": 14,
     "metadata": {},
     "output_type": "execute_result"
    }
   ],
   "source": [
    "walk(Input(11).read().strip().split(','))"
   ]
  },
  {
   "cell_type": "code",
   "execution_count": 21,
   "metadata": {
    "collapsed": false
   },
   "outputs": [
    {
     "name": "stdout",
     "output_type": "stream",
     "text": [
      "0\n",
      "(473, 473)\n",
      "418\n",
      "891\n"
     ]
    }
   ],
   "source": [
    "pos = (0, 0)\n",
    "print(X(pos))\n",
    "while X(pos) < 473:\n",
    "    pos = move(pos, directions['ne'])\n",
    "print(pos)\n",
    "print(891 - Y(pos))\n",
    "print(473 + 418)"
   ]
  },
  {
   "cell_type": "code",
   "execution_count": 3,
   "metadata": {
    "collapsed": false
   },
   "outputs": [
    {
     "data": {
      "text/plain": [
       "829"
      ]
     },
     "execution_count": 3,
     "metadata": {},
     "output_type": "execute_result"
    }
   ],
   "source": [
    "def L(pos):\n",
    "    return pos[0]\n",
    "def U(pos):\n",
    "    return pos[1]\n",
    "def R(pos):\n",
    "    return pos[2]\n",
    "\n",
    "def move(pos, direction):\n",
    "    return (L(pos) + L(direction), U(pos) + U(direction), R(pos) + R(direction))\n",
    "\n",
    "def walk(steps):\n",
    "    # left, up, right\n",
    "    pos = (0, 0, 0)\n",
    "    path = [pos]\n",
    "    directions = dict(s=(0, -1, 0), sw=(0, -1, -1), se=(-1, -1,  0), n=(0, 1,  0), nw=(1, 1, 0), ne=(0, 1, 1))\n",
    "    for d in steps:\n",
    "        pos = move(pos, directions[d])\n",
    "        path.append(pos)\n",
    "    return path\n",
    "\n",
    "\n",
    "path = walk(Input(11).read().strip().split(','))\n",
    "\n",
    "def hexgrid_distance(p, q=(0, 0, 0)):\n",
    "    diff = (L(p) - L(q), U(p) - U(q), R(p) - R(q))\n",
    "    return max(mapt(abs, (diff)))\n",
    "\n",
    "max(path, key=hexgrid_distance)\n"
   ]
  },
  {
   "cell_type": "markdown",
   "metadata": {
    "collapsed": true
   },
   "source": [
    "## [Day 12](http://adventofcode.com/2017/day/12): Digital Plumber\n",
    "We are given a list of connections between \"programs\". Find out how many programs are reachable from the program with id 0?\n",
    "\n",
    "This sounds like a good fit for the union-find algorithm. Start with identifying the largest id."
   ]
  },
  {
   "cell_type": "code",
   "execution_count": 29,
   "metadata": {
    "collapsed": false
   },
   "outputs": [
    {
     "data": {
      "text/plain": [
       "1999"
      ]
     },
     "execution_count": 29,
     "metadata": {},
     "output_type": "execute_result"
    }
   ],
   "source": [
    "N = max(x for L in Input(12) for x in ints(line))\n",
    "N"
   ]
  },
  {
   "cell_type": "markdown",
   "metadata": {},
   "source": [
    "Create an id array with N+1 elements. The value at each position represents the group id. So a[0] = 42 means that 0 belongs to group 42."
   ]
  },
  {
   "cell_type": "code",
   "execution_count": 33,
   "metadata": {
    "collapsed": false
   },
   "outputs": [],
   "source": [
    "a = list(range(0, N+1))\n",
    "\n",
    "def find(a, x):\n",
    "    return a[x]\n",
    "\n",
    "def union(a, x, y):\n",
    "    px = find(a,x)\n",
    "    py = find(a, y)\n",
    "    if px ==  py:\n",
    "        return\n",
    "    for i in range(0, N+1):\n",
    "        if a[i] == px:\n",
    "            a[i] = py"
   ]
  },
  {
   "cell_type": "markdown",
   "metadata": {},
   "source": [
    "Loop over pairs and call union on them."
   ]
  },
  {
   "cell_type": "code",
   "execution_count": 34,
   "metadata": {
    "collapsed": false
   },
   "outputs": [
    {
     "data": {
      "text/plain": [
       "239"
      ]
     },
     "execution_count": 34,
     "metadata": {},
     "output_type": "execute_result"
    }
   ],
   "source": [
    "def parse(line):\n",
    "    x, neighbors = line.split('<->')\n",
    "    for n in neighbors.split(', '):\n",
    "        yield int(x), int(n)\n",
    "\n",
    "for x, y in (pair for line in Input(12) for pair in parse(line)):\n",
    "    union(a, x, y)\n",
    "\n",
    "len([x for x in a if x == a[0]])"
   ]
  },
  {
   "cell_type": "markdown",
   "metadata": {
    "collapsed": true
   },
   "source": [
    "In **part 2** we're asked how many groups are there in total?\n",
    "\n",
    "That would be the number of unique group ids."
   ]
  },
  {
   "cell_type": "code",
   "execution_count": 31,
   "metadata": {
    "collapsed": false
   },
   "outputs": [
    {
     "data": {
      "text/plain": [
       "215"
      ]
     },
     "execution_count": 31,
     "metadata": {},
     "output_type": "execute_result"
    }
   ],
   "source": [
    "len(set(a))"
   ]
  },
  {
   "cell_type": "markdown",
   "metadata": {
    "collapsed": true
   },
   "source": [
    "## [Day 13](http://adventofcode.com/2017/day/13): Packet Scanners\n",
    "\n",
    "Return the severity, defined as the sum of layer*depth, of getting through a firewall."
   ]
  },
  {
   "cell_type": "code",
   "execution_count": 35,
   "metadata": {
    "collapsed": false
   },
   "outputs": [
    {
     "data": {
      "text/plain": [
       "1876"
      ]
     },
     "execution_count": 35,
     "metadata": {},
     "output_type": "execute_result"
    }
   ],
   "source": [
    "def is_caught(num_steps, layer_range):\n",
    "    if layer_range <= 2:\n",
    "        return (num_steps % layer_range) == 0\n",
    "    return num_steps % (layer_range + layer_range - 2) == 0\n",
    "\n",
    "def caught_at(layers):\n",
    "    return (kv for kv in layers if is_caught(*kv))\n",
    "\n",
    "layers = [ints(L) for L in Input(13)]    \n",
    "sum(layer * depth for layer, depth in caught_at(layers))"
   ]
  },
  {
   "cell_type": "markdown",
   "metadata": {
    "collapsed": true
   },
   "source": [
    "In **part 2** we're tasked with finding the fewest number of picoseconds that we need to delay the packets to pass through the firewall without getting caught.\n",
    "\n",
    "I was mislead by the long time taken for this calculation and aborted it prematurely."
   ]
  },
  {
   "cell_type": "code",
   "execution_count": 34,
   "metadata": {
    "collapsed": false
   },
   "outputs": [
    {
     "data": {
      "text/plain": [
       "3964778"
      ]
     },
     "execution_count": 34,
     "metadata": {},
     "output_type": "execute_result"
    }
   ],
   "source": [
    "def find_delay(layers):\n",
    "    for delay in count_from(0):\n",
    "        path = [(k+delay, v) for k, v in layers]\n",
    "        if quantify(kv for kv in caught_at(path)) == 0:\n",
    "            return delay\n",
    "        \n",
    "find_delay(layers)"
   ]
  },
  {
   "cell_type": "markdown",
   "metadata": {},
   "source": [
    "## [Day 14](http://adventofcode.com/2017/day/14): Disk defragmentation\n",
    "Reverse engineer a hash to determine how many squares in a grid are used."
   ]
  },
  {
   "cell_type": "code",
   "execution_count": 231,
   "metadata": {
    "collapsed": false
   },
   "outputs": [
    {
     "data": {
      "text/plain": [
       "8214"
      ]
     },
     "execution_count": 231,
     "metadata": {},
     "output_type": "execute_result"
    }
   ],
   "source": [
    "def row_key(key_string, row):\n",
    "    return '{}-{}'.format(key_string, row)\n",
    "\n",
    "def bits_count(x):\n",
    "    return bin(x).count('1')\n",
    "\n",
    "def hamming_weight(hash_digits):\n",
    "    return sum(bits_count(x) for x in hash_digits)\n",
    "    \n",
    "def hash_ints(hash):\n",
    "    return [int(hash[i:i+2], base=16) for i in range(0, 32, 2)]\n",
    "\n",
    "def squares_used(key_string):\n",
    "    n = 0\n",
    "    for row in range(128):\n",
    "        key = row_key(key_string, row)\n",
    "        hash = knot_hash(key)\n",
    "        numbers = hash_ints(hash)\n",
    "        n += hamming_weight(numbers)\n",
    "    return n    \n",
    "        \n",
    "key_string =  'hxtvlmkl'\n",
    "\n",
    "squares_used(key_string)"
   ]
  },
  {
   "cell_type": "markdown",
   "metadata": {},
   "source": [
    "In **part 2** we're asked to count the number of regions. A region consists of a group of used squares that are adjacent, not including diagonals.\n",
    "\n",
    "I decided to use a breadth first search and color the visited squares with a serial number. To avoid messy border calculations I inserted a border of '.' sentinels.\n",
    "\n",
    "Had several bugs.\n",
    "* off by one errors for the range of points\n",
    "* to_binstring did not include leading zeroes\n",
    "* to_binstring had an off-by-one in size argument to str.format()\n",
    "* I used x,y for grid[X(P)][Y(P)]\n",
    "\n",
    "The root cause of these problems was that I hadn't split the problem up in a way that allowed me to test the parts separately.\n"
   ]
  },
  {
   "cell_type": "code",
   "execution_count": 281,
   "metadata": {
    "collapsed": false
   },
   "outputs": [
    {
     "data": {
      "text/plain": [
       "1093"
      ]
     },
     "execution_count": 281,
     "metadata": {},
     "output_type": "execute_result"
    }
   ],
   "source": [
    "def to_binstring(hexstring):\n",
    "    return '{:0128b}'.format(int(hexstring, base=16))\n",
    "\n",
    "def create_grid(key_string):\n",
    "    rows = []\n",
    "    for row in range(128):\n",
    "        key = row_key(key_string, row)\n",
    "        hash = knot_hash(key)\n",
    "        row = to_binstring(hash)\n",
    "        row = '.' + row + '.'\n",
    "        rows.append(row)\n",
    "    rows.insert(0, '.' * 130)\n",
    "    rows.append('.' * 130)\n",
    "    return rows\n",
    "\n",
    "def find_neighbors(grid):\n",
    "    points = ((x, y) for x in range(1, 129) for y in range(1, 129))\n",
    "    visited = {}\n",
    "    color = 1\n",
    "    for P in points:\n",
    "        if grid[X(P)][Y(P)] == '1' and P not in visited:\n",
    "            queue = deque()\n",
    "            queue.append(P)\n",
    "            while len(queue) > 0:\n",
    "                pos = queue.popleft()\n",
    "                visited[pos] = color\n",
    "                for n in neighbors4(pos):\n",
    "                    assert X(n) < len(grid)\n",
    "                    assert X(n) >= 0\n",
    "                    assert Y(n) < len(grid[0])\n",
    "                    assert Y(n) >= 0\n",
    "                    if grid[X(n)][Y(n)] == '1' and n not in visited:\n",
    "                        queue.append(n)\n",
    "            color += 1\n",
    "    return max(visited.values())\n",
    "\n",
    "grid = create_grid(key_string)\n",
    "\n",
    "find_neighbors(grid)\n"
   ]
  },
  {
   "cell_type": "markdown",
   "metadata": {},
   "source": [
    "## [Day 15](http://adventofcode.com/2017/day/15): Dueling Generators\n",
    "Count the number of times the lower 16 bits of numbers from two sequences matches.\n",
    "\n",
    "I had 0xff instead of 0xffff as bitmask. Took me a while to spot."
   ]
  },
  {
   "cell_type": "code",
   "execution_count": 301,
   "metadata": {
    "collapsed": false
   },
   "outputs": [
    {
     "data": {
      "text/plain": [
       "612"
      ]
     },
     "execution_count": 301,
     "metadata": {},
     "output_type": "execute_result"
    }
   ],
   "source": [
    "def gen_a(seed):\n",
    "    x = seed\n",
    "    while True:\n",
    "        x = (x * 16807) % 2147483647\n",
    "        yield x\n",
    "def gen_b(seed):\n",
    "    x = seed\n",
    "    while True:\n",
    "        x = (x * 48271) % 2147483647\n",
    "        yield x\n",
    "    \n",
    "MILLION = 10**6\n",
    "def count_score(a_seed, b_seed, N = 40 * MILLION):\n",
    "    score = 0\n",
    "    for a, b in zip(gen_a(a_seed), gen_b(b_seed)):\n",
    "        if (a & 0xffff) == (b & 0xffff):\n",
    "            score += 1\n",
    "        N -= 1\n",
    "        if N == 0:\n",
    "            return score\n",
    "count_score(722, 354)\n"
   ]
  },
  {
   "cell_type": "markdown",
   "metadata": {
    "collapsed": true
   },
   "source": [
    "In **part 2** we're asked to only generate numbers that are multiples of 4 respectively 8."
   ]
  },
  {
   "cell_type": "code",
   "execution_count": 303,
   "metadata": {
    "collapsed": false
   },
   "outputs": [
    {
     "data": {
      "text/plain": [
       "285"
      ]
     },
     "execution_count": 303,
     "metadata": {},
     "output_type": "execute_result"
    }
   ],
   "source": [
    "def gen_a(seed):\n",
    "    x = seed\n",
    "    while True:\n",
    "        x = (x * 16807) % 2147483647\n",
    "        if x % 4 == 0:\n",
    "            yield x\n",
    "def gen_b(seed):\n",
    "    x = seed\n",
    "    while True:\n",
    "        x = (x * 48271) % 2147483647\n",
    "        if x % 8 == 0:\n",
    "            yield x\n",
    "    \n",
    "MILLION = 10**6\n",
    "def count_score(a_seed, b_seed, N = 5 * MILLION):\n",
    "    score = 0\n",
    "    for a, b in zip(gen_a(a_seed), gen_b(b_seed)):\n",
    "        if (a & 0xffff) == (b & 0xffff):\n",
    "            score += 1\n",
    "        N -= 1\n",
    "        if N == 0:\n",
    "            return score\n",
    "#count_score(65, 8921)\n",
    "count_score(722, 354)"
   ]
  },
  {
   "cell_type": "markdown",
   "metadata": {},
   "source": [
    "## [Day 16](http://adventofcode.com/2017/day/16): Permutation Promenade\n",
    "TODO(dannas): Write description"
   ]
  },
  {
   "cell_type": "code",
   "execution_count": 27,
   "metadata": {
    "collapsed": false
   },
   "outputs": [
    {
     "data": {
      "text/plain": [
       "'gkmndaholjbfcepi'"
      ]
     },
     "execution_count": 27,
     "metadata": {},
     "output_type": "execute_result"
    }
   ],
   "source": [
    "def dance(programs, moves):\n",
    "    \n",
    "    def spin(n):\n",
    "        programs[:] = programs[-n:] + programs[:-n]\n",
    "    def exchange(p, q):\n",
    "        t = programs[p]\n",
    "        programs[p] = programs[q]\n",
    "        programs[q] = t\n",
    "    def partner(x, y):\n",
    "        p = programs.index(x)\n",
    "        q = programs.index(y)\n",
    "        exchange(p, q)\n",
    "    for move in moves:\n",
    "        if move[0] == 's':\n",
    "            spin(*ints(move))\n",
    "        elif move[0] == 'x':\n",
    "            exchange(*ints(move))\n",
    "        else:\n",
    "            partner(move[1], move[3])\n",
    "    return cat(programs)\n",
    "\n",
    "assert dance(list('abcde'), 's1 x3/4 pe/b'.split()) == 'baedc'\n",
    "\n",
    "programs = list('abcdefghijklmnop')\n",
    "moves = Input(16).read().split(',')\n",
    "\n",
    "dance(programs, moves)\n"
   ]
  },
  {
   "cell_type": "markdown",
   "metadata": {},
   "source": [
    "In **part 2** we're asked to do the dance one billion times.\n",
    "\n",
    "Measuring the execution time for dance, gives a runtime on my machine of ~20ms. That adds up to almost a year of runtime."
   ]
  },
  {
   "cell_type": "code",
   "execution_count": 24,
   "metadata": {
    "collapsed": false
   },
   "outputs": [
    {
     "data": {
      "text/plain": [
       "'abihnfkojcmegldp'"
      ]
     },
     "execution_count": 24,
     "metadata": {},
     "output_type": "execute_result"
    }
   ],
   "source": [
    "def memo(f):\n",
    "    cache = {}\n",
    "    def _f(*args):\n",
    "        try:\n",
    "            return cache[args]\n",
    "        except KeyError:\n",
    "            cache[args] = result = f(*args)\n",
    "        return result\n",
    "    return _f     \n",
    "\n",
    "def dance2(programs, moves):\n",
    "    \n",
    "    def spin(n):\n",
    "        programs[:] = programs[-n:] + programs[:-n]\n",
    "    def exchange(p, q):\n",
    "        t = programs[p]\n",
    "        programs[p] = programs[q]\n",
    "        programs[q] = t\n",
    "    def partner(x, y):\n",
    "        p = programs.index(x)\n",
    "        q = programs.index(y)\n",
    "        exchange(p, q)\n",
    "    programs = list(programs)\n",
    "    for move in moves:\n",
    "        if move[0] == 's':\n",
    "            spin(*move[1:])\n",
    "        elif move[0] == 'x':\n",
    "            exchange(*move[1:])\n",
    "        else:\n",
    "            partner(*move[1:])\n",
    "    return tuple(programs)\n",
    "\n",
    "def parse(move):\n",
    "    if move[0] == 's':\n",
    "        return ('s', *ints(move))\n",
    "    elif move[0] == 'x':\n",
    "        return ('x', *ints(move))\n",
    "    else:\n",
    "        return ('p', move[1],  move[3])\n",
    "    \n",
    "programs = tuple('abcdefghijklmnop')\n",
    "moves = [parse(move) for move in Input(16).read().split(',')]\n",
    "\n",
    "def keep_on_dancing(programs, moves, N=5000):\n",
    "    cache = {}\n",
    "    r = programs\n",
    "    for _ in range(N):\n",
    "        indata = r\n",
    "        try:\n",
    "            r = cache[indata]\n",
    "        except KeyError:\n",
    "            r = cache[indata] = dance2(indata, moves)\n",
    "    return cat(r)\n",
    "        \n",
    "keep_on_dancing(programs, moves, N=10**9)\n"
   ]
  },
  {
   "cell_type": "markdown",
   "metadata": {
    "collapsed": true
   },
   "source": [
    "## [Day 17](http://adventofcode.com/2017/day/17): Spinlock\n"
   ]
  },
  {
   "cell_type": "code",
   "execution_count": 38,
   "metadata": {
    "collapsed": false
   },
   "outputs": [
    {
     "data": {
      "text/plain": [
       "[0, 1, 2, 42]"
      ]
     },
     "execution_count": 38,
     "metadata": {},
     "output_type": "execute_result"
    }
   ],
   "source": [
    "def spin(until, num_steps):\n",
    "    L = [0]\n",
    "    pos = 0\n",
    "    for i in range(1, until+1):\n",
    "        pos = (pos + num_steps) % len(L)\n",
    "        L.insert(pos+1, i)\n",
    "        pos = (pos + 1) % len(L)\n",
    "        #print(L)\n",
    "    print(L[pos-5:pos+5])\n",
    "    print(L[pos])\n",
    "    return L[pos+1]"
   ]
  },
  {
   "cell_type": "code",
   "execution_count": 83,
   "metadata": {
    "collapsed": false
   },
   "outputs": [
    {
     "name": "stdout",
     "output_type": "stream",
     "text": [
      "0 (1) \n",
      "0 (2) 1 \n",
      "0 2 (3) 1 \n",
      "0 2 (4) 3 1 \n",
      "0 2 (5) 4 3 1 \n",
      "0 2 5 4 3 1 (6) \n",
      "0 2 (7) 5 4 3 1 6 \n",
      "0 2 (8) 7 5 4 3 1 6 \n",
      "0 2 8 (9) 7 5 4 3 1 6 \n",
      "0 2 8 (10) 9 7 5 4 3 1 6 \n"
     ]
    },
    {
     "data": {
      "text/plain": [
       "9"
      ]
     },
     "execution_count": 83,
     "metadata": {},
     "output_type": "execute_result"
    }
   ],
   "source": [
    "class Node:\n",
    "    def __init__(self, val=None, next=None):\n",
    "        self.val = val\n",
    "        self.next = next if next else self\n",
    "    def __str__(self):\n",
    "        return str(self.val)\n",
    "    def __repr__(self):\n",
    "        return str(self)\n",
    "\n",
    "def insert(prev, val):\n",
    "    node = Node(val, prev.next)\n",
    "    prev.next = node\n",
    "    return node\n",
    "\n",
    "def print_nodes(root, current):\n",
    "    node = root\n",
    "    s = \"\"\n",
    "    while True:\n",
    "        if id(node) == id(current):\n",
    "            s += \"(\" + str(node.val) + \") \"\n",
    "        else:\n",
    "            s += str(node.val) + \" \"\n",
    "        node = node.next\n",
    "        if id(node) == id(root):\n",
    "            break\n",
    "    print(s)\n",
    "\n",
    "def spin3(until, num_steps):\n",
    "    root = Node(0)\n",
    "    node = root\n",
    "    for i in range(1, until+1):\n",
    "        for _ in range(num_steps):\n",
    "            node = node.next\n",
    "        node = insert(node, i)\n",
    "        print_nodes(root, node)\n",
    "    return node.next.val\n",
    "    \n",
    "\n",
    "spin3(10, 638)\n",
    "        \n"
   ]
  },
  {
   "cell_type": "markdown",
   "metadata": {},
   "source": [
    "## [Day 18](http://adventofcode.com/2017/day/18): Duet\n",
    "TODO(dannas): Write description"
   ]
  },
  {
   "cell_type": "code",
   "execution_count": 87,
   "metadata": {
    "collapsed": false
   },
   "outputs": [
    {
     "data": {
      "text/plain": [
       "['set i 31',\n",
       " 'set a 1',\n",
       " 'mul p 17',\n",
       " 'jgz p p',\n",
       " 'mul a 2',\n",
       " 'add i -1',\n",
       " 'jgz i -2',\n",
       " 'add a -1',\n",
       " 'set i 127',\n",
       " 'set p 316']"
      ]
     },
     "execution_count": 87,
     "metadata": {},
     "output_type": "execute_result"
    }
   ],
   "source": [
    "InputStr(18).split('\\n')[:10]"
   ]
  },
  {
   "cell_type": "code",
   "execution_count": 123,
   "metadata": {
    "collapsed": false
   },
   "outputs": [
    {
     "name": "stdout",
     "output_type": "stream",
     "text": [
      "1 set a 1 dict_items([('a', 1)]) 0\n",
      "2 add a 2 dict_items([('a', 3)]) 0\n",
      "3 mul a a dict_items([('a', 9)]) 0\n",
      "4 mod a 5 dict_items([('a', 4)]) 0\n",
      "5 snd a dict_items([('a', 4)]) 4\n",
      "6 set a 0 dict_items([('a', 0)]) 4\n",
      "7 rcv a dict_items([('a', 0)]) 4\n",
      "8 jgz a -1 dict_items([('a', 0)]) 4\n",
      "9 set a 1 dict_items([('a', 1)]) 4\n",
      "7 jgz a -2 dict_items([('a', 1)]) 4\n",
      "6 jgz a -1 dict_items([('a', 1)]) 4\n"
     ]
    },
    {
     "data": {
      "text/plain": [
       "True"
      ]
     },
     "execution_count": 123,
     "metadata": {},
     "output_type": "execute_result"
    }
   ],
   "source": [
    "def run(instructions, verbose=False):\n",
    "    regs = defaultdict(int)\n",
    "    pc = 0\n",
    "    speaker = 0\n",
    "    def lookup(operand):\n",
    "        return operand if isinstance(operand, int) else regs[operand]\n",
    "    while pc >= 0 and pc < len(instructions):\n",
    "        op, arg1, *arg2 = instructions[pc]\n",
    "        if   op == 'snd': speaker = lookup(arg1)\n",
    "        elif op == 'set': regs[arg1]  = lookup(*arg2)\n",
    "        elif op == 'add': regs[arg1] += lookup(*arg2)\n",
    "        elif op == 'mul': regs[arg1] *= lookup(*arg2)\n",
    "        elif op == 'mod': regs[arg1] %= lookup(*arg2)\n",
    "        elif op == 'rcv': \n",
    "            if lookup(arg1) != 0:\n",
    "                return speaker\n",
    "        elif op == 'jgz':\n",
    "            if lookup(arg1) > 0:\n",
    "                pc += lookup(*arg2) - 1\n",
    "        pc += 1\n",
    "        if verbose: print(pc, op, arg1, *arg2, regs.items(), speaker)\n",
    "    \n",
    "    return regs\n",
    "\n",
    "instructions = \"\"\"\n",
    "set a 1\n",
    "add a 2\n",
    "mul a a\n",
    "mod a 5\n",
    "snd a\n",
    "set a 0\n",
    "rcv a\n",
    "jgz a -1\n",
    "set a 1\n",
    "jgz a -2\n",
    "\"\"\".strip()\n",
    "\n",
    "run(array(instructions), verbose=True) == 4"
   ]
  },
  {
   "cell_type": "code",
   "execution_count": 124,
   "metadata": {
    "collapsed": false
   },
   "outputs": [
    {
     "data": {
      "text/plain": [
       "2951"
      ]
     },
     "execution_count": 124,
     "metadata": {},
     "output_type": "execute_result"
    }
   ],
   "source": [
    "run(array(InputStr(18)))"
   ]
  },
  {
   "cell_type": "code",
   "execution_count": 125,
   "metadata": {
    "collapsed": true
   },
   "outputs": [],
   "source": [
    "class Program:\n",
    "    def __init__(self, pid):\n",
    "        self.pid = pid                \n",
    "    def run(self, instructions, verbose=False):\n",
    "        regs = defaultdict(int)\n",
    "        regs['p'] = self.pid\n",
    "        pc = 0\n",
    "        def lookup(operand):\n",
    "            return operand if isinstance(operand, int) else regs[operand]\n",
    "        while pc >= 0 and pc < len(instructions):\n",
    "            op, arg1, *arg2 = instructions[pc]\n",
    "            if   op == 'snd': speaker = lookup(arg1)\n",
    "            elif op == 'set': regs[arg1]  = lookup(*arg2)\n",
    "            elif op == 'add': regs[arg1] += lookup(*arg2)\n",
    "            elif op == 'mul': regs[arg1] *= lookup(*arg2)\n",
    "            elif op == 'mod': regs[arg1] %= lookup(*arg2)\n",
    "            elif op == 'rcv': \n",
    "                if lookup(arg1) != 0:\n",
    "                    return speaker\n",
    "            elif op == 'jgz':\n",
    "                if lookup(arg1) > 0:\n",
    "                    pc += lookup(*arg2) - 1\n",
    "            pc += 1\n",
    "            if verbose: print(pc, op, arg1, *arg2, regs.items(), speaker)"
   ]
  },
  {
   "cell_type": "code",
   "execution_count": 126,
   "metadata": {
    "collapsed": false
   },
   "outputs": [
    {
     "data": {
      "text/plain": [
       "2951"
      ]
     },
     "execution_count": 126,
     "metadata": {},
     "output_type": "execute_result"
    }
   ],
   "source": [
    "P = Program(0)\n",
    "P.run(array(InputStr(18)))"
   ]
  },
  {
   "cell_type": "markdown",
   "metadata": {},
   "source": [
    "## [Day 19](http://adventofcode.com/2017/day/19): A Series of Tubes\n",
    "Follow an ASCII diagram chart, recording the letters that you we pass. \n",
    "\n",
    "I used a border around the grid, for simplifying the neighbor checks. I forgot to add the lower and upper border in create_grid. Took some time before I figured that out.\n",
    "\n",
    "I was under the impression that the grid tube didn't have to have a '+' when it changed direction. That would have simplified the find_direction function.\n",
    "\n",
    "In **part 2** we're asked how many steps was needed.  That's just a matter of counting number of iterations of the loop in walk()."
   ]
  },
  {
   "cell_type": "code",
   "execution_count": 339,
   "metadata": {
    "collapsed": false
   },
   "outputs": [
    {
     "data": {
      "text/plain": [
       "('LXWCKGRAOY', 17302)"
      ]
     },
     "execution_count": 339,
     "metadata": {},
     "output_type": "execute_result"
    }
   ],
   "source": [
    "DOT = '.'\n",
    "E, N, W, S = [(1, 0), (0, 1), (-1, 0), (0, -1)]\n",
    "directions = set([E, N, W, S])\n",
    "UNKNOWN = (0, 0)\n",
    "\n",
    "def opposite_direction(direction):\n",
    "    if direction == E:\n",
    "        return W\n",
    "    if direction == W:\n",
    "        return E\n",
    "    if direction == N:\n",
    "        return S\n",
    "    if direction == S:\n",
    "        return N\n",
    "\n",
    "def create_grid(): \n",
    "    grid = [DOT + L.rstrip('\\n') + DOT for L in Input(19)]\n",
    "    empty = [DOT] * len(grid[0])\n",
    "    return [empty] + grid + [empty]\n",
    "\n",
    "def move(pos, direction):\n",
    "    return (X(pos) + X(direction), Y(pos) + Y(direction))\n",
    "\n",
    "def find_start(grid):\n",
    "    pos = grid[1].find('|')\n",
    "    return (1, pos), S\n",
    "\n",
    "def find_direction(grid, pos, direction):\n",
    "    c = grid[X(pos)][Y(pos)]\n",
    "    # Can we just continue in the same direction?\n",
    "    newpos = move(pos, direction)\n",
    "    if grid[X(newpos)][Y(newpos)] in '|-+' or grid[X(newpos)][Y(newpos)].isalpha():\n",
    "        return pos, direction\n",
    "    # What direction should we choose next?\n",
    "    for d in directions - set([opposite_direction(direction)]):\n",
    "        newpos = move(pos, d)\n",
    "        if grid[X(newpos)][Y(newpos)] in '|-':\n",
    "            return pos, d\n",
    "    return pos, UNKNOWN\n",
    "\n",
    "grid = create_grid()\n",
    "pos, direction = find_start(grid)\n",
    "\n",
    "def walk(grid):\n",
    "    letters = ''\n",
    "    pos, direction = find_start(grid)\n",
    "    num_steps = 0\n",
    "    while direction != UNKNOWN:\n",
    "        c = grid[X(pos)][Y(pos)]\n",
    "        if c.isalpha():\n",
    "            letters += c\n",
    "        pos, direction = find_direction(grid, pos, direction)\n",
    "        pos = move(pos, direction)\n",
    "        num_steps += 1\n",
    "    return letters, num_steps\n",
    "        \n",
    "walk(grid)\n"
   ]
  },
  {
   "cell_type": "markdown",
   "metadata": {},
   "source": [
    "## [Day 20](http://adventofcode.com/2017/day/20): Particle Swarm\n",
    "We're given position, velocity and acceleration for a set of particles. Each tick, all particles are updated simultaenously. Which particle will stay closest to position <0, 0, 0> in the long term?\n",
    "\n",
    "The calculation of positions and velocity is opaque. I should use better names or extract code into functions."
   ]
  },
  {
   "cell_type": "code",
   "execution_count": 362,
   "metadata": {
    "collapsed": false
   },
   "outputs": [
    {
     "data": {
      "text/plain": [
       "119"
      ]
     },
     "execution_count": 362,
     "metadata": {},
     "output_type": "execute_result"
    }
   ],
   "source": [
    "def coordinates(string):\n",
    "    matches = re.findall(r'-?\\d+', string)\n",
    "    return mapt(int, matches)\n",
    "\n",
    "def add3(v1, v2):\n",
    "    return (v1[0] + v2[0], v1[1] + v2[1], v1[2] + v2[2])\n",
    "\n",
    "def cityblock_distance3(P, q=(0, 0, 0)): \n",
    "    \"City block distance between two points in 3d space.\"\n",
    "    p = P[0]\n",
    "    return abs(p[0] - q[0]) + abs(p[1] - q[1]) + abs(p[2] - q[2])\n",
    "\n",
    "particles = [mapt(coordinates, line.split(', ')) for line in Input(20)]\n",
    "\n",
    "for _ in range(1000):\n",
    "    particles = [(P[0], add3(P[1], P[2]), P[2]) for P in particles]\n",
    "    particles = [(add3(P[0], P[1]), P[1], P[2]) for P in particles]\n",
    "\n",
    "val = min(particles, key=cityblock_distance3)\n",
    "particles.index(val)"
   ]
  },
  {
   "cell_type": "markdown",
   "metadata": {},
   "source": [
    "In **part 2** we're asked to count how many particles are left if we filter out collisions."
   ]
  },
  {
   "cell_type": "code",
   "execution_count": 366,
   "metadata": {
    "collapsed": false
   },
   "outputs": [
    {
     "data": {
      "text/plain": [
       "471"
      ]
     },
     "execution_count": 366,
     "metadata": {},
     "output_type": "execute_result"
    }
   ],
   "source": [
    "particles = [mapt(coordinates, line.split(', ')) for line in Input(20)]\n",
    "\n",
    "for _ in range(1000):\n",
    "    particles = [(P[0], add3(P[1], P[2]), P[2]) for P in particles]\n",
    "    particles = [(add3(P[0], P[1]), P[1], P[2]) for P in particles]\n",
    "    counts = Counter([P[0] for P in particles])\n",
    "    particles = [P for P in particles if counts[P[0]] == 1]\n",
    "len(particles)"
   ]
  },
  {
   "cell_type": "markdown",
   "metadata": {},
   "source": [
    "## [Day 21](http://adventofcode.com/2017/day/21): Fractal Art\n"
   ]
  },
  {
   "cell_type": "code",
   "execution_count": 370,
   "metadata": {
    "collapsed": false
   },
   "outputs": [
    {
     "data": {
      "text/plain": [
       "['.#.', '..#', '###']"
      ]
     },
     "execution_count": 370,
     "metadata": {},
     "output_type": "execute_result"
    }
   ],
   "source": [
    "image = \"\"\"\n",
    ".#.\n",
    "..#\n",
    "###\"\"\".strip().split()\n",
    "image\n",
    "\n",
    "def size(image):\n",
    "    return len(image)\n",
    "\n",
    "def rotates_and_flips(image):\n",
    "    # Rotate on x?\n",
    "    # Rotate on y?\n",
    "    # Rotate on both?\n",
    "    # Flip one line?\n",
    "    # Flip multiple lines?\n",
    "    \n",
    "\n",
    "image"
   ]
  },
  {
   "cell_type": "markdown",
   "metadata": {},
   "source": [
    "## [Day 22](http://adventofcode.com/2017/day/22): Sporifica Virus\n",
    "Given a map of \"computer nodes\" that may be infected by a virus or not, determine how many burst of activity cause a node to become infected. The map only contains the center of the grid; there are many more nodes beyond those shown, but none of them are currently infected.\n",
    "\n",
    "Looks like a graph walk problem, where the bounds of the graph is not known. I'll represent the graph as a list of strings"
   ]
  },
  {
   "cell_type": "code",
   "execution_count": 39,
   "metadata": {
    "collapsed": false
   },
   "outputs": [
    {
     "name": "stdout",
     "output_type": "stream",
     "text": [
      "5369\n"
     ]
    }
   ],
   "source": [
    "DIRECTIONS = W, N, E, S = [(-1, 0), (0, -1), (1, 0), (0, 1)]\n",
    "STR_DIRECTIONS = {W:'W', N:'N', E:'E', S:'S'}\n",
    "\n",
    "def create_grid(string):\n",
    "    lines = string.splitlines()\n",
    "    grid = defaultdict(lambda: str('.'))\n",
    "    N = len(lines)\n",
    "    startpos = N//2,  N//2\n",
    "    for y, row in enumerate(lines):\n",
    "        for x, node in enumerate(row):\n",
    "            grid[(x, y)] = node\n",
    "    return grid, startpos\n",
    "          \n",
    "def turn_left(direction):\n",
    "    index = DIRECTIONS.index(direction)\n",
    "    return DIRECTIONS[index-1]\n",
    "\n",
    "def turn_right(direction):\n",
    "    index = DIRECTIONS.index(direction)\n",
    "    return DIRECTIONS[index-3]\n",
    "\n",
    "def reverse(direction):\n",
    "    index = DIRECTIONS.index(direction)\n",
    "    return DIRECTIONS[index-2]\n",
    "\n",
    "num_infecting_bursts = 0\n",
    "def burst(pos, direction, grid):\n",
    "    global num_infecting_bursts\n",
    "    if grid[pos] == '#':\n",
    "        grid[pos] =  '.'\n",
    "        direction = turn_right(direction)\n",
    "    else:\n",
    "        grid[pos] = '#'\n",
    "        direction = turn_left(direction)\n",
    "        num_infecting_bursts += 1\n",
    "    pos = move(pos, direction)\n",
    "    return pos, direction, grid\n",
    "\n",
    "grid, pos = create_grid(InputStr(22))\n",
    "direction = N\n",
    "for _ in range(10000):\n",
    "    pos, direction, grid = burst(pos, direction, grid)\n",
    "print(num_infecting_bursts)\n"
   ]
  },
  {
   "cell_type": "code",
   "execution_count": 38,
   "metadata": {
    "collapsed": false
   },
   "outputs": [
    {
     "name": "stdout",
     "output_type": "stream",
     "text": [
      "2510774\n"
     ]
    }
   ],
   "source": [
    "num_infecting_bursts = 0\n",
    "def burst2(pos, direction, grid):\n",
    "    global num_infecting_bursts\n",
    "    node = grid[pos]\n",
    "    if node ==  '.':\n",
    "        grid[pos] = 'W'\n",
    "        direction = turn_left(direction)\n",
    "    elif node == 'W':\n",
    "        grid[pos] = '#'\n",
    "        num_infecting_bursts += 1\n",
    "    elif node == '#':\n",
    "        grid[pos] = 'F'\n",
    "        direction = turn_right(direction)\n",
    "    elif node == 'F':\n",
    "        grid[pos] = '.'\n",
    "        direction = reverse(direction)\n",
    "    pos = move(pos, direction)\n",
    "    return pos,  direction, grid\n",
    "\n",
    "grid, pos = create_grid(InputStr(22))\n",
    "direction = N\n",
    "for _ in range(10000000):\n",
    "    pos, direction, grid = burst2(pos, direction, grid)\n",
    "print(num_infecting_bursts)"
   ]
  },
  {
   "cell_type": "markdown",
   "metadata": {},
   "source": [
    "## [Day 23](adventofcode.com/2017/day/23): Coprocessor Conflagration\n"
   ]
  },
  {
   "cell_type": "code",
   "execution_count": 2,
   "metadata": {
    "collapsed": false
   },
   "outputs": [
    {
     "data": {
      "text/plain": [
       "(6241, 1)"
      ]
     },
     "execution_count": 2,
     "metadata": {},
     "output_type": "execute_result"
    }
   ],
   "source": [
    "def run(instructions, debug=False):\n",
    "    regs = defaultdict(int)\n",
    "    if debug:\n",
    "        regs['a'] = 1\n",
    "    pc = 0\n",
    "    num_multiplies = 0\n",
    "    def lookup(operand):\n",
    "        return operand if isinstance(operand, int) else regs[operand]\n",
    "    while pc >= 0 and pc < len(instructions):\n",
    "        op, arg1, *arg2 = instructions[pc]\n",
    "        if   op == 'set': regs[arg1]  = lookup(*arg2)\n",
    "        elif op == 'sub': regs[arg1] -= lookup(*arg2)\n",
    "        elif op == 'mul': \n",
    "            regs[arg1] *= lookup(*arg2)\n",
    "            num_multiplies += 1\n",
    "        elif op == 'jnz':\n",
    "            if lookup(arg1) != 0:\n",
    "                pc += lookup(*arg2) - 1\n",
    "        pc += 1\n",
    "    \n",
    "    return num_multiplies, regs['h']\n",
    "\n",
    "run(array(InputStr(23)))\n"
   ]
  },
  {
   "cell_type": "markdown",
   "metadata": {},
   "source": [
    "In **part 2** we're asked to determine what value the h-register would have if the computation were to terminate.\n",
    "\n",
    "I let the program run for a few minutes, and sure enough it didn't finish. How go about this one? The only calculations that this program needs to do, are the ones that ultimately have effect on 'h'.\n",
    "\n",
    "I seem to recall that compiler people talk about data dependencies and control flow dependencies. Are those two orthogonal axis that you explore when you do optimizations?\n",
    "I know of strenght reductions and constant folding, but those won't help much here.\n",
    "\n",
    "A program can be described as consisting of blocks that are separated by control flow. Can any of such basic blocks be eliminated. If so, how?\n",
    "\n",
    "How can I show the basic block of the program?\n",
    "Maybe start with illustrating jnz src and dst?"
   ]
  },
  {
   "cell_type": "code",
   "execution_count": 3,
   "metadata": {
    "collapsed": false
   },
   "outputs": [
    {
     "name": "stdout",
     "output_type": "stream",
     "text": [
      "[(31, 7), (23, 9), (19, 10), (2, 3), (14, 15), (24, 25), (28, 29), (29, 31), (3, 7)]\n",
      "          ['set', 'b', 81]\n",
      "          ['set', 'c', 'b']\n",
      "   +      ['jnz', 'a', 2]\n",
      "   ^    + ['jnz', 1, 5]\n",
      "        | ['mul', 'b', 100]\n",
      "        | ['sub', 'b', -100000]\n",
      "        | ['set', 'c', 'b']\n",
      "^       ^ ['sub', 'c', -17000]\n",
      "|         ['set', 'f', 1]\n",
      "|^        ['set', 'd', 2]\n",
      "||^       ['set', 'e', 2]\n",
      "|||       ['set', 'g', 'd']\n",
      "|||       ['mul', 'g', 'e']\n",
      "|||       ['sub', 'g', 'b']\n",
      "||| +     ['jnz', 'g', 2]\n",
      "||| ^     ['set', 'f', 0]\n",
      "|||       ['sub', 'e', -1]\n",
      "|||       ['set', 'g', 'e']\n",
      "|||       ['sub', 'g', 'b']\n",
      "||+       ['jnz', 'g', -8]\n",
      "||        ['sub', 'd', -1]\n",
      "||        ['set', 'g', 'd']\n",
      "||        ['sub', 'g', 'b']\n",
      "|+        ['jnz', 'g', -13]\n",
      "|    +    ['jnz', 'f', 2]\n",
      "|    ^    ['sub', 'h', -1]\n",
      "|         ['set', 'g', 'b']\n",
      "|         ['sub', 'g', 'c']\n",
      "|     +   ['jnz', 'g', 2]\n",
      "|     ^+  ['jnz', 1, 3]\n",
      "|      |  ['sub', 'b', -17]\n",
      "+      ^  ['jnz', 1, -23]\n"
     ]
    }
   ],
   "source": [
    "instructions = array(InputStr(23))\n",
    "\n",
    "jumps = [(src, src+y-1) for src, (op, x,  y) in enumerate(instructions) if op == 'jnz']\n",
    "\n",
    "def diff(r):\n",
    "    x, y = r\n",
    "    return x-y\n",
    "jumps.sort(key=diff, reverse=True)\n",
    "print(jumps)\n",
    "N = len(instructions)\n",
    "M = len(jumps)\n",
    "prefix = [' '] * M\n",
    "margin = []\n",
    "for _ in range(N):\n",
    "    margin.append(prefix[:])\n",
    "\n",
    "for col, (src, dst) in enumerate(jumps):\n",
    "    margin[src][col] = '+'\n",
    "    margin[dst][col] = '^'\n",
    "    if src > dst:\n",
    "        src, dst = dst, src\n",
    "    for i in range(src+1, dst):\n",
    "        margin[i][col] = '|'\n",
    "margin = [''.join(row) for row in margin]\n",
    "for i in range(N):\n",
    "    print(margin[i], instructions[i])"
   ]
  },
  {
   "cell_type": "code",
   "execution_count": 8,
   "metadata": {
    "collapsed": false
   },
   "outputs": [
    {
     "data": {
      "text/plain": [
       "0"
      ]
     },
     "execution_count": 8,
     "metadata": {},
     "output_type": "execute_result"
    }
   ],
   "source": [
    "def run_b():\n",
    "    a = b = c = d = e = f = g = h = 0\n",
    "    b = 81\n",
    "    c = b\n",
    "    # jnz a 2\n",
    "    # jnz 1 5\n",
    "    if a:\n",
    "        b *= 100\n",
    "        b -= -100000\n",
    "        c = b\n",
    "    while True:\n",
    "        c -= -17000\n",
    "        f = 1\n",
    "        while True:\n",
    "            d = 2\n",
    "            while True:\n",
    "                e = 2\n",
    "                g = d\n",
    "                g *= e\n",
    "                g -= b\n",
    "                if g:\n",
    "                    # jnz g 2\n",
    "                    f = 0\n",
    "                e -= -1\n",
    "                g = e\n",
    "                g = b\n",
    "                if g:\n",
    "                    break\n",
    "                # jnz g -8\n",
    "            d -= -1\n",
    "            g = d\n",
    "            g -= b\n",
    "            if g:\n",
    "                break\n",
    "            # jnz g -13\n",
    "        if f:\n",
    "            # jnz f 2\n",
    "            h -= -1\n",
    "        g = b\n",
    "        g -= c\n",
    "        if g:\n",
    "            return h\n",
    "        # jnz g 2\n",
    "        # jnz 1 3\n",
    "        b -= -17\n",
    "        # jnz 1 -23\n",
    "run_b()"
   ]
  },
  {
   "cell_type": "markdown",
   "metadata": {
    "collapsed": true
   },
   "source": [
    "## [Day 24](http://adventofcode.com/2017/day/24): Electromagnetic Moat\n",
    "Build the strongest bridge possible from magnetic components. The strength of a bridge is the sum of the port types in each component.\n",
    "\n",
    "Let's start by parsing the components:"
   ]
  },
  {
   "cell_type": "code",
   "execution_count": 29,
   "metadata": {
    "collapsed": false
   },
   "outputs": [
    {
     "data": {
      "text/plain": [
       "57"
      ]
     },
     "execution_count": 29,
     "metadata": {},
     "output_type": "execute_result"
    }
   ],
   "source": [
    "components = set(ints(line) for line in Input(24))\n",
    "len(components)\n"
   ]
  },
  {
   "cell_type": "markdown",
   "metadata": {},
   "source": [
    "We need to find the maximum bridge. Sounds like a search problem. Should we use A* search or is the number of possibilities small enough to allow an exhaustive depth first search?"
   ]
  },
  {
   "cell_type": "code",
   "execution_count": 4,
   "metadata": {
    "collapsed": true
   },
   "outputs": [],
   "source": [
    "# Use a tree\n",
    "# Use a graph\n",
    "# How keep track of which components has been selected\n",
    "# Store remaining items together with selected items?"
   ]
  },
  {
   "cell_type": "code",
   "execution_count": 36,
   "metadata": {
    "collapsed": false
   },
   "outputs": [
    {
     "data": {
      "text/plain": [
       "2006"
      ]
     },
     "execution_count": 36,
     "metadata": {},
     "output_type": "execute_result"
    }
   ],
   "source": [
    "def find_matches(number, components):\n",
    "    return [c for c in components if number in c]\n",
    "\n",
    "def build_bridges(components):\n",
    "    bridges = []\n",
    "    queue = deque()\n",
    "    for c in find_matches(0, components):\n",
    "        queue.append([[c], components-{c}])\n",
    "    while queue:\n",
    "        used, remaining = queue.popleft()\n",
    "        number = used[-1][1]\n",
    "        matches = find_matches(number, remaining)\n",
    "        if not matches:\n",
    "            bridges.append(used)\n",
    "        else:\n",
    "            for c in matches:\n",
    "                nc = c if c[0] == number else (c[1], c[0])\n",
    "                queue.append([used + [nc], remaining - {c}])\n",
    "    return bridges\n",
    "\n",
    "test_components = [\n",
    "    (0, 2), (2, 2), (2, 3), (3, 4), (3, 5), (0, 1), (10, 1), (9, 10)\n",
    "]\n",
    "\n",
    "bridges = build_bridges(components)\n",
    "#bridges = build_bridges(set(test_components))\n",
    "\n",
    "def strength(bridge):\n",
    "    return sum(x+y for x, y in bridge)\n",
    "\n",
    "max(strength(b) for b in bridges)"
   ]
  },
  {
   "cell_type": "code",
   "execution_count": 41,
   "metadata": {
    "collapsed": false
   },
   "outputs": [
    {
     "data": {
      "text/plain": [
       "[(34, 1994),\n",
       " (34, 1994),\n",
       " (34, 1994),\n",
       " (34, 1994),\n",
       " (34, 1994),\n",
       " (34, 1994),\n",
       " (34, 1994),\n",
       " (34, 1994),\n",
       " (34, 1994),\n",
       " (34, 1994),\n",
       " (34, 1994),\n",
       " (34, 1994),\n",
       " (34, 1994),\n",
       " (34, 1994),\n",
       " (34, 1994),\n",
       " (34, 1994),\n",
       " (34, 1994),\n",
       " (34, 1994),\n",
       " (34, 1994),\n",
       " (34, 1994),\n",
       " (34, 1994),\n",
       " (34, 1994),\n",
       " (34, 1994),\n",
       " (34, 1994),\n",
       " (34, 1994),\n",
       " (34, 1994),\n",
       " (34, 1994),\n",
       " (34, 1994),\n",
       " (34, 1994),\n",
       " (34, 1994),\n",
       " (34, 1994),\n",
       " (34, 1994),\n",
       " (34, 1994),\n",
       " (34, 1994),\n",
       " (34, 1994),\n",
       " (34, 1994),\n",
       " (34, 1994),\n",
       " (34, 1994),\n",
       " (34, 1994),\n",
       " (34, 1994),\n",
       " (34, 1994),\n",
       " (34, 1994),\n",
       " (34, 1994),\n",
       " (34, 1994),\n",
       " (34, 1994),\n",
       " (34, 1994),\n",
       " (34, 1994),\n",
       " (34, 1994),\n",
       " (34, 1994),\n",
       " (34, 1994),\n",
       " (34, 1994),\n",
       " (34, 1994),\n",
       " (34, 1994),\n",
       " (34, 1994),\n",
       " (34, 1994),\n",
       " (34, 1994),\n",
       " (34, 1994),\n",
       " (34, 1994),\n",
       " (34, 1994),\n",
       " (34, 1994),\n",
       " (34, 1994),\n",
       " (34, 1994),\n",
       " (34, 1994),\n",
       " (34, 1994),\n",
       " (34, 1994),\n",
       " (34, 1994),\n",
       " (34, 1994),\n",
       " (34, 1994),\n",
       " (34, 1994),\n",
       " (34, 1994),\n",
       " (34, 1994),\n",
       " (34, 1994),\n",
       " (34, 1994),\n",
       " (34, 1994),\n",
       " (34, 1994),\n",
       " (34, 1994),\n",
       " (34, 1994),\n",
       " (34, 1994),\n",
       " (34, 1994),\n",
       " (34, 1994),\n",
       " (34, 1994),\n",
       " (34, 1994),\n",
       " (34, 1994),\n",
       " (34, 1994),\n",
       " (34, 1994),\n",
       " (34, 1994),\n",
       " (34, 1994),\n",
       " (34, 1994),\n",
       " (34, 1964),\n",
       " (34, 1964),\n",
       " (34, 1964),\n",
       " (34, 1964),\n",
       " (34, 1964),\n",
       " (34, 1964),\n",
       " (34, 1964),\n",
       " (34, 1964),\n",
       " (34, 1964),\n",
       " (34, 1964),\n",
       " (34, 1964),\n",
       " (34, 1964),\n",
       " (34, 1964),\n",
       " (34, 1964),\n",
       " (34, 1964),\n",
       " (34, 1964),\n",
       " (34, 1964),\n",
       " (34, 1964),\n",
       " (34, 1964),\n",
       " (34, 1964),\n",
       " (34, 1964),\n",
       " (34, 1964),\n",
       " (34, 1964),\n",
       " (34, 1964),\n",
       " (34, 1964),\n",
       " (34, 1964),\n",
       " (34, 1964),\n",
       " (34, 1964),\n",
       " (34, 1964),\n",
       " (34, 1964),\n",
       " (34, 1964),\n",
       " (34, 1964),\n",
       " (34, 1964),\n",
       " (34, 1964),\n",
       " (34, 1964),\n",
       " (34, 1964),\n",
       " (34, 1964),\n",
       " (34, 1964),\n",
       " (34, 1964),\n",
       " (34, 1964),\n",
       " (34, 1964),\n",
       " (34, 1964),\n",
       " (34, 1964),\n",
       " (34, 1964),\n",
       " (34, 1964),\n",
       " (34, 1964),\n",
       " (34, 1964),\n",
       " (34, 1964),\n",
       " (34, 1964),\n",
       " (34, 1964),\n",
       " (34, 1964),\n",
       " (34, 1964),\n",
       " (34, 1964),\n",
       " (34, 1964),\n",
       " (34, 1964),\n",
       " (34, 1964),\n",
       " (34, 1964),\n",
       " (34, 1964),\n",
       " (34, 1964),\n",
       " (34, 1964),\n",
       " (34, 1964),\n",
       " (34, 1964),\n",
       " (34, 1964),\n",
       " (34, 1964),\n",
       " (34, 1964),\n",
       " (34, 1964),\n",
       " (34, 1964),\n",
       " (34, 1964),\n",
       " (34, 1964),\n",
       " (34, 1964),\n",
       " (34, 1964),\n",
       " (34, 1964),\n",
       " (34, 1964),\n",
       " (34, 1964),\n",
       " (34, 1964),\n",
       " (34, 1964),\n",
       " (34, 1964),\n",
       " (34, 1964),\n",
       " (34, 1964),\n",
       " (34, 1964),\n",
       " (34, 1964),\n",
       " (34, 1964),\n",
       " (34, 1964),\n",
       " (34, 1964),\n",
       " (34, 1964),\n",
       " (34, 1964),\n",
       " (34, 1964),\n",
       " (34, 1964),\n",
       " (34, 1964),\n",
       " (34, 1964),\n",
       " (34, 1964),\n",
       " (34, 1964),\n",
       " (34, 1964),\n",
       " (34, 1964),\n",
       " (34, 1964),\n",
       " (34, 1964),\n",
       " (34, 1964),\n",
       " (34, 1964),\n",
       " (34, 1964),\n",
       " (34, 1964),\n",
       " (34, 1964),\n",
       " (34, 1964),\n",
       " (34, 1964),\n",
       " (34, 1964),\n",
       " (34, 1964),\n",
       " (34, 1964),\n",
       " (34, 1964),\n",
       " (34, 1964),\n",
       " (34, 1964),\n",
       " (34, 1964),\n",
       " (34, 1964),\n",
       " (34, 1964),\n",
       " (34, 1964),\n",
       " (34, 1964),\n",
       " (34, 1964),\n",
       " (34, 1964),\n",
       " (34, 1964),\n",
       " (34, 1964),\n",
       " (34, 1964),\n",
       " (34, 1964),\n",
       " (34, 1964),\n",
       " (34, 1964),\n",
       " (34, 1964),\n",
       " (34, 1964),\n",
       " (34, 1964),\n",
       " (34, 1964),\n",
       " (34, 1964),\n",
       " (34, 1964),\n",
       " (34, 1964),\n",
       " (34, 1964),\n",
       " (34, 1964),\n",
       " (34, 1964),\n",
       " (34, 1964),\n",
       " (34, 1964),\n",
       " (34, 1964),\n",
       " (34, 1964),\n",
       " (34, 1964),\n",
       " (34, 1964),\n",
       " (34, 1964),\n",
       " (34, 1964),\n",
       " (34, 1964),\n",
       " (34, 1964),\n",
       " (34, 1964),\n",
       " (34, 1964),\n",
       " (34, 1964),\n",
       " (34, 1964),\n",
       " (34, 1964),\n",
       " (34, 1964),\n",
       " (34, 1964),\n",
       " (34, 1964),\n",
       " (34, 1964),\n",
       " (34, 1964),\n",
       " (34, 1964),\n",
       " (34, 1964),\n",
       " (34, 1964),\n",
       " (34, 1964),\n",
       " (34, 1964),\n",
       " (34, 1964),\n",
       " (34, 1964),\n",
       " (34, 1964),\n",
       " (34, 1964),\n",
       " (34, 1964),\n",
       " (34, 1964),\n",
       " (34, 1964),\n",
       " (34, 1964),\n",
       " (34, 1964),\n",
       " (34, 1964),\n",
       " (34, 1964),\n",
       " (34, 1964),\n",
       " (34, 1964),\n",
       " (34, 1964),\n",
       " (34, 1964),\n",
       " (34, 1964),\n",
       " (34, 1964),\n",
       " (34, 1964),\n",
       " (34, 1964),\n",
       " (34, 1964),\n",
       " (34, 1964),\n",
       " (34, 1964),\n",
       " (34, 1964),\n",
       " (34, 1964),\n",
       " (34, 1964),\n",
       " (34, 1964),\n",
       " (34, 1964),\n",
       " (34, 1964),\n",
       " (34, 1964),\n",
       " (34, 1964),\n",
       " (34, 1964),\n",
       " (34, 1964),\n",
       " (34, 1964),\n",
       " (34, 1964),\n",
       " (34, 1964),\n",
       " (34, 1964),\n",
       " (34, 1964),\n",
       " (34, 1964),\n",
       " (34, 1964),\n",
       " (34, 1964),\n",
       " (34, 1964),\n",
       " (34, 1964),\n",
       " (34, 1964),\n",
       " (34, 1964),\n",
       " (34, 1964),\n",
       " (34, 1964),\n",
       " (34, 1964),\n",
       " (34, 1964),\n",
       " (34, 1964),\n",
       " (34, 1964),\n",
       " (34, 1964),\n",
       " (34, 1964),\n",
       " (34, 1964),\n",
       " (34, 1964),\n",
       " (34, 1964),\n",
       " (34, 1964),\n",
       " (34, 1964),\n",
       " (34, 1964),\n",
       " (34, 1964),\n",
       " (34, 1964),\n",
       " (34, 1964),\n",
       " (34, 1964),\n",
       " (34, 1964),\n",
       " (34, 1964),\n",
       " (34, 1964),\n",
       " (34, 1964),\n",
       " (34, 1964),\n",
       " (33, 2006),\n",
       " (33, 2006),\n",
       " (33, 2006),\n",
       " (33, 2006),\n",
       " (33, 2006),\n",
       " (33, 2006),\n",
       " (33, 2006),\n",
       " (33, 2006),\n",
       " (33, 2006),\n",
       " (33, 2006),\n",
       " (33, 2006),\n",
       " (33, 2006),\n",
       " (33, 2006),\n",
       " (33, 2006),\n",
       " (33, 2006),\n",
       " (33, 2006),\n",
       " (33, 2006),\n",
       " (33, 2006),\n",
       " (33, 2006),\n",
       " (33, 2006),\n",
       " (33, 2006),\n",
       " (33, 2006),\n",
       " (33, 2006),\n",
       " (33, 2006),\n",
       " (33, 2006),\n",
       " (33, 2006),\n",
       " (33, 2006),\n",
       " (33, 2006),\n",
       " (33, 2006),\n",
       " (33, 2006),\n",
       " (33, 2006),\n",
       " (33, 2006),\n",
       " (33, 2006),\n",
       " (33, 2006),\n",
       " (33, 2006),\n",
       " (33, 2006),\n",
       " (33, 2006),\n",
       " (33, 2006),\n",
       " (33, 2006),\n",
       " (33, 2006),\n",
       " (33, 2006),\n",
       " (33, 2006),\n",
       " (33, 2006),\n",
       " (33, 2006),\n",
       " (33, 2006),\n",
       " (33, 2006),\n",
       " (33, 2006),\n",
       " (33, 2006),\n",
       " (33, 2006),\n",
       " (33, 2006),\n",
       " (33, 2006),\n",
       " (33, 2006),\n",
       " (33, 2006),\n",
       " (33, 2006),\n",
       " (33, 2006),\n",
       " (33, 2006),\n",
       " (33, 2006),\n",
       " (33, 2006),\n",
       " (33, 2006),\n",
       " (33, 2006),\n",
       " (33, 2006),\n",
       " (33, 2006),\n",
       " (33, 2006),\n",
       " (33, 2006),\n",
       " (33, 2006),\n",
       " (33, 2006),\n",
       " (33, 2006),\n",
       " (33, 2006),\n",
       " (33, 2006),\n",
       " (33, 2006),\n",
       " (33, 2006),\n",
       " (33, 2006),\n",
       " (33, 2006),\n",
       " (33, 2006),\n",
       " (33, 2006),\n",
       " (33, 2006),\n",
       " (33, 2006),\n",
       " (33, 2006),\n",
       " (33, 2006),\n",
       " (33, 2006),\n",
       " (33, 2002),\n",
       " (33, 2002),\n",
       " (33, 2002),\n",
       " (33, 2002),\n",
       " (33, 2002),\n",
       " (33, 2002),\n",
       " (33, 2002),\n",
       " (33, 2002),\n",
       " (33, 2002),\n",
       " (33, 2002),\n",
       " (33, 2002),\n",
       " (33, 2002),\n",
       " (33, 2002),\n",
       " (33, 2002),\n",
       " (33, 2002),\n",
       " (33, 2002),\n",
       " (33, 2002),\n",
       " (33, 2002),\n",
       " (33, 2002),\n",
       " (33, 2002),\n",
       " (33, 2002),\n",
       " (33, 2002),\n",
       " (33, 2002),\n",
       " (33, 2002),\n",
       " (33, 2002),\n",
       " (33, 2002),\n",
       " (33, 2002),\n",
       " (33, 2002),\n",
       " (33, 2002),\n",
       " (33, 2002),\n",
       " (33, 2002),\n",
       " (33, 2002),\n",
       " (33, 2002),\n",
       " (33, 2002),\n",
       " (33, 2002),\n",
       " (33, 2002),\n",
       " (33, 2002),\n",
       " (33, 2002),\n",
       " (33, 2002),\n",
       " (33, 2002),\n",
       " (33, 2002),\n",
       " (33, 2002),\n",
       " (33, 2002),\n",
       " (33, 2002),\n",
       " (33, 2002),\n",
       " (33, 2002),\n",
       " (33, 2002),\n",
       " (33, 2002),\n",
       " (33, 2002),\n",
       " (33, 2002),\n",
       " (33, 2002),\n",
       " (33, 2002),\n",
       " (33, 2002),\n",
       " (33, 2002),\n",
       " (33, 2002),\n",
       " (33, 2002),\n",
       " (33, 2002),\n",
       " (33, 2002),\n",
       " (33, 2002),\n",
       " (33, 2002),\n",
       " (33, 2002),\n",
       " (33, 2002),\n",
       " (33, 2002),\n",
       " (33, 2002),\n",
       " (33, 2002),\n",
       " (33, 2002),\n",
       " (33, 2002),\n",
       " (33, 2002),\n",
       " (33, 2002),\n",
       " (33, 2002),\n",
       " (33, 2002),\n",
       " (33, 2002),\n",
       " (33, 2002),\n",
       " (33, 2002),\n",
       " (33, 2002),\n",
       " (33, 2002),\n",
       " (33, 2002),\n",
       " (33, 2002),\n",
       " (33, 2002),\n",
       " (33, 2002),\n",
       " (33, 2002),\n",
       " (33, 2002),\n",
       " (33, 2002),\n",
       " (33, 2002),\n",
       " (33, 2002),\n",
       " (33, 2002),\n",
       " (33, 2002),\n",
       " (33, 2002),\n",
       " (33, 2002),\n",
       " (33, 2002),\n",
       " (33, 2002),\n",
       " (33, 2002),\n",
       " (33, 2002),\n",
       " (33, 2002),\n",
       " (33, 2002),\n",
       " (33, 2002),\n",
       " (33, 2002),\n",
       " (33, 2002),\n",
       " (33, 2002),\n",
       " (33, 2002),\n",
       " (33, 2002),\n",
       " (33, 2002),\n",
       " (33, 2002),\n",
       " (33, 2002),\n",
       " (33, 2002),\n",
       " (33, 2002),\n",
       " (33, 2002),\n",
       " (33, 2002),\n",
       " (33, 2002),\n",
       " (33, 2002),\n",
       " (33, 2002),\n",
       " (33, 2002),\n",
       " (33, 1992),\n",
       " (33, 1992),\n",
       " (33, 1992),\n",
       " (33, 1992),\n",
       " (33, 1992),\n",
       " (33, 1992),\n",
       " (33, 1992),\n",
       " (33, 1992),\n",
       " (33, 1992),\n",
       " (33, 1992),\n",
       " (33, 1992),\n",
       " (33, 1992),\n",
       " (33, 1992),\n",
       " (33, 1992),\n",
       " (33, 1992),\n",
       " (33, 1992),\n",
       " (33, 1992),\n",
       " (33, 1992),\n",
       " (33, 1992),\n",
       " (33, 1992),\n",
       " (33, 1992),\n",
       " (33, 1992),\n",
       " (33, 1992),\n",
       " (33, 1992),\n",
       " (33, 1992),\n",
       " (33, 1992),\n",
       " (33, 1992),\n",
       " (33, 1992),\n",
       " (33, 1992),\n",
       " (33, 1992),\n",
       " (33, 1992),\n",
       " (33, 1992),\n",
       " (33, 1992),\n",
       " (33, 1992),\n",
       " (33, 1992),\n",
       " (33, 1992),\n",
       " (33, 1992),\n",
       " (33, 1992),\n",
       " (33, 1992),\n",
       " (33, 1992),\n",
       " (33, 1992),\n",
       " (33, 1992),\n",
       " (33, 1992),\n",
       " (33, 1992),\n",
       " (33, 1992),\n",
       " (33, 1992),\n",
       " (33, 1992),\n",
       " (33, 1992),\n",
       " (33, 1984),\n",
       " (33, 1984),\n",
       " (33, 1984),\n",
       " (33, 1984),\n",
       " (33, 1984),\n",
       " (33, 1984),\n",
       " (33, 1984),\n",
       " (33, 1984),\n",
       " (33, 1984),\n",
       " (33, 1984),\n",
       " (33, 1984),\n",
       " (33, 1984),\n",
       " (33, 1984),\n",
       " (33, 1984),\n",
       " (33, 1984),\n",
       " (33, 1984),\n",
       " (33, 1984),\n",
       " (33, 1984),\n",
       " (33, 1984),\n",
       " (33, 1984),\n",
       " (33, 1984),\n",
       " (33, 1984),\n",
       " (33, 1984),\n",
       " (33, 1984),\n",
       " (33, 1984),\n",
       " (33, 1984),\n",
       " (33, 1984),\n",
       " (33, 1984),\n",
       " (33, 1984),\n",
       " (33, 1984),\n",
       " (33, 1984),\n",
       " (33, 1984),\n",
       " (33, 1984),\n",
       " (33, 1984),\n",
       " (33, 1984),\n",
       " (33, 1984),\n",
       " (33, 1984),\n",
       " (33, 1984),\n",
       " (33, 1984),\n",
       " (33, 1984),\n",
       " (33, 1984),\n",
       " (33, 1984),\n",
       " (33, 1984),\n",
       " (33, 1984),\n",
       " (33, 1984),\n",
       " (33, 1984),\n",
       " (33, 1984),\n",
       " (33, 1984),\n",
       " (33, 1984),\n",
       " (33, 1984),\n",
       " (33, 1984),\n",
       " (33, 1984),\n",
       " (33, 1984),\n",
       " (33, 1984),\n",
       " (33, 1984),\n",
       " (33, 1984),\n",
       " (33, 1984),\n",
       " (33, 1984),\n",
       " (33, 1984),\n",
       " (33, 1984),\n",
       " (33, 1984),\n",
       " (33, 1984),\n",
       " (33, 1984),\n",
       " (33, 1984),\n",
       " (33, 1984),\n",
       " (33, 1984),\n",
       " (33, 1984),\n",
       " (33, 1984),\n",
       " (33, 1984),\n",
       " (33, 1984),\n",
       " (33, 1984),\n",
       " (33, 1984),\n",
       " (33, 1984),\n",
       " (33, 1984),\n",
       " (33, 1984),\n",
       " (33, 1984),\n",
       " (33, 1984),\n",
       " (33, 1984),\n",
       " (33, 1984),\n",
       " (33, 1984),\n",
       " (33, 1984),\n",
       " (33, 1984),\n",
       " (33, 1984),\n",
       " (33, 1984),\n",
       " (33, 1984),\n",
       " (33, 1984),\n",
       " (33, 1984),\n",
       " (33, 1984),\n",
       " (33, 1966),\n",
       " (33, 1966),\n",
       " (33, 1966),\n",
       " (33, 1966),\n",
       " (33, 1966),\n",
       " (33, 1966),\n",
       " (33, 1966),\n",
       " (33, 1966),\n",
       " (33, 1966),\n",
       " (33, 1966),\n",
       " (33, 1966),\n",
       " (33, 1966),\n",
       " (33, 1966),\n",
       " (33, 1966),\n",
       " (33, 1966),\n",
       " (33, 1966),\n",
       " (33, 1966),\n",
       " (33, 1966),\n",
       " (33, 1966),\n",
       " (33, 1966),\n",
       " (33, 1966),\n",
       " (33, 1966),\n",
       " (33, 1966),\n",
       " (33, 1966),\n",
       " (33, 1966),\n",
       " (33, 1966),\n",
       " (33, 1966),\n",
       " (33, 1966),\n",
       " (33, 1966),\n",
       " (33, 1966),\n",
       " (33, 1966),\n",
       " (33, 1966),\n",
       " (33, 1966),\n",
       " (33, 1966),\n",
       " (33, 1966),\n",
       " (33, 1966),\n",
       " (33, 1966),\n",
       " (33, 1966),\n",
       " (33, 1966),\n",
       " (33, 1966),\n",
       " (33, 1966),\n",
       " (33, 1966),\n",
       " (33, 1966),\n",
       " (33, 1966),\n",
       " (33, 1966),\n",
       " (33, 1966),\n",
       " (33, 1966),\n",
       " (33, 1966),\n",
       " (33, 1966),\n",
       " (33, 1966),\n",
       " (33, 1966),\n",
       " (33, 1966),\n",
       " (33, 1966),\n",
       " (33, 1966),\n",
       " (33, 1966),\n",
       " (33, 1966),\n",
       " (33, 1966),\n",
       " (33, 1966),\n",
       " (33, 1966),\n",
       " (33, 1966),\n",
       " (33, 1966),\n",
       " (33, 1966),\n",
       " (33, 1966),\n",
       " (33, 1966),\n",
       " (33, 1962),\n",
       " (33, 1962),\n",
       " (33, 1962),\n",
       " (33, 1962),\n",
       " (33, 1962),\n",
       " (33, 1962),\n",
       " (33, 1962),\n",
       " (33, 1962),\n",
       " (33, 1962),\n",
       " (33, 1962),\n",
       " (33, 1962),\n",
       " (33, 1962),\n",
       " (33, 1962),\n",
       " (33, 1962),\n",
       " (33, 1962),\n",
       " (33, 1962),\n",
       " (33, 1962),\n",
       " (33, 1962),\n",
       " (33, 1962),\n",
       " (33, 1962),\n",
       " (33, 1962),\n",
       " (33, 1962),\n",
       " (33, 1962),\n",
       " (33, 1962),\n",
       " (33, 1962),\n",
       " (33, 1962),\n",
       " (33, 1962),\n",
       " (33, 1962),\n",
       " (33, 1962),\n",
       " (33, 1962),\n",
       " (33, 1962),\n",
       " (33, 1962),\n",
       " (33, 1962),\n",
       " (33, 1962),\n",
       " (33, 1962),\n",
       " (33, 1962),\n",
       " (33, 1962),\n",
       " (33, 1962),\n",
       " (33, 1962),\n",
       " (33, 1962),\n",
       " (33, 1962),\n",
       " (33, 1962),\n",
       " (33, 1962),\n",
       " (33, 1962),\n",
       " (33, 1962),\n",
       " (33, 1962),\n",
       " (33, 1962),\n",
       " (33, 1962),\n",
       " (33, 1962),\n",
       " (33, 1962),\n",
       " (33, 1962),\n",
       " (33, 1962),\n",
       " (33, 1962),\n",
       " (33, 1962),\n",
       " (33, 1962),\n",
       " (33, 1962),\n",
       " (33, 1962),\n",
       " (33, 1962),\n",
       " (33, 1962),\n",
       " (33, 1962),\n",
       " (33, 1962),\n",
       " (33, 1962),\n",
       " (33, 1962),\n",
       " (33, 1962),\n",
       " (33, 1962),\n",
       " (33, 1962),\n",
       " (33, 1962),\n",
       " (33, 1962),\n",
       " (33, 1962),\n",
       " (33, 1962),\n",
       " (33, 1962),\n",
       " (33, 1962),\n",
       " (33, 1962),\n",
       " (33, 1962),\n",
       " (33, 1962),\n",
       " (33, 1962),\n",
       " (33, 1962),\n",
       " (33, 1962),\n",
       " (33, 1962),\n",
       " (33, 1962),\n",
       " (33, 1954),\n",
       " (33, 1954),\n",
       " (33, 1954),\n",
       " (33, 1954),\n",
       " (33, 1954),\n",
       " (33, 1954),\n",
       " (33, 1954),\n",
       " (33, 1954),\n",
       " (33, 1954),\n",
       " (33, 1954),\n",
       " (33, 1954),\n",
       " (33, 1954),\n",
       " (33, 1954),\n",
       " (33, 1954),\n",
       " (33, 1954),\n",
       " (33, 1954),\n",
       " (33, 1954),\n",
       " (33, 1954),\n",
       " (33, 1954),\n",
       " (33, 1954),\n",
       " (33, 1954),\n",
       " (33, 1954),\n",
       " (33, 1954),\n",
       " (33, 1954),\n",
       " (33, 1954),\n",
       " (33, 1954),\n",
       " (33, 1954),\n",
       " (33, 1954),\n",
       " (33, 1954),\n",
       " (33, 1954),\n",
       " (33, 1954),\n",
       " (33, 1954),\n",
       " (33, 1954),\n",
       " (33, 1954),\n",
       " (33, 1954),\n",
       " (33, 1954),\n",
       " (33, 1954),\n",
       " (33, 1954),\n",
       " (33, 1954),\n",
       " (33, 1954),\n",
       " (33, 1954),\n",
       " (33, 1954),\n",
       " (33, 1954),\n",
       " (33, 1954),\n",
       " (33, 1954),\n",
       " (33, 1954),\n",
       " (33, 1954),\n",
       " (33, 1954),\n",
       " (33, 1954),\n",
       " (33, 1954),\n",
       " (33, 1954),\n",
       " (33, 1954),\n",
       " (33, 1954),\n",
       " (33, 1954),\n",
       " (33, 1954),\n",
       " (33, 1954),\n",
       " (33, 1954),\n",
       " (33, 1954),\n",
       " (33, 1954),\n",
       " (33, 1954),\n",
       " (33, 1954),\n",
       " (33, 1954),\n",
       " (33, 1954),\n",
       " (33, 1954),\n",
       " (33, 1954),\n",
       " (33, 1954),\n",
       " (33, 1954),\n",
       " (33, 1954),\n",
       " (33, 1954),\n",
       " (33, 1954),\n",
       " (33, 1954),\n",
       " (33, 1954),\n",
       " (33, 1954),\n",
       " (33, 1954),\n",
       " (33, 1954),\n",
       " (33, 1954),\n",
       " (33, 1954),\n",
       " (33, 1954),\n",
       " (33, 1954),\n",
       " (33, 1954),\n",
       " (33, 1954),\n",
       " (33, 1954),\n",
       " (33, 1954),\n",
       " (33, 1954),\n",
       " (33, 1954),\n",
       " (33, 1954),\n",
       " (33, 1954),\n",
       " (33, 1954),\n",
       " (33, 1954),\n",
       " (33, 1954),\n",
       " (33, 1954),\n",
       " (33, 1954),\n",
       " (33, 1954),\n",
       " (33, 1954),\n",
       " (33, 1954),\n",
       " (33, 1954),\n",
       " (33, 1954),\n",
       " (33, 1954),\n",
       " (33, 1954),\n",
       " (33, 1954),\n",
       " (33, 1954),\n",
       " (33, 1954),\n",
       " (33, 1954),\n",
       " (33, 1954),\n",
       " (33, 1954),\n",
       " (33, 1954),\n",
       " (33, 1954),\n",
       " (33, 1954),\n",
       " (33, 1954),\n",
       " (33, 1954),\n",
       " (33, 1954),\n",
       " (33, 1954),\n",
       " (33, 1954),\n",
       " (33, 1954),\n",
       " (33, 1954),\n",
       " (33, 1954),\n",
       " (33, 1954),\n",
       " (33, 1954),\n",
       " (33, 1954),\n",
       " (33, 1954),\n",
       " (33, 1954),\n",
       " (33, 1954),\n",
       " (33, 1954),\n",
       " (33, 1954),\n",
       " (33, 1954),\n",
       " (33, 1954),\n",
       " (33, 1954),\n",
       " (33, 1954),\n",
       " (33, 1954),\n",
       " (33, 1954),\n",
       " (33, 1954),\n",
       " (33, 1954),\n",
       " (33, 1954),\n",
       " (33, 1954),\n",
       " (33, 1954),\n",
       " (33, 1954),\n",
       " (33, 1954),\n",
       " (33, 1954),\n",
       " (33, 1954),\n",
       " (33, 1954),\n",
       " (33, 1954),\n",
       " (33, 1954),\n",
       " (33, 1954),\n",
       " (33, 1954),\n",
       " (33, 1954),\n",
       " (33, 1954),\n",
       " (33, 1954),\n",
       " (33, 1954),\n",
       " (33, 1954),\n",
       " (33, 1954),\n",
       " (33, 1954),\n",
       " (33, 1954),\n",
       " (33, 1954),\n",
       " (33, 1954),\n",
       " (33, 1954),\n",
       " (33, 1954),\n",
       " (33, 1954),\n",
       " (33, 1954),\n",
       " (33, 1954),\n",
       " (33, 1954),\n",
       " (33, 1954),\n",
       " (33, 1954),\n",
       " (33, 1954),\n",
       " (33, 1954),\n",
       " (33, 1954),\n",
       " (33, 1954),\n",
       " (33, 1954),\n",
       " (33, 1954),\n",
       " (33, 1954),\n",
       " (33, 1954),\n",
       " (33, 1954),\n",
       " (33, 1954),\n",
       " (33, 1954),\n",
       " (33, 1954),\n",
       " (33, 1954),\n",
       " (33, 1954),\n",
       " (33, 1954),\n",
       " (33, 1954),\n",
       " (33, 1954),\n",
       " (33, 1954),\n",
       " (33, 1954),\n",
       " (33, 1954),\n",
       " (33, 1954),\n",
       " (33, 1954),\n",
       " (33, 1954),\n",
       " (33, 1954),\n",
       " (33, 1954),\n",
       " (33, 1954),\n",
       " (33, 1954),\n",
       " (33, 1954),\n",
       " (33, 1954),\n",
       " (33, 1954),\n",
       " (33, 1954),\n",
       " (33, 1954),\n",
       " (33, 1954),\n",
       " (33, 1954),\n",
       " (33, 1954),\n",
       " (33, 1954),\n",
       " (33, 1954),\n",
       " (33, 1954),\n",
       " (33, 1954),\n",
       " (33, 1954),\n",
       " (33, 1954),\n",
       " (33, 1954),\n",
       " (33, 1954),\n",
       " (33, 1954),\n",
       " (33, 1954),\n",
       " (33, 1954),\n",
       " (33, 1954),\n",
       " (33, 1954),\n",
       " (33, 1954),\n",
       " (33, 1954),\n",
       " (33, 1954),\n",
       " (33, 1954),\n",
       " (33, 1954),\n",
       " (33, 1954),\n",
       " ...]"
      ]
     },
     "execution_count": 41,
     "metadata": {},
     "output_type": "execute_result"
    }
   ],
   "source": [
    "sorted(((len(b), strength(b)) for b in bridges), reverse=True)"
   ]
  },
  {
   "cell_type": "code",
   "execution_count": null,
   "metadata": {
    "collapsed": true
   },
   "outputs": [],
   "source": []
  }
 ],
 "metadata": {
  "kernelspec": {
   "display_name": "Python 3",
   "language": "python",
   "name": "python3"
  },
  "language_info": {
   "codemirror_mode": {
    "name": "ipython",
    "version": 3
   },
   "file_extension": ".py",
   "mimetype": "text/x-python",
   "name": "python",
   "nbconvert_exporter": "python",
   "pygments_lexer": "ipython3",
   "version": "3.6.3"
  }
 },
 "nbformat": 4,
 "nbformat_minor": 2
}
