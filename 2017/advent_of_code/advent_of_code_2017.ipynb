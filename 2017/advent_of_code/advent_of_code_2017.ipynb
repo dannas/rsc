{
 "cells": [
  {
   "cell_type": "markdown",
   "metadata": {},
   "source": [
    "# December 2017: Advent of Code Solutions\n",
    "## Daniel Näslund\n",
    "From Dec. 1 to Dec. 25, [I](dannas.name) will be solving the puzzles that appear each day at [Advent of Code](http://adventofcode.com/). The two-part puzzles are released at midnight EST (6:00AM CET); points are awarded to the first 100 people to solve the day's puzzles. \n",
    "\n",
    "To understand the problems completely, you will have to read the full description in the \"[Day 1](http://adventofcode.com/2017/day/1):\" link in each day's section header."
   ]
  },
  {
   "cell_type": "markdown",
   "metadata": {},
   "source": [
    "##  Prelude\n",
    "Here I import common functions and modules so I don't have to do it each day.\n",
    "These are borrowed from [Peter Norvigs Advent of Code solutions](https://github.com/norvig/pytudes/blob/master/ipynb/Advent%20of%20Code.ipynb) from 2016. I've also reused his ipython notebook layout."
   ]
  },
  {
   "cell_type": "code",
   "execution_count": 1,
   "metadata": {
    "collapsed": false
   },
   "outputs": [],
   "source": [
    "# Python 3.x\n",
    "from itertools import islice, cycle, permutations, count as count_from\n",
    "from collections import Counter, defaultdict, deque\n",
    "import re\n",
    "\n",
    "cat = ''.join\n",
    "def Input(day):\n",
    "    filename = 'advent2017/input{}.txt'.format(day);\n",
    "    return open(filename);\n",
    "    # TODO(dannas): Fetch the files from elsewhere to allow remote access\n",
    "\n",
    "def quantify(iterable, pred=bool):\n",
    "    return sum(map(pred, iterable))\n",
    "    \n",
    "# 2-D points implemented using (x, y) tuples\n",
    "def X(point): return point[0]\n",
    "def Y(point): return point[1]\n",
    "\n",
    "def move(pos, direction):\n",
    "    return (X(pos) + X(direction), Y(pos) + Y(direction))\n",
    "\n",
    "def neighbors8(point):\n",
    "    \"The eight neighbors (with diagonals)\"\n",
    "    x, y =  point\n",
    "    return ((x+1, y), (x-1, y), (x, y+1), (x, y-1),\n",
    "           (x+1, y+1), (x-1, y-1), (x+1, y-1), (x-1, y+1))\n",
    "\n",
    "def cityblock_distance(p, q=(0, 0)): \n",
    "    \"City block distance between two points.\"\n",
    "    return abs(X(p) - X(q)) + abs(Y(p) - Y(q))\n",
    "\n",
    "\n",
    "def first(iterable):\n",
    "    return next(iter(iterable))\n",
    "\n",
    "def nth(iterable, n, default=None):\n",
    "    \"Returns the nth item or a default value\"\n",
    "    return next(islice(iterable, n, None), default)\n",
    "\n",
    "def head(iterable, n=10):\n",
    "    return iterable[:10]\n",
    "\n",
    "# TODO(dannas): Maybe accept list input as well?\n",
    "def array(string):\n",
    "    return [vector(line) for line in string.splitlines()]\n",
    "\n",
    "def vector(line):\n",
    "    return [atom(word) for word in line.split()]\n",
    "\n",
    "def atom(word):\n",
    "    try:\n",
    "        return float(word)\n",
    "    except ValueError:\n",
    "        try:\n",
    "            return int(word)\n",
    "        except ValueError:\n",
    "            return word\n",
    "\n",
    "def mapt(fn, iterable):\n",
    "    return tuple(map(fn, iterable))\n",
    "\n",
    "def ints(line):\n",
    "    matches = re.findall(r'\\d+', line)\n",
    "    return mapt(int, matches)\n",
    "\n",
    "def grep(pattern, file):\n",
    "    for line in file:\n",
    "        if re.search(pattern, line):\n",
    "            print(line)\n",
    "        "
   ]
  },
  {
   "cell_type": "markdown",
   "metadata": {},
   "source": [
    "## [Day 1](http://adventofcode.com/2017/day/1): Inverse Captcha\n",
    "Given a file of digits, find the sum of all digits that match the next digit in the list. The list is circular, so the digit after the last digit is the first digit in the list.\n",
    "\n",
    "We need to parse with one token lookahead, it's enough to append the first digit to the end of the list for handling the circular case."
   ]
  },
  {
   "cell_type": "code",
   "execution_count": null,
   "metadata": {
    "collapsed": false
   },
   "outputs": [],
   "source": [
    "def pairs(seq):\n",
    "    return zip(seq[:-1], seq[1:])\n",
    "\n",
    "def solve_captcha(str):\n",
    "    digits = [int(d) for d in str] \n",
    "    if len(digits) < 2:\n",
    "        return 0\n",
    "    digits.append(digits[0])\n",
    "    return sum(x for x, y in pairs(digits) if x == y)\n",
    "    \n",
    "solve_captcha(Input(1).read().strip())"
   ]
  },
  {
   "cell_type": "markdown",
   "metadata": {},
   "source": [
    "In **part 2** we shall compare the digit halfway around the circular list to the current one. The list has an even number of elements.\n",
    "\n",
    "This require N/2 token lookahead instad of one. I could have appended the first half of the list to the end, but instead I opted for a circular queue. A circular queue can be implicitely represented using indexes that wrap around; or explicitely using an [ADT](https://docs.python.org/3.6/library/collections.html?highlight=deque#collections.deque.rotate); or using operations on iterators. I choose the later.\n",
    "\n",
    "The [cycle()](https://docs.python.org/3.6/library/itertools.html#itertools.cycle) function provides an iterator to an infinite circular representation of the list. With [islice](https://docs.python.org/3.6/library/itertools.html#itertools.islice) I can select my start and end position in that list."
   ]
  },
  {
   "cell_type": "code",
   "execution_count": null,
   "metadata": {
    "collapsed": false
   },
   "outputs": [],
   "source": [
    "def pairs(seq):\n",
    "    N = len(seq)\n",
    "    half = int(N/2)\n",
    "    x = islice(cycle(seq), 0, N)\n",
    "    y = islice(cycle(seq), half, N + half)\n",
    "    return zip(x, y)\n",
    "\n",
    "def solve_captcha(str):\n",
    "    digits = [int(d) for d in str] \n",
    "    return sum(x for x, y in pairs(digits) if x == y)\n",
    "    \n",
    "solve_captcha(Input(1).read().strip())\n"
   ]
  },
  {
   "cell_type": "markdown",
   "metadata": {},
   "source": [
    "## [Day 2](http://adventofcode.com/2017/day/2): Corruption Checksum\n",
    "For each row in a spreadsheet, determine the difference between largest and smallest value; the checksum is the sum of all of these differences.\n",
    "\n",
    "I initially had some trouble parsing the input into a list of list of integers. It's been a while since I used Python."
   ]
  },
  {
   "cell_type": "code",
   "execution_count": null,
   "metadata": {
    "collapsed": false
   },
   "outputs": [],
   "source": [
    "def maxmins(spreadsheet):\n",
    "    for row in spreadsheet:\n",
    "        yield max(row), min(row)\n",
    "\n",
    "def parse(line):\n",
    "    return tuple(int(x) for x in line.split())\n",
    "\n",
    "spreadsheet = [parse(line) for line in Input(2)]\n",
    "sum(x-y for x,y in maxmins(spreadsheet))"
   ]
  },
  {
   "cell_type": "markdown",
   "metadata": {},
   "source": [
    "In **part 2** we're asked to find the only two numbers in each row where one evenly divides the other - that is, where the result of the division operation is a whole number. Find those numbers on each line, divide them, and add up each line's result."
   ]
  },
  {
   "cell_type": "code",
   "execution_count": null,
   "metadata": {
    "collapsed": false
   },
   "outputs": [],
   "source": [
    "def evens(spreadsheet):\n",
    "   for row in spreadsheet:\n",
    "        for x, y in permutations(row, 2):\n",
    "            if x % y == 0:\n",
    "                yield x, y\n",
    "                \n",
    "def parse(line):\n",
    "    return tuple(int(x) for x in line.split())\n",
    "\n",
    "spreadsheet = [parse(line) for line in Input(2)]\n",
    "sum(x/y for x,y in evens(spreadsheet))\n"
   ]
  },
  {
   "cell_type": "markdown",
   "metadata": {
    "collapsed": true
   },
   "source": [
    "## [Day 3](http://adventofcode.com/2017/day/3): Spiral Memory\n",
    "Walk a a grid in a spiral pattern, a specified number of steps. Then calculate the manhattan distance to the origin.\n",
    "\n",
    "The trace of steps will form a nested set of cubes. I tried to come up with a neat formula for describing how the the number of points in those cubes increases. Failed. Instead I experimented on paper and found that we increase the sides when we turn East and West.\n",
    "\n",
    "I decided to represent the points using x,y tuples. I considered using complex numbers first. The walk() function was originally a long list of explicit steps. I then extracted the common parts and ended up with the move and turn functions.\n",
    "\n",
    "Representing the direction as vectors (2 element tuples of x and y) and using vector addition was a heureka moment for me."
   ]
  },
  {
   "cell_type": "code",
   "execution_count": 5,
   "metadata": {
    "collapsed": false
   },
   "outputs": [
    {
     "data": {
      "text/plain": [
       "419"
      ]
     },
     "execution_count": 5,
     "metadata": {},
     "output_type": "execute_result"
    }
   ],
   "source": [
    "E, N, W, S = [(1, 0), (0, 1), (-1, 0), (0, -1)]    \n",
    "\n",
    "def move(pos, direction):\n",
    "    return (X(pos) + X(direction), Y(pos) + Y(direction))\n",
    "\n",
    "def turn(direction, num_steps):\n",
    "    changes = {\n",
    "        E : (N, 0),\n",
    "        N : (W, 1),\n",
    "        W : (S, 0),\n",
    "        S : (E, 1),\n",
    "    }\n",
    "    d, delta = changes[direction]\n",
    "    return d, num_steps + delta\n",
    "\n",
    "\n",
    "def walk(total_steps):\n",
    "    pos = (0, 0)\n",
    "    num_steps = 1\n",
    "    walked = 0\n",
    "    direction = E\n",
    "    \n",
    "    while total_steps > 0:\n",
    "        walked += 1\n",
    "        pos = move(pos, direction)\n",
    "        if walked == num_steps:\n",
    "            direction, num_steps = turn(direction, num_steps)\n",
    "            walked = 0\n",
    "\n",
    "        total_steps -= 1\n",
    "    return pos\n",
    "\n",
    "pos = walk(289326 - 1)\n",
    "\n",
    "cityblock_distance(pos)"
   ]
  },
  {
   "cell_type": "markdown",
   "metadata": {},
   "source": [
    "In **part 2** we're asked to, for each field, store the sum of previously visited fields, including diagonals. The center point has value 1. Once a field is written, its value doesn't change. \n",
    "\n",
    "I spent a lot of time trying to come up with a clever algorithm for determining which neighbors to a field was already visited. Then I had an euphyfany and realized that I could compare all 8 possible adjacent fields, if I had stored a mapping between visited fields and their sums. Determine the first value written that is larger than the puzzle input."
   ]
  },
  {
   "cell_type": "code",
   "execution_count": null,
   "metadata": {
    "collapsed": false
   },
   "outputs": [],
   "source": [
    "square_values = {}\n",
    "\n",
    "def neighbour_sum(pos, direction):\n",
    "    return sum(square_values[N] for N in neighbors8(pos) if N in square_values)\n",
    "   \n",
    "def walk(lower_limit):\n",
    "    pos = (0, 0)\n",
    "    square_values[pos] = 1\n",
    "    num_steps = 1\n",
    "    walked = 0\n",
    "    direction = E\n",
    "    \n",
    "    while square_values[pos] <= lower_limit:\n",
    "        walked += 1\n",
    "        pos = move(pos, direction)\n",
    "        square_values[pos] = neighbour_sum(pos, direction)\n",
    "        if walked == num_steps:\n",
    "            direction, num_steps = turn(direction, num_steps)\n",
    "            walked = 0\n",
    "    return square_values[pos]\n",
    "\n",
    "walk(289326)"
   ]
  },
  {
   "cell_type": "markdown",
   "metadata": {
    "collapsed": true
   },
   "source": [
    "## [Day 4](http://adventofcode.com/2017/day/4): High-Entropy Passphrases\n",
    "How many pass phrases are valid, a.k.a. do not contain duplicated words?"
   ]
  },
  {
   "cell_type": "code",
   "execution_count": null,
   "metadata": {
    "collapsed": false
   },
   "outputs": [],
   "source": [
    "lines = [L for L in Input(4)]\n",
    "\n",
    "def is_valid(line):\n",
    "    words = line.split()\n",
    "    return len(words) == len(set(words))\n",
    "\n",
    "sum(1 if is_valid(line) else 0 \n",
    "    for line in lines)"
   ]
  },
  {
   "cell_type": "markdown",
   "metadata": {},
   "source": [
    "In **part 2** we're asked how many passphrases are valid, this time with the added requirement that no words in the passphrase can be an anagram of another word.\n",
    "\n",
    "I remember this one from the chapter Aha! Algorithms in the book Programming Pearls. In that book, Jon meant that detecting anagrams is an example of an algorithm that people may bank their head against the wall with until they finally hits the insight. Thankfully, I was already familiar with it."
   ]
  },
  {
   "cell_type": "code",
   "execution_count": null,
   "metadata": {
    "collapsed": false
   },
   "outputs": [],
   "source": [
    "def is_valid(line):\n",
    "    words = [cat(sorted(w)) for w in line.split()]\n",
    "    return len(words) == len(set(words))\n",
    "\n",
    "sum(1 if is_valid(line) else 0\n",
    "     for line in lines)"
   ]
  },
  {
   "cell_type": "markdown",
   "metadata": {
    "collapsed": true
   },
   "source": [
    "## [Day 5](http://adventofcode.com/2017/day/5): A Maze of Twisty Trampolines, All Alike\n",
    "Given a list of relative jumps, determine the number of steps neccessary to reach a destination outside the list. There's a quirk: The jump instructions increment by one upon being visited.\n",
    "\n",
    "I first wrote this as a straightforward loop. Had one bug: I interpreted the jumps as absolute positions at first. I'm borrowing the quantify function which I found in Peter Norvigs 2017 Advent of Code solution Jupyter notebook."
   ]
  },
  {
   "cell_type": "code",
   "execution_count": null,
   "metadata": {
    "collapsed": false
   },
   "outputs": [],
   "source": [
    "def jumps(instr):\n",
    "    pos = 0\n",
    "    while pos >= 0 and pos < N:\n",
    "        old = pos\n",
    "        yield pos\n",
    "        pos += instr[pos]\n",
    "        instr[old] += 1\n",
    "    yield pos\n",
    "        \n",
    "quantify(jumps([int(x) for x in Input(5)]))"
   ]
  },
  {
   "cell_type": "markdown",
   "metadata": {
    "collapsed": true
   },
   "source": [
    "In **part 2** we're asked to again calculate number of steps. After each jump, if the offset was 3 or more, decrement it by 1 else increment it by 1.\n",
    "\n",
    "I wrote jumps2 as a function that returned the number of steps. Then I rewrote it to yield values instead. That caused the running time to increase from \"almost instant\" to 8s. Doh. Keeping it as-is, since I accidentily removed the original solution (and I don't understand how  Jupyter handles editing history - I want my vi editor instead of  this webbrowser madness!)"
   ]
  },
  {
   "cell_type": "code",
   "execution_count": null,
   "metadata": {
    "collapsed": false
   },
   "outputs": [],
   "source": [
    "def jumps2(instr):\n",
    "    pos = 0\n",
    "    while pos >= 0 and pos < N:\n",
    "        old = pos\n",
    "        yield pos\n",
    "        offset = instr[pos]\n",
    "        pos += instr[pos]\n",
    "        if offset >= 3:\n",
    "            instr[old] -= 1\n",
    "        else:\n",
    "            instr[old] += 1\n",
    "    yield pos\n",
    "\n",
    "quantify(jumps2([int(x) for x in Input(5)]))"
   ]
  },
  {
   "cell_type": "code",
   "execution_count": null,
   "metadata": {
    "collapsed": false
   },
   "outputs": [],
   "source": [
    "%timeit quantify(jumps2([int(x) for x in Input(5)]))"
   ]
  },
  {
   "cell_type": "markdown",
   "metadata": {
    "collapsed": true
   },
   "source": [
    "## [Day 6](http://adventofcode.com/2017/day/6): Memory Reallocation\n",
    "Determine how many cycles it takes before a previously seen permutation of the banks input is seen again.\n",
    "\n",
    "Let's start with reading the input"
   ]
  },
  {
   "cell_type": "code",
   "execution_count": null,
   "metadata": {
    "collapsed": false
   },
   "outputs": [],
   "source": [
    "def banks(): return [int(x) for x in Input(6).read().split()]\n",
    "banks()"
   ]
  },
  {
   "cell_type": "markdown",
   "metadata": {},
   "source": [
    "The task consists of three parts: find the bank with most blocks, redistribute those blocks, count how many cycles before we're encountering a permutation of banks that has been seen before. I represent each of these tasks with a separate function.\n",
    "\n",
    "The instructions for restributing the blocks involves a special case for resetting the source bank to zero and fiddly index manipulations. I would have liked to write that part in a closed form list comprehension but it looks clearer this way.\n",
    "\n",
    "The redistribute part is easier to do inplace with a list than a tuple, but the set requires a tuple as key. Can that be simplified?"
   ]
  },
  {
   "cell_type": "code",
   "execution_count": null,
   "metadata": {
    "collapsed": false
   },
   "outputs": [],
   "source": [
    "def most_blocks(banks):\n",
    "    b = max(banks)\n",
    "    return banks.index(b), b\n",
    "\n",
    "def redistribute(banks):\n",
    "    N = len(banks)\n",
    "    pos, val = most_blocks(banks)\n",
    "    banks[pos] = 0\n",
    "    banks[:] = [x + val // N for x in banks]\n",
    "    for x in range(pos+1, pos+1+ val % N):\n",
    "        banks[x % N] += 1\n",
    "    return tuple(banks)\n",
    "\n",
    "def count_cycles(banks):\n",
    "    history = {tuple(banks)}\n",
    "    for cycles in count_from(1):\n",
    "        result = redistribute(banks)\n",
    "        if result in history:\n",
    "            return cycles\n",
    "        history.add(result)\n",
    "\n",
    "count_cycles(banks())"
   ]
  },
  {
   "cell_type": "markdown",
   "metadata": {},
   "source": [
    "In **part 2** we're asked to find the number of cycles from the first duplicated permutation until the next time the same permutation is generated.\n",
    "\n",
    "I had hoped that I could just reuse the count_cycles() function from part 1, but I didn't manage to accomplish that."
   ]
  },
  {
   "cell_type": "code",
   "execution_count": null,
   "metadata": {
    "collapsed": false
   },
   "outputs": [],
   "source": [
    "def count_cycles2(banks):\n",
    "    history ={tuple(banks)}\n",
    "    prev = None\n",
    "    first_found = None\n",
    "    for cycles in count_from(1):\n",
    "        result = divide_between(banks)\n",
    "        if result == prev:\n",
    "            return cycles - first_found\n",
    "        if result in history and prev ==  None:\n",
    "            prev = result\n",
    "            first_found = cycles\n",
    "        history.add(result)\n",
    "count_cycles2(banks())"
   ]
  },
  {
   "cell_type": "markdown",
   "metadata": {
    "collapsed": true
   },
   "source": [
    "## [Day 7](http://adventofcode.com/2017/day/7): Recursive Circus\n",
    "TODO(dannas): Write description"
   ]
  },
  {
   "cell_type": "code",
   "execution_count": 21,
   "metadata": {
    "collapsed": false
   },
   "outputs": [
    {
     "data": {
      "text/plain": [
       "cyrupz (55) -> whbqia, sopjux, cfcdlh, wuluv, uwmocg, xtcpynj, qjvtm"
      ]
     },
     "execution_count": 21,
     "metadata": {},
     "output_type": "execute_result"
    }
   ],
   "source": [
    "class Node:\n",
    "    def __init__(self, name=\"\", parent=None, weight=0, children=None):\n",
    "        self.name = name\n",
    "        self.parent = parent\n",
    "        self.weight = weight\n",
    "        self.children = children if children else []\n",
    "    \n",
    "    def __str__(self):\n",
    "        children = ', '.join(c.name for c in self.children)\n",
    "        return '{} ({}) -> {}'.format(self.name, self.weight, children)\n",
    "    def __repr__(self):\n",
    "        return str(self)\n",
    "        \n",
    "def parse(line):\n",
    "    names = re.findall(r'[a-z]+', line)\n",
    "    weight = ints(line)[0]\n",
    "    return names[0], weight, names[1:]\n",
    "\n",
    "def build_tree(input):\n",
    "    tower = defaultdict(Node)\n",
    "    for name, weight, children in [parse(L.strip()) for L in input]:\n",
    "        for c in children:\n",
    "            tower[c].parent = tower[name]\n",
    "        tower[name].name = name\n",
    "        tower[name].weight = weight\n",
    "        tower[name].children = [tower[c] for c in children]\n",
    "    return tower\n",
    "\n",
    "def find_root(tree):\n",
    "    node = first(tree.values())\n",
    "    while node.parent:\n",
    "        node = node.parent\n",
    "    return node\n",
    "\n",
    "tower = build_tree(Input(7))\n",
    "find_root(tower)"
   ]
  },
  {
   "cell_type": "markdown",
   "metadata": {
    "collapsed": true
   },
   "source": [
    "In **part 2** we're asked to determine which single program has a weight that makes the tower unbalanced.\n",
    "\n",
    "The tower is naturally represented as a tree; each program can have only parent but many children and they're all rooted in one single base program. "
   ]
  },
  {
   "cell_type": "code",
   "execution_count": 23,
   "metadata": {
    "collapsed": false
   },
   "outputs": [
    {
     "name": "stdout",
     "output_type": "stream",
     "text": [
      "slzaeep ( edshwfr + emuysfg ) =  1023 (50, 50) + (50, 50)  =  (1023, 1123)\n",
      "hiotqxu ( ohlhl + lpweyw + fgfhom ) =  877 (82, 82) + (54, 82) + (22, 82)  =  (877, 1123)\n",
      "qppggd ( oxcth + enbtzt + ntidj + hmibku ) =  171 (74, 238) + (62, 238) + (214, 238) + (44, 238)  =  (171, 1123)\n",
      "iahug ( waangt + nqijykz + pnhmvd ) =  397 (46, 242) + (168, 242) + (242, 242)  =  (397, 1123)\n",
      "cwwwj ( pdxgf + ugyebr + tillos ) =  201 (236, 310) + (82, 310) + (262, 310)  =  (201, 1131)\n",
      "upfhsu ( jukhdvi + lilufvg + rodfe + hvigowx ) =  27 (116, 274) + (192, 274) + (116, 274) + (97, 274)  =  (27, 1123)\n",
      "jjlodie ( jtxvw + cjwnq + mtpbt ) =  46 (80, 359) + (191, 359) + (152, 359)  =  (46, 1123)\n"
     ]
    }
   ],
   "source": [
    "example_input = \"\"\"pbga (66)\n",
    "xhth (57)\n",
    "ebii (61)\n",
    "havc (66)\n",
    "ktlj (57)\n",
    "fwft (72) -> ktlj, cntj, xhth\n",
    "qoyq (66)\n",
    "padx (45) -> pbga, havc, qoyq\n",
    "tknk (41) -> ugml, padx, fwft\n",
    "jptl (61)\n",
    "ugml (68) -> gyxo, ebii, jptl\n",
    "gyxo (61)\n",
    "cntj (57)\"\"\"\n",
    "\n",
    "tower = build_tree(Input(7))\n",
    "import pprint\n",
    "root = find_root(tower)\n",
    "\n",
    "def tree_weight(node):\n",
    "    weight = node.weight\n",
    "    for c in node.children:\n",
    "        _, w = tree_weight(c)\n",
    "        weight += w\n",
    "    return node.weight, weight\n",
    "# qjvtm\n",
    "# boropxd 12154\n",
    "# cwwwj 1131 8 too much\n",
    "\n",
    "def print_subtree(root):\n",
    "    for c in root.children:\n",
    "        print(c.name, '(', ' + '.join(cc.name for cc in c.children), ') = ',\n",
    "                c.weight, ' + '.join(str(tree_weight(x)) for x in c.children),\n",
    "             ' = ', tree_weight(c))\n",
    "\n",
    "print_subtree(tower['boropxd'])\n",
    "\n",
    "def find_subtree(node):\n",
    "    w = [tree_weight for node.children]\n",
    "    # find subtrees with mismatch in sums\n",
    "    # Count how many of each sum\n",
    "    "
   ]
  },
  {
   "cell_type": "markdown",
   "metadata": {},
   "source": [
    "## [Day 8](http://adventofcode.com/2017/day/8): I Heard You Like Registers\n",
    "Given a list of unusual register instructions, what is the largest value in any register after completing the instructions?\n",
    "\n",
    "Each line contains a statement of two expressions. Let's start with parsing the lines. Note that array() returns ints or floats for numbers, not strings."
   ]
  },
  {
   "cell_type": "code",
   "execution_count": 10,
   "metadata": {
    "collapsed": false
   },
   "outputs": [
    {
     "data": {
      "text/plain": [
       "[['v', 'inc', 523.0, 'if', 't', '==', 6.0],\n",
       " ['qen', 'dec', -450.0, 'if', 'lht', '!=', 10.0],\n",
       " ['jyg', 'dec', -378.0, 'if', 'lb', '!=', -6.0],\n",
       " ['k', 'inc', -994.0, 'if', 'z', '<', 6.0],\n",
       " ['gjr', 'inc', -698.0, 'if', 'hbq', '<', 9.0]]"
      ]
     },
     "execution_count": 10,
     "metadata": {},
     "output_type": "execute_result"
    }
   ],
   "source": [
    "program = array(Input(8).read())\n",
    "program[:5]"
   ]
  },
  {
   "cell_type": "markdown",
   "metadata": {},
   "source": [
    "I started out with creating two functions; one for evaluating the conditional expression and one for the inc/dec expression. But I realized that they shared a lot of symmetry. Let's piggy-back on Pythons eval function."
   ]
  },
  {
   "cell_type": "code",
   "execution_count": 13,
   "metadata": {
    "collapsed": false
   },
   "outputs": [
    {
     "data": {
      "text/plain": [
       "True"
      ]
     },
     "execution_count": 13,
     "metadata": {},
     "output_type": "execute_result"
    }
   ],
   "source": [
    "def eval_expr(lhs, op, rhs):\n",
    "    expr = '{} {} {}'.format(lhs, op, rhs)\n",
    "    return eval(expr)\n",
    "\n",
    "eval_expr(1, '<', 2)"
   ]
  },
  {
   "cell_type": "markdown",
   "metadata": {},
   "source": [
    "I choose to represent the registers as a defaultdict, which will return 0 for unseen keys."
   ]
  },
  {
   "cell_type": "code",
   "execution_count": null,
   "metadata": {
    "collapsed": true
   },
   "outputs": [],
   "source": [
    "def run(program):\n",
    "    regs = defaultdict(int)\n",
    "    for dst, op, imm1, _, src, cmp, imm2 in program:\n",
    "        if eval_expr(regs[src], cmp, imm2):\n",
    "            regs[dst] = eval_expr(regs[dst], '+' if op == 'inc' else '-', imm1)\n",
    "    return max(regs.values())\n",
    "\n",
    "run(program)"
   ]
  },
  {
   "cell_type": "markdown",
   "metadata": {},
   "source": [
    "In **part 2** we're asked to find the highest value held in any register during this process.\n",
    "\n",
    "The highest value will be returned from eval_expr. I used a decorator for storing the largest return value."
   ]
  },
  {
   "cell_type": "code",
   "execution_count": 15,
   "metadata": {
    "collapsed": false
   },
   "outputs": [
    {
     "name": "stdout",
     "output_type": "stream",
     "text": [
      "3818.0\n"
     ]
    }
   ],
   "source": [
    "def record_max(f):\n",
    "    record_max.maxval = -1\n",
    "    def _f(*args):\n",
    "        ret = f(*args)\n",
    "        record_max.maxval = max(record_max.maxval, ret)\n",
    "        return ret\n",
    "    return _f\n",
    "\n",
    "@record_max\n",
    "def eval_expr(lhs, op, rhs):\n",
    "    expr = '{} {} {}'.format(lhs, op, rhs)\n",
    "    return eval(expr)\n",
    "\n",
    "run(program)\n",
    "print(record_max.maxval)"
   ]
  },
  {
   "cell_type": "markdown",
   "metadata": {},
   "source": [
    "## [Day 9](http://adventofcode.com/2017/day/9): Stream Processing\n",
    "TODO(dannas): Write description"
   ]
  },
  {
   "cell_type": "code",
   "execution_count": 34,
   "metadata": {
    "collapsed": false
   },
   "outputs": [
    {
     "data": {
      "text/plain": [
       "11347"
      ]
     },
     "execution_count": 34,
     "metadata": {},
     "output_type": "execute_result"
    }
   ],
   "source": [
    "def tokens(stream):\n",
    "    it = iter(stream)\n",
    "    for c in it:\n",
    "        if c == '<':\n",
    "            while c != '>':\n",
    "                if c == '!':\n",
    "                    next(it)\n",
    "                c = next(it)\n",
    "        else:\n",
    "            yield c\n",
    "        \n",
    "def scan_stream(stream):\n",
    "    score = 0\n",
    "    nesting = 0\n",
    "    for t in tokens2(stream):\n",
    "        if t == '{':\n",
    "            nesting += 1\n",
    "        elif t == '}':\n",
    "            score += nesting\n",
    "            nesting -= 1\n",
    "    return score\n",
    "\n",
    "scan_stream(Input(9).read())\n",
    "        "
   ]
  },
  {
   "cell_type": "markdown",
   "metadata": {},
   "source": [
    "In **part 2** we're asked to count how many non-canceled characters are within the garbage in the puzzle input."
   ]
  },
  {
   "cell_type": "code",
   "execution_count": 32,
   "metadata": {
    "collapsed": false
   },
   "outputs": [
    {
     "data": {
      "text/plain": [
       "5404"
      ]
     },
     "execution_count": 32,
     "metadata": {},
     "output_type": "execute_result"
    }
   ],
   "source": [
    "def garbage(stream):\n",
    "    N = 0\n",
    "    it = iter(stream)\n",
    "    for c in it:\n",
    "        if c == '<':\n",
    "            c = next(it)\n",
    "            while c != '>':\n",
    "                if c == '!':\n",
    "                    next(it)\n",
    "                else:\n",
    "                    N += 1\n",
    "                c = next(it)       \n",
    "    return N\n",
    "\n",
    "assert garbage(\"<random characters>\") == 17\n",
    "assert garbage(\"<{o\\\"i!a,<{i<a>\") == 10\n",
    "assert garbage(\"<<<<>\") == 3\n",
    "assert garbage(\"<{!>}>\") == 2\n",
    "assert garbage(\"<>\") == 0\n",
    "assert garbage(\"<!!>\") == 0\n",
    "assert garbage(\"<!!!>>\") == 0\n",
    "garbage(Input(9).read())\n"
   ]
  },
  {
   "cell_type": "markdown",
   "metadata": {
    "collapsed": true
   },
   "source": [
    "## [Day 10](http://adventofcode.com/2017/day/10): Knot Hash\n",
    "Calculate a hashsum given a list of lengths. The hash sum is calculated by first reversing spans whose lengths are determined by the input; then the sum is the result of multiplying the first two numbers in the list.\n",
    "\n",
    "That's a strange hashsum. But let's get to work. Here are the starting conditions according to the question:"
   ]
  },
  {
   "cell_type": "code",
   "execution_count": 9,
   "metadata": {
    "collapsed": false
   },
   "outputs": [],
   "source": [
    "#N = 256\n",
    "#numbers = list(range(0, N))\n",
    "#lengths = [70, 66, 255, 2, 48, 0, 54, 48, 80, 141, 244, 254, 160, 108, 1, 41]\n",
    "\n",
    "N = 5\n",
    "numbers = list(range(0, 5))\n",
    "lengths = [3, 4,  1,  5]\n",
    "skip_size = 0\n",
    "pos = 0\n",
    "\n",
    "def distance(x, y, length):\n",
    "    \n",
    "\n",
    "for L in lengths:\n",
    "    b = pos\n",
    "    e = (pos + L -1) % N\n",
    "    \n",
    "    \n",
    "    \n",
    "    "
   ]
  },
  {
   "cell_type": "markdown",
   "metadata": {},
   "source": [
    "I can reverse a subpart of a list. But how reverse a subpart that spans the end of the list?\n",
    "Should I copy? Or can I take advantage of pythons negative  index notation?"
   ]
  },
  {
   "cell_type": "code",
   "execution_count": 56,
   "metadata": {
    "collapsed": false
   },
   "outputs": [
    {
     "name": "stdout",
     "output_type": "stream",
     "text": [
      "deque([0, 1, 2, 3, 4]) 3\n",
      "1 2\n",
      "2 1\n",
      "deque([1, 0, 4, 3, 2]) 4\n",
      "1 3\n",
      "2 2\n",
      "deque([2, 3, 4, 0, 1]) 1\n",
      "1 0\n",
      "deque([4, 0, 1, 3, 2]) 5\n"
     ]
    },
    {
     "ename": "IndexError",
     "evalue": "deque index out of range",
     "output_type": "error",
     "traceback": [
      "\u001b[0;31m---------------------------------------------------------------------------\u001b[0m",
      "\u001b[0;31mIndexError\u001b[0m                                Traceback (most recent call last)",
      "\u001b[0;32m<ipython-input-56-59240dd36d30>\u001b[0m in \u001b[0;36m<module>\u001b[0;34m()\u001b[0m\n\u001b[1;32m     16\u001b[0m \u001b[0;32mfor\u001b[0m \u001b[0mL\u001b[0m \u001b[0;32min\u001b[0m \u001b[0mlengths\u001b[0m\u001b[0;34m:\u001b[0m\u001b[0;34m\u001b[0m\u001b[0m\n\u001b[1;32m     17\u001b[0m     \u001b[0mprint\u001b[0m\u001b[0;34m(\u001b[0m\u001b[0mnumbers\u001b[0m\u001b[0;34m,\u001b[0m \u001b[0mL\u001b[0m\u001b[0;34m)\u001b[0m\u001b[0;34m\u001b[0m\u001b[0m\n\u001b[0;32m---> 18\u001b[0;31m     \u001b[0mreverse\u001b[0m\u001b[0;34m(\u001b[0m\u001b[0mnumbers\u001b[0m\u001b[0;34m,\u001b[0m \u001b[0;36m0\u001b[0m\u001b[0;34m,\u001b[0m \u001b[0mL\u001b[0m\u001b[0;34m)\u001b[0m\u001b[0;34m\u001b[0m\u001b[0m\n\u001b[0m\u001b[1;32m     19\u001b[0m     \u001b[0mnumbers\u001b[0m\u001b[0;34m.\u001b[0m\u001b[0mrotate\u001b[0m\u001b[0;34m(\u001b[0m\u001b[0mL\u001b[0m \u001b[0;34m+\u001b[0m \u001b[0mskip_size\u001b[0m\u001b[0;34m)\u001b[0m\u001b[0;34m\u001b[0m\u001b[0m\n\u001b[1;32m     20\u001b[0m     \u001b[0msteps_rotated\u001b[0m \u001b[0;34m+=\u001b[0m \u001b[0mL\u001b[0m \u001b[0;34m+\u001b[0m \u001b[0mskip_size\u001b[0m\u001b[0;34m\u001b[0m\u001b[0m\n",
      "\u001b[0;32m<ipython-input-56-59240dd36d30>\u001b[0m in \u001b[0;36mreverse\u001b[0;34m(seq, b, e)\u001b[0m\n\u001b[1;32m      2\u001b[0m     \u001b[0;32mwhile\u001b[0m \u001b[0mb\u001b[0m \u001b[0;34m<\u001b[0m \u001b[0me\u001b[0m\u001b[0;34m:\u001b[0m\u001b[0;34m\u001b[0m\u001b[0m\n\u001b[1;32m      3\u001b[0m         \u001b[0mt\u001b[0m \u001b[0;34m=\u001b[0m \u001b[0mseq\u001b[0m\u001b[0;34m[\u001b[0m\u001b[0mb\u001b[0m\u001b[0;34m]\u001b[0m\u001b[0;34m\u001b[0m\u001b[0m\n\u001b[0;32m----> 4\u001b[0;31m         \u001b[0mseq\u001b[0m\u001b[0;34m[\u001b[0m\u001b[0mb\u001b[0m\u001b[0;34m]\u001b[0m \u001b[0;34m=\u001b[0m \u001b[0mseq\u001b[0m\u001b[0;34m[\u001b[0m\u001b[0me\u001b[0m\u001b[0;34m]\u001b[0m\u001b[0;34m\u001b[0m\u001b[0m\n\u001b[0m\u001b[1;32m      5\u001b[0m         \u001b[0mseq\u001b[0m\u001b[0;34m[\u001b[0m\u001b[0me\u001b[0m\u001b[0;34m]\u001b[0m \u001b[0;34m=\u001b[0m \u001b[0mt\u001b[0m\u001b[0;34m\u001b[0m\u001b[0m\n\u001b[1;32m      6\u001b[0m         \u001b[0mb\u001b[0m \u001b[0;34m+=\u001b[0m \u001b[0;36m1\u001b[0m\u001b[0;34m\u001b[0m\u001b[0m\n",
      "\u001b[0;31mIndexError\u001b[0m: deque index out of range"
     ]
    }
   ],
   "source": [
    "def reverse(seq, b, e):\n",
    "    while b < e:\n",
    "        t = seq[b]\n",
    "        seq[b] = seq[e]\n",
    "        seq[e] = t\n",
    "        b += 1\n",
    "        e -= 1\n",
    "        print(b, e)\n",
    "pos = 0\n",
    "skip_size = 0\n",
    "lengths = [3, 4, 1, 5]\n",
    "steps_rotated = 0\n",
    "N = 5\n",
    "numbers = deque(range(N))\n",
    "\n",
    "for L in lengths:\n",
    "    print(numbers, L)\n",
    "    reverse(numbers, 0, L)\n",
    "    numbers.rotate(L + skip_size)\n",
    "    steps_rotated += L + skip_size\n",
    "    skip_size += 1\n",
    "numbers.rotate(-steps_rotated)\n",
    "numbers"
   ]
  },
  {
   "cell_type": "markdown",
   "metadata": {},
   "source": [
    "## [Day 11](http://adventofcode.com/2017/day/11): Hex Ed\n",
    "TODO(dannas): Write description"
   ]
  },
  {
   "cell_type": "code",
   "execution_count": 13,
   "metadata": {
    "collapsed": false
   },
   "outputs": [
    {
     "name": "stdout",
     "output_type": "stream",
     "text": [
      "(473, 891)\n"
     ]
    },
    {
     "data": {
      "text/plain": [
       "683"
      ]
     },
     "execution_count": 13,
     "metadata": {},
     "output_type": "execute_result"
    }
   ],
   "source": [
    "directions = dict(s=(0, -2), sw=(-1, -1), se=(1, -1), n=(0, 2), nw=(-1, 1), ne=(1, 1))\n",
    "\n",
    "def bfs(goal, startpos):\n",
    "    visited = set()\n",
    "    queue = deque()\n",
    "    queue.append([startpos])\n",
    "    while queue:\n",
    "        steps = queue.popleft()\n",
    "        for name, d in directions.items():\n",
    "            newpos = move(steps[-1], d)\n",
    "            if newpos not in visited:\n",
    "                visited.add(newpos)\n",
    "                newlist = steps + [newpos]\n",
    "                if newpos == goal:\n",
    "                    return newlist\n",
    "                queue.append(newlist)\n",
    "            \n",
    "def walk(steps):\n",
    "    pos = (0, 0)\n",
    "    for d in steps:\n",
    "        pos = move(pos, directions[d])\n",
    "    return pos\n",
    "\n",
    "#walk('ne,ne,ne'.split(','))\n",
    "#walk('ne,ne,s,s'.split(','))\n",
    "goal = walk(Input(11).read().strip().split(','))\n",
    "print(goal)\n",
    "path = bfs(goal, (0, 0))\n",
    "len(path) - 1"
   ]
  },
  {
   "cell_type": "markdown",
   "metadata": {
    "collapsed": true
   },
   "source": [
    "In **part 2** we're asked how many steps away he is as furthest from the starting position.\n",
    "\n",
    "Now I can't rely on a brute force search. I'll have to figure out how to calculate the distance function for hex grids.\n",
    "\n",
    "TODO(dannas): Solve part 2."
   ]
  },
  {
   "cell_type": "code",
   "execution_count": 14,
   "metadata": {
    "collapsed": false
   },
   "outputs": [
    {
     "data": {
      "text/plain": [
       "(473, 891)"
      ]
     },
     "execution_count": 14,
     "metadata": {},
     "output_type": "execute_result"
    }
   ],
   "source": [
    "walk(Input(11).read().strip().split(','))"
   ]
  },
  {
   "cell_type": "code",
   "execution_count": 21,
   "metadata": {
    "collapsed": false
   },
   "outputs": [
    {
     "name": "stdout",
     "output_type": "stream",
     "text": [
      "0\n",
      "(473, 473)\n",
      "418\n",
      "891\n"
     ]
    }
   ],
   "source": [
    "pos = (0, 0)\n",
    "print(X(pos))\n",
    "while X(pos) < 473:\n",
    "    pos = move(pos, directions['ne'])\n",
    "print(pos)\n",
    "print(891 - Y(pos))\n",
    "print(473 + 418)"
   ]
  },
  {
   "cell_type": "code",
   "execution_count": 3,
   "metadata": {
    "collapsed": false
   },
   "outputs": [
    {
     "data": {
      "text/plain": [
       "829"
      ]
     },
     "execution_count": 3,
     "metadata": {},
     "output_type": "execute_result"
    }
   ],
   "source": [
    "def L(pos):\n",
    "    return pos[0]\n",
    "def U(pos):\n",
    "    return pos[1]\n",
    "def R(pos):\n",
    "    return pos[2]\n",
    "\n",
    "def move(pos, direction):\n",
    "    return (L(pos) + L(direction), U(pos) + U(direction), R(pos) + R(direction))\n",
    "\n",
    "def walk(steps):\n",
    "    # left, up, right\n",
    "    pos = (0, 0, 0)\n",
    "    path = [pos]\n",
    "    directions = dict(s=(0, -1, 0), sw=(0, -1, -1), se=(-1, -1,  0), n=(0, 1,  0), nw=(1, 1, 0), ne=(0, 1, 1))\n",
    "    for d in steps:\n",
    "        pos = move(pos, directions[d])\n",
    "        path.append(pos)\n",
    "    return path\n",
    "\n",
    "\n",
    "path = walk(Input(11).read().strip().split(','))\n",
    "\n",
    "def hexgrid_distance(p, q=(0, 0, 0)):\n",
    "    diff = (L(p) - L(q), U(p) - U(q), R(p) - R(q))\n",
    "    return max(mapt(abs, (diff)))\n",
    "\n",
    "max(path, key=hexgrid_distance)\n"
   ]
  },
  {
   "cell_type": "markdown",
   "metadata": {
    "collapsed": true
   },
   "source": [
    "## [Day 12](http://adventofcode.com/2017/day/12): Digital Plumber\n",
    "We are given a list of connections between \"programs\". Find out how many programs are reachable from the program with id 0?\n",
    "\n",
    "This sounds like a good fit for the union-find algorithm. Start with identifying the largest id."
   ]
  },
  {
   "cell_type": "code",
   "execution_count": 29,
   "metadata": {
    "collapsed": false
   },
   "outputs": [
    {
     "data": {
      "text/plain": [
       "1999"
      ]
     },
     "execution_count": 29,
     "metadata": {},
     "output_type": "execute_result"
    }
   ],
   "source": [
    "N = max(x for L in Input(12) for x in ints(line))\n",
    "N"
   ]
  },
  {
   "cell_type": "markdown",
   "metadata": {},
   "source": [
    "Create an id array with N+1 elements. The value at each position represents the group id. So a[0] = 42 means that 0 belongs to group 42."
   ]
  },
  {
   "cell_type": "code",
   "execution_count": 33,
   "metadata": {
    "collapsed": false
   },
   "outputs": [],
   "source": [
    "a = list(range(0, N+1))\n",
    "\n",
    "def find(a, x):\n",
    "    return a[x]\n",
    "\n",
    "def union(a, x, y):\n",
    "    px = find(a,x)\n",
    "    py = find(a, y)\n",
    "    if px ==  py:\n",
    "        return\n",
    "    for i in range(0, N+1):\n",
    "        if a[i] == px:\n",
    "            a[i] = py"
   ]
  },
  {
   "cell_type": "markdown",
   "metadata": {},
   "source": [
    "Loop over pairs and call union on them."
   ]
  },
  {
   "cell_type": "code",
   "execution_count": 34,
   "metadata": {
    "collapsed": false
   },
   "outputs": [
    {
     "data": {
      "text/plain": [
       "239"
      ]
     },
     "execution_count": 34,
     "metadata": {},
     "output_type": "execute_result"
    }
   ],
   "source": [
    "def parse(line):\n",
    "    x, neighbors = line.split('<->')\n",
    "    for n in neighbors.split(', '):\n",
    "        yield int(x), int(n)\n",
    "\n",
    "for x, y in (pair for line in Input(12) for pair in parse(line)):\n",
    "    union(a, x, y)\n",
    "\n",
    "len([x for x in a if x == a[0]])"
   ]
  },
  {
   "cell_type": "markdown",
   "metadata": {
    "collapsed": true
   },
   "source": [
    "In **part 2** we're asked how many groups are there in total?\n",
    "\n",
    "That would be the number of unique group ids."
   ]
  },
  {
   "cell_type": "code",
   "execution_count": 31,
   "metadata": {
    "collapsed": false
   },
   "outputs": [
    {
     "data": {
      "text/plain": [
       "215"
      ]
     },
     "execution_count": 31,
     "metadata": {},
     "output_type": "execute_result"
    }
   ],
   "source": [
    "len(set(a))"
   ]
  },
  {
   "cell_type": "markdown",
   "metadata": {
    "collapsed": true
   },
   "source": [
    "## [Day 13](http://adventofcode.com/2017/day/13): Packet Scanners\n",
    "\n",
    "Return the severity, defined as the sum of layer*depth, of getting through a firewall."
   ]
  },
  {
   "cell_type": "code",
   "execution_count": 35,
   "metadata": {
    "collapsed": false
   },
   "outputs": [
    {
     "data": {
      "text/plain": [
       "1876"
      ]
     },
     "execution_count": 35,
     "metadata": {},
     "output_type": "execute_result"
    }
   ],
   "source": [
    "def is_caught(num_steps, layer_range):\n",
    "    if layer_range <= 2:\n",
    "        return (num_steps % layer_range) == 0\n",
    "    return num_steps % (layer_range + layer_range - 2) == 0\n",
    "\n",
    "def caught_at(layers):\n",
    "    return (kv for kv in layers if is_caught(*kv))\n",
    "\n",
    "layers = [ints(L) for L in Input(13)]    \n",
    "sum(layer * depth for layer, depth in caught_at(layers))"
   ]
  },
  {
   "cell_type": "markdown",
   "metadata": {
    "collapsed": true
   },
   "source": [
    "In **part 2** we're tasked with finding the fewest number of picoseconds that we need to delay the packets to pass through the firewall without getting caught.\n",
    "\n",
    "I was mislead by the long time taken for this calculation and aborted it prematurely."
   ]
  },
  {
   "cell_type": "code",
   "execution_count": 34,
   "metadata": {
    "collapsed": false
   },
   "outputs": [
    {
     "data": {
      "text/plain": [
       "3964778"
      ]
     },
     "execution_count": 34,
     "metadata": {},
     "output_type": "execute_result"
    }
   ],
   "source": [
    "def find_delay(layers):\n",
    "    for delay in count_from(0):\n",
    "        path = [(k+delay, v) for k, v in layers]\n",
    "        if quantify(kv for kv in caught_at(path)) == 0:\n",
    "            return delay\n",
    "        \n",
    "find_delay(layers)"
   ]
  },
  {
   "cell_type": "code",
   "execution_count": null,
   "metadata": {
    "collapsed": true
   },
   "outputs": [],
   "source": []
  }
 ],
 "metadata": {
  "kernelspec": {
   "display_name": "Python 3",
   "language": "python",
   "name": "python3"
  },
  "language_info": {
   "codemirror_mode": {
    "name": "ipython",
    "version": 3
   },
   "file_extension": ".py",
   "mimetype": "text/x-python",
   "name": "python",
   "nbconvert_exporter": "python",
   "pygments_lexer": "ipython3",
   "version": "3.5.3"
  }
 },
 "nbformat": 4,
 "nbformat_minor": 2
}
